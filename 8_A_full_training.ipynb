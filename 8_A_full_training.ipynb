{
  "cells": [
    {
      "cell_type": "markdown",
      "metadata": {
        "id": "iEHoC-raAKwt"
      },
      "source": [
        "# A full training"
      ]
    },
    {
      "cell_type": "markdown",
      "metadata": {
        "id": "0n92QuPYAKw4"
      },
      "source": [
        "Install the Transformers, Datasets, and Evaluate libraries to run this notebook."
      ]
    },
    {
      "cell_type": "code",
      "execution_count": null,
      "metadata": {
        "id": "mWgDkPA7AKw6"
      },
      "outputs": [],
      "source": [
        "!pip install datasets evaluate transformers[sentencepiece]\n",
        "!pip install accelerate\n",
        "# To run the training on TPU, you will need to uncomment the following line:\n",
        "# !pip install cloud-tpu-client==0.10 torch==1.9.0 https://storage.googleapis.com/tpu-pytorch/wheels/torch_xla-1.9-cp37-cp37m-linux_x86_64.whl"
      ]
    },
    {
      "cell_type": "code",
      "execution_count": 18,
      "metadata": {
        "colab": {
          "base_uri": "https://localhost:8080/",
          "height": 49,
          "referenced_widgets": [
            "3e9ce59f748b4976886725abdad2a9d3",
            "2a423d74df124716accaf60aea0f7d88",
            "c23fbd264b434eda8b21a7b25e13aa41",
            "3978f1ac45e94829bf7cb551fff802b3",
            "1698de88171f45a1aae52051bed913c1",
            "20bb7a86cbf84e46b8b57d2184166404",
            "afa3f6dc605d4e2da47f662812506278",
            "7782ceb9e2e44c7e9efb5c050c30a83f",
            "1672e2722e084f7993fbaa2e22e75721",
            "b8774ac99c264a3084970ae61f19ba72",
            "ddb7733187224e5aaf4c956c9707b8ed"
          ]
        },
        "id": "Knz8PdUKAKw-",
        "outputId": "766bb7ad-a49e-43dc-f8e9-571d6f5f570c"
      },
      "outputs": [
        {
          "output_type": "display_data",
          "data": {
            "text/plain": [
              "Map:   0%|          | 0/408 [00:00<?, ? examples/s]"
            ],
            "application/vnd.jupyter.widget-view+json": {
              "version_major": 2,
              "version_minor": 0,
              "model_id": "3e9ce59f748b4976886725abdad2a9d3"
            }
          },
          "metadata": {}
        }
      ],
      "source": [
        "from datasets import load_dataset\n",
        "from transformers import AutoTokenizer, DataCollatorWithPadding\n",
        "\n",
        "raw_datasets = load_dataset(\"glue\", \"mrpc\")\n",
        "checkpoint = \"bert-base-uncased\"\n",
        "tokenizer = AutoTokenizer.from_pretrained(checkpoint)\n",
        "\n",
        "# checkpoint — задает модель, для которой будет загружен токенизатор (BERT-base без учета регистра).\n",
        "# AutoTokenizer.from_pretrained(checkpoint) — автоматически загружает токенизатор для указанной модели.\n",
        "# Преобразует текст в токены (например, \"Hello world!\" → [\"hello\", \"world\", \"!\"]).\n",
        "# Преобразует токены в числовые идентификаторы (ID), понятные модели.\n",
        "# Добавляет специальные токены ([CLS], [SEP]) для модели BERT.\n",
        "\n",
        "def tokenize_function(example):\n",
        "    return tokenizer(example[\"sentence1\"], example[\"sentence2\"], truncation=True)\n",
        "\n",
        "\n",
        "tokenized_datasets = raw_datasets.map(tokenize_function, batched=True)\n",
        "data_collator = DataCollatorWithPadding(tokenizer=tokenizer)"
      ]
    },
    {
      "cell_type": "markdown",
      "source": [
        "Пример работы токенизатора:\n",
        "```\n",
        "example = {\"sentence1\": \"This is a sentence.\", \"sentence2\": \"This is another sentence.\"}\n",
        "tokenize_function(example)\n",
        "```\n",
        "Выход:\n",
        "```\n",
        "{\n",
        "    'input_ids': [101, 2023, 2003, 1037, 6251, 1012, 102, 2023, 2003, 2178, 6251, 1012, 102],\n",
        "    'token_type_ids': [0, 0, 0, 0, 0, 0, 0, 1, 1, 1, 1, 1, 1],  # Маркировка двух предложений\n",
        "    'attention_mask': [1, 1, 1, 1, 1, 1, 1, 1, 1, 1, 1, 1, 1]\n",
        "}\n",
        "```\n",
        "- input_ids — числовые идентификаторы токенов.\n",
        "- token_type_ids — указывает, какие токены принадлежат какому предложению (0 — первое, 1 — второе).\n",
        "- attention_mask — маска для обозначения важных токенов (1) и паддинга (0)."
      ],
      "metadata": {
        "id": "EyRqTckE5gK2"
      }
    },
    {
      "cell_type": "markdown",
      "source": [
        "- batched=True означает, что функция получает сразу пакет примеров (batch), а не по одному, что ускоряет обработку."
      ],
      "metadata": {
        "id": "ElMPBgQ86O92"
      }
    },
    {
      "cell_type": "markdown",
      "source": [
        "- DataCollatorWithPadding автоматически добавляет паддинг к разной длины входным данным в батче.\n",
        "Это полезно, так как предложения в датасете могут иметь разную длину, а модели требуют одинаковых размеров входов."
      ],
      "metadata": {
        "id": "GOn6H8EZ6c71"
      }
    },
    {
      "cell_type": "code",
      "execution_count": 19,
      "metadata": {
        "colab": {
          "base_uri": "https://localhost:8080/"
        },
        "id": "4_itr1_uAKw_",
        "outputId": "bdf9ce56-a7b8-496b-b7b3-7b188d70b4f7"
      },
      "outputs": [
        {
          "output_type": "execute_result",
          "data": {
            "text/plain": [
              "['labels', 'input_ids', 'token_type_ids', 'attention_mask']"
            ]
          },
          "metadata": {},
          "execution_count": 19
        }
      ],
      "source": [
        "tokenized_datasets = tokenized_datasets.remove_columns([\"sentence1\", \"sentence2\", \"idx\"])\n",
        "tokenized_datasets = tokenized_datasets.rename_column(\"label\", \"labels\")\n",
        "tokenized_datasets.set_format(\"torch\")\n",
        "tokenized_datasets[\"train\"].column_names"
      ]
    },
    {
      "cell_type": "code",
      "execution_count": 20,
      "metadata": {
        "id": "bFUHt0joAKxE"
      },
      "outputs": [],
      "source": [
        "from torch.utils.data import DataLoader\n",
        "\n",
        "train_dataloader = DataLoader(\n",
        "    tokenized_datasets[\"train\"], shuffle=True, batch_size=8, collate_fn=data_collator\n",
        ")\n",
        "eval_dataloader = DataLoader(\n",
        "    tokenized_datasets[\"validation\"], batch_size=8, collate_fn=data_collator\n",
        ")"
      ]
    },
    {
      "cell_type": "markdown",
      "source": [
        "мпортируется класс `DataLoader` из модуля `torch.utils.data`, который помогает разбивать датасет на батчи и перемешивать данные для обучения.  \n",
        "1. Создание загрузчика для обучающего набора\n",
        "```\n",
        "train_dataloader = DataLoader(\n",
        "    tokenized_datasets[\"train\"], shuffle=True, batch_size=8, collate_fn=data_collator\n",
        ")\n",
        "```\n",
        "- Используется обучающая часть токенизированного датасета tokenized_datasets[\"train\"].  \n",
        "- shuffle=True: данные перемешиваются перед формированием батчей, что помогает модели лучше обучаться.  \n",
        "- batch_size=8: размер каждого батча равен 8 примерам.  \n",
        "- collate_fn=data_collator: функция, которая автоматически дополняет (padding) данные до одинаковой длины внутри батча.\n",
        "\n",
        "2. Создание загрузчика для валидационного набора  \n",
        "```\n",
        "eval_dataloader = DataLoader(\n",
        "    tokenized_datasets[\"validation\"], batch_size=8, collate_fn=data_collator\n",
        ")\n",
        "```\n",
        "Здесь аналогично создается загрузчик для валидационного датасета tokenized_datasets[\"validation\"].\n",
        "Данные не перемешиваются (по умолчанию shuffle=False), поскольку при валидации важна последовательность примеров.\n",
        "Размер батча и функция collate_fn аналогичны обучающему набору."
      ],
      "metadata": {
        "id": "HvUqWRtw68Tv"
      }
    },
    {
      "cell_type": "code",
      "execution_count": 21,
      "metadata": {
        "colab": {
          "base_uri": "https://localhost:8080/"
        },
        "id": "uoQlUF8GAKxF",
        "outputId": "75984da9-07ae-44c5-b4f1-413f69dce135"
      },
      "outputs": [
        {
          "output_type": "execute_result",
          "data": {
            "text/plain": [
              "{'labels': torch.Size([8]),\n",
              " 'input_ids': torch.Size([8, 69]),\n",
              " 'token_type_ids': torch.Size([8, 69]),\n",
              " 'attention_mask': torch.Size([8, 69])}"
            ]
          },
          "metadata": {},
          "execution_count": 21
        }
      ],
      "source": [
        "for batch in train_dataloader:\n",
        "    break\n",
        "{k: v.shape for k, v in batch.items()}"
      ]
    },
    {
      "cell_type": "markdown",
      "source": [
        "Этот цикл берет первый батч из train_dataloader и сразу выходит (break).  \n",
        "Вывод формы тензоров в батче\n",
        "```{k: v.shape for k, v in batch.items()}```  \n",
        "- batch — это словарь, содержащий тензоры с данными (например, input_ids, attention_mask, token_type_ids, labels).\n",
        "Словарь раскладывается в формате `{ключ: форма_тензора}`, чтобы показать размеры всех тензоров."
      ],
      "metadata": {
        "id": "Q_t_e9ON710h"
      }
    },
    {
      "cell_type": "markdown",
      "source": [
        "мы используем batch_size=8, тогда вывод:\n",
        "```\n",
        "{\n",
        "    'input_ids': torch.Size([8, 128]),\n",
        "    'attention_mask': torch.Size([8, 128]),\n",
        "    'token_type_ids': torch.Size([8, 128]),\n",
        "    'labels': torch.Size([8])\n",
        "}\n",
        "```\n",
        "- [8, 128] означает, что в батче 8 примеров, каждый имеет последовательность длиной 128 токенов.\n",
        "- labels (метки классов) имеет размер [8], так как для каждого примера есть одно число (0 или 1 в задаче MRPC)."
      ],
      "metadata": {
        "id": "z-9Yk2kT8LuP"
      }
    },
    {
      "cell_type": "markdown",
      "source": [
        "Оператор `break` используется здесь, чтобы остановить цикл после первой итерации, то есть получить только первый батч из train_dataloader и не обрабатывать весь датасет."
      ],
      "metadata": {
        "id": "irzqlTZR8hgP"
      }
    },
    {
      "cell_type": "code",
      "execution_count": 22,
      "metadata": {
        "colab": {
          "base_uri": "https://localhost:8080/"
        },
        "id": "HhfQtKzCAKxI",
        "outputId": "807dffc8-912a-4082-8028-44d0b09b34e8"
      },
      "outputs": [
        {
          "output_type": "stream",
          "name": "stderr",
          "text": [
            "Some weights of BertForSequenceClassification were not initialized from the model checkpoint at bert-base-uncased and are newly initialized: ['classifier.bias', 'classifier.weight']\n",
            "You should probably TRAIN this model on a down-stream task to be able to use it for predictions and inference.\n"
          ]
        }
      ],
      "source": [
        "from transformers import AutoModelForSequenceClassification\n",
        "\n",
        "model = AutoModelForSequenceClassification.from_pretrained(checkpoint, num_labels=2)"
      ]
    },
    {
      "cell_type": "code",
      "execution_count": 23,
      "metadata": {
        "colab": {
          "base_uri": "https://localhost:8080/"
        },
        "id": "aSEKXWZoAKxJ",
        "outputId": "e08d9588-1f33-4a4b-bc97-3ef72ee95c47"
      },
      "outputs": [
        {
          "output_type": "stream",
          "name": "stdout",
          "text": [
            "tensor(0.6783, grad_fn=<NllLossBackward0>) torch.Size([8, 2])\n"
          ]
        }
      ],
      "source": [
        "outputs = model(**batch)\n",
        "print(outputs.loss, outputs.logits.shape)"
      ]
    },
    {
      "cell_type": "markdown",
      "source": [
        "мы передаем батч данных в модель.\n",
        "- **batch — это распаковка словаря (batch содержит input_ids, attention_mask, token_type_ids и labels).  \n",
        "- model(**batch) эквивалентно model(input_ids=batch[\"input_ids\"], attention_mask=batch[\"attention_mask\"], labels=batch[\"labels\"]).  \n",
        "Выход модели (outputs) — это объект SequenceClassifierOutput, содержащий:\n",
        "- loss (если передан labels).\n",
        "- logits (сырые предсказания модели).  \n",
        "\n",
        "- `outputs.loss` - loss (функция потерь) будет в outputs только если переданы labels.\n",
        "В задаче бинарной классификации (MRPC) используется CrossEntropyLoss.\n",
        "Значение loss — это одно число (torch.Tensor), например:\n",
        "`tensor(0.6931, grad_fn=<NllLossBackward>)`  \n",
        "Используется для обратного распространения ошибки (loss.backward())."
      ],
      "metadata": {
        "id": "-2vLkNv280_u"
      }
    },
    {
      "cell_type": "markdown",
      "source": [
        "- `outputs.logits.shape` logits — это сырые выходы модели перед softmax.\n",
        "Форма logits.shape: `torch.Size([batch_size, num_labels])`\n",
        "Например, если batch_size=8 и num_labels=2: `torch.Size([8, 2])`\n",
        "Это по 2 логита (одно число на каждый класс) для каждого из 8 примеров в батче."
      ],
      "metadata": {
        "id": "DsgAKM5x9US2"
      }
    },
    {
      "cell_type": "markdown",
      "source": [
        "Чтобы `получить вероятности классов`, нужно применить softmax:\n",
        "```\n",
        "import torch\n",
        "probabilities = torch.softmax(outputs.logits, dim=1)\n",
        "```"
      ],
      "metadata": {
        "id": "2-Av7kSD9rsI"
      }
    },
    {
      "cell_type": "markdown",
      "source": [
        "Мы почти готовы написать наш цикл обучения! Нам не хватает только двух вещей: оптимизатора и планировщика скорости обучения. Поскольку мы пытаемся вручную повторить то, что делал Trainer, мы будем использовать те же значения по умолчанию. Оптимизатор, используемый Trainer, — AdamW, который является тем же самым, что и Adam, но с изюминкой для регуляризации распада веса (см. «Decoupled Weight Decay Regularization» Ильи Лощилова и Фрэнка Хаттера):"
      ],
      "metadata": {
        "id": "Yogc8648__tY"
      }
    },
    {
      "cell_type": "code",
      "execution_count": 24,
      "metadata": {
        "id": "J2vucfiMAKxK"
      },
      "outputs": [],
      "source": [
        "# from transformers import AdamW\n",
        "from torch.optim import AdamW  # Используем PyTorch версию\n",
        "optimizer = AdamW(model.parameters(), lr=5e-5)"
      ]
    },
    {
      "cell_type": "markdown",
      "source": [
        "Наконец, планировщик скорости обучения, используемый по умолчанию, представляет собой просто линейный спад от максимального значения (5e-5) до 0. Чтобы правильно его определить, нам нужно знать количество шагов обучения, которые мы сделаем, то есть количество эпох, которые мы хотим запустить, умноженное на количество партий обучения (что является длиной нашего загрузчика данных обучения). Тренер использует три эпохи по умолчанию, поэтому мы будем следовать этому:"
      ],
      "metadata": {
        "id": "AOhUrX4rANrD"
      }
    },
    {
      "cell_type": "code",
      "execution_count": 25,
      "metadata": {
        "colab": {
          "base_uri": "https://localhost:8080/"
        },
        "id": "ucTf9KquAKxN",
        "outputId": "0f5ce0ae-31ca-4ce7-f5de-9494db873ec7"
      },
      "outputs": [
        {
          "output_type": "stream",
          "name": "stdout",
          "text": [
            "1377\n"
          ]
        }
      ],
      "source": [
        "from transformers import get_scheduler\n",
        "\n",
        "num_epochs = 3\n",
        "num_training_steps = num_epochs * len(train_dataloader)\n",
        "lr_scheduler = get_scheduler(\n",
        "    \"linear\",\n",
        "    optimizer=optimizer,\n",
        "    num_warmup_steps=0,\n",
        "    num_training_steps=num_training_steps,\n",
        ")\n",
        "print(num_training_steps)"
      ]
    },
    {
      "cell_type": "markdown",
      "source": [
        "Функция `get_scheduler` из библиотеки transformers помогает создать планировщик для изменения скорости обучения во время обучения модели.\n",
        "\n",
        "1. Определение количества эпох и шагов обучения\n",
        "- num_epochs = 3 — обучение модели будет проходить в 3 эпохи.  \n",
        "- num_training_steps = num_epochs * len(train_dataloader) — общее количество шагов обучения вычисляется как число эпох, умноженное на количество батчей в train_dataloader (то есть, сколько раз оптимизатор обновит веса модели).  \n",
        "3. Создание планировщика скорости обучения\n",
        "- optimizer=optimizer,   Оптимизатор, которому применяется scheduler  \n",
        "- num_warmup_steps=0,    # Количество шагов разогрева (warm-up)\n",
        "- num_training_steps=num_training_steps,  количество шагов, за которые learning rate снизится до 0"
      ],
      "metadata": {
        "id": "lUusvvc9Ch4z"
      }
    },
    {
      "cell_type": "markdown",
      "source": [
        "Итог  \n",
        "Определяет общее количество шагов обучения.\n",
        "Создает линейный планировщик изменения learning rate.\n",
        "Позволяет контролировать скорость обучения, уменьшая ее по мере обучения."
      ],
      "metadata": {
        "id": "wijGMsIREJJR"
      }
    },
    {
      "cell_type": "code",
      "execution_count": 26,
      "metadata": {
        "colab": {
          "base_uri": "https://localhost:8080/"
        },
        "id": "kT-yHF34AKxN",
        "outputId": "c055267b-8fc1-472b-8d01-17c8264b751b"
      },
      "outputs": [
        {
          "output_type": "stream",
          "name": "stdout",
          "text": [
            "cuda\n",
            "Tesla T4\n"
          ]
        }
      ],
      "source": [
        "import torch\n",
        "\n",
        "device = torch.device(\"cuda\") if torch.cuda.is_available() else torch.device(\"cpu\")\n",
        "model.to(device)\n",
        "# Определяет, доступен ли GPU (torch.cuda.is_available()).\n",
        "# Переносит модель на GPU, что значительно ускоряет вычисления.\n",
        "\n",
        "print(device)\n",
        "print(torch.cuda.get_device_name(0))  # Должно показать \"T4\" или другую видеокарту"
      ]
    },
    {
      "cell_type": "markdown",
      "source": [
        "Теперь мы готовы к обучению! Чтобы иметь некоторое представление о том, когда обучение будет завершено, мы добавляем полосу прогресса над количеством шагов обучения, используя библиотеку `tqdm`:"
      ],
      "metadata": {
        "id": "Xj-ruF21Anps"
      }
    },
    {
      "cell_type": "code",
      "execution_count": 27,
      "metadata": {
        "colab": {
          "base_uri": "https://localhost:8080/",
          "height": 49,
          "referenced_widgets": [
            "5fbbbda005b74b64a352fefbe9ba5491",
            "740a1f8ded304da89a7f782f370c70d1",
            "a735f47ddd8a4f70817e5db40e60dcb9",
            "5d45c5c0a6f846f6a5ddc5ad0e75753a",
            "eea06a3d721043b0902c9f7dbb939155",
            "95d61fd9857e4583bf63f923b130bed5",
            "8e239dc75eef4c8baafe96e1b1358064",
            "f0643a6ab3ac445880515fe9e651e355",
            "e93e34549334464cab909290caa5b263",
            "315e124d890d47efa41a7771999d14b8",
            "1bc17b5cf1934df9af7271db84fbce70"
          ]
        },
        "id": "aZJ3AQusAKxO",
        "outputId": "d5f19f76-b207-487a-839a-1b25e989abe4"
      },
      "outputs": [
        {
          "output_type": "display_data",
          "data": {
            "text/plain": [
              "  0%|          | 0/1377 [00:00<?, ?it/s]"
            ],
            "application/vnd.jupyter.widget-view+json": {
              "version_major": 2,
              "version_minor": 0,
              "model_id": "5fbbbda005b74b64a352fefbe9ba5491"
            }
          },
          "metadata": {}
        }
      ],
      "source": [
        "from tqdm.auto import tqdm\n",
        "\n",
        "progress_bar = tqdm(range(num_training_steps))\n",
        "\n",
        "model.train()\n",
        "for epoch in range(num_epochs):\n",
        "    for batch in train_dataloader:\n",
        "        batch = {k: v.to(device) for k, v in batch.items()}\n",
        "        outputs = model(**batch)\n",
        "        loss = outputs.loss\n",
        "        loss.backward()\n",
        "\n",
        "        optimizer.step()\n",
        "        lr_scheduler.step()\n",
        "        optimizer.zero_grad()\n",
        "        progress_bar.update(1)"
      ]
    },
    {
      "cell_type": "markdown",
      "source": [
        "Этот код выполняет обучение модели с использованием __PyTorch__ и библиотеки __tqdm__ для отображения прогресса обучения. Давайте разберем его шаг за шагом.  "
      ],
      "metadata": {
        "id": "w-PvDGQaEh4h"
      }
    },
    {
      "cell_type": "markdown",
      "source": [
        "1. Импорт и создание прогресс-бара __from tqdm.auto import tqdm__\n",
        "`progress_bar = tqdm(range(num_training_steps))`  \n",
        "Импортируется tqdm.auto, который автоматически выбирает правильный прогресс-бар для Jupyter Notebook или консоли.\n",
        "- progress_bar = tqdm(range(num_training_steps)) создает индикатор выполнения (progress_bar), который показывает, сколько шагов обучения выполнено."
      ],
      "metadata": {
        "id": "5_J-4y4AEq0a"
      }
    },
    {
      "cell_type": "markdown",
      "source": [
        "2. Переключение модели в режим обучения  \n",
        "`model.train()` - Переключает модель в режим обучения (training mode), что включает поведение, специфичное для обучения, например, включение dropout.  "
      ],
      "metadata": {
        "id": "klqJxXcpE8Lz"
      }
    },
    {
      "cell_type": "markdown",
      "source": [
        "\n",
        "3. Цикл обучения  \n",
        "- `for epoch in range(num_epochs)`: запускает цикл по количеству эпох.\n",
        "- `for batch in train_dataloader`: проходит по батчам (пакетам данных) из train_dataloader.  \n",
        "4. Перемещение данных на GPU (если используется)  \n",
        "`batch = {k: v.to(device) for k, v in batch.items()}`\n",
        "5. Прямой проход (forward pass)  \n",
        "- `outputs = model(**batch)` - Пропускает батч через модель.\n",
        "- `loss = outputs.loss` - Извлекает значение функции потерь (loss).  \n",
        "6. Обратное распространение ошибки (backpropagation)\n",
        "- `loss.backward()` - Вычисляет градиенты ошибки относительно параметров модели.  \n",
        "7. Шаг оптимизации  \n",
        "- `optimizer.step()` - Обновляет параметры модели с учетом вычисленных градиентов.  \n",
        "8. Обновление learning rate\n",
        "- `lr_scheduler.step()` - Планировщик lr_scheduler обновляет learning rate (скорость обучения) согласно выбранной стратегии.  \n",
        "9. Обнуление градиентов\n",
        "- `optimizer.zero_grad()` - Очищает градиенты, чтобы они не накапливались между батчами.  \n",
        "10. Обновление прогресс-бара  \n",
        "- `progress_bar.update(1)` - Обновляет прогресс-бар на 1 шаг, отображая выполнение процесса обучения."
      ],
      "metadata": {
        "id": "EvchEgNsFFYr"
      }
    },
    {
      "cell_type": "markdown",
      "source": [
        "Итог  \n",
        "Этот код:  \n",
        "✅ Запускает обучение модели на num_epochs эпох.  \n",
        "✅ Проходит по данным из train_dataloader.  \n",
        "✅ Выполняет прямой проход, вычисляет функцию потерь, делает обратное распространение ошибки.  \n",
        "✅ Обновляет параметры модели с помощью оптимизатора.  \n",
        "✅ Корректирует скорость обучения через планировщик.  \n",
        "✅ Отображает прогресс обучения с tqdm.  "
      ],
      "metadata": {
        "id": "NHL_XLluGCcE"
      }
    },
    {
      "cell_type": "markdown",
      "source": [
        "## Цикл оценки"
      ],
      "metadata": {
        "id": "jvUdkaXjGRNs"
      }
    },
    {
      "cell_type": "markdown",
      "source": [
        "Как и раньше, мы будем использовать метрику, предоставленную библиотекой 🤗 Evaluate. Мы уже видели метод metric.compute(), но метрики могут фактически накапливать пакеты для нас, когда мы проходим цикл прогнозирования с помощью метода add_batch(). После того, как мы накопим все пакеты, мы можем получить окончательный результат с помощью metric.compute(). Вот как реализовать все это в цикле оценки:"
      ],
      "metadata": {
        "id": "gQekEcjyGlBR"
      }
    },
    {
      "cell_type": "code",
      "execution_count": 28,
      "metadata": {
        "colab": {
          "base_uri": "https://localhost:8080/"
        },
        "id": "w_d5F-X6AKxO",
        "outputId": "cb3e01ca-bed4-4022-cb39-d4fb6912f6c0"
      },
      "outputs": [
        {
          "output_type": "execute_result",
          "data": {
            "text/plain": [
              "{'accuracy': 0.8774509803921569, 'f1': 0.9131944444444444}"
            ]
          },
          "metadata": {},
          "execution_count": 28
        }
      ],
      "source": [
        "import evaluate\n",
        "\n",
        "metric = evaluate.load(\"glue\", \"mrpc\")\n",
        "model.eval()\n",
        "for batch in eval_dataloader:\n",
        "    batch = {k: v.to(device) for k, v in batch.items()}\n",
        "    with torch.no_grad():\n",
        "        outputs = model(**batch)\n",
        "\n",
        "    logits = outputs.logits\n",
        "    predictions = torch.argmax(logits, dim=-1)\n",
        "    metric.add_batch(predictions=predictions, references=batch[\"labels\"])\n",
        "\n",
        "metric.compute()"
      ]
    },
    {
      "cell_type": "markdown",
      "source": [
        "- `metric = evaluate.load(\"glue\", \"mrpc\")` - Загружает метрику, специфичную для MRPC (Microsoft Research Paraphrase Corpus). MRPC — это задача бинарной классификации, определяющая, являются ли два предложения перефразами друг друга.  \n",
        "- `model.eval()` - Переводит модель в режим оценки (evaluation mode), отключая dropout и другие механизмы, используемые только при обучении.  \n",
        "- ```\n",
        "for batch in eval_dataloader:\n",
        "    batch = {k: v.to(device) for k, v in batch.items()}4. Цикл по данным из eval_dataloader\n",
        "```\n",
        "Итерация по eval_dataloader, который содержит батчи данных для тестирования.\n",
        "Перемещает данные (batch) на GPU или CPU в зависимости от device.  \n",
        "- ```\n",
        "with torch.no_grad():\n",
        "    outputs = model(**batch)\n",
        "```    \n",
        "Отключение вычисления градиентов - Используется torch.no_grad(), чтобы сэкономить память и ускорить вычисления, так как градиенты в процессе оценки не нужны. Прогоняет batch через модель, получая outputs.\n",
        "__Предсказания модели__  \n",
        "- `logits = outputs.logits`\n",
        "- `predictions = torch.argmax(logits, dim=-1)`\n",
        "- `logits = outputs.logits` — извлекает логиты (сырые выходные значения перед софтмаксом).\n",
        "- `torch.argmax(logits, dim=-1)` — выбирает самый вероятный класс из предсказаний.\n",
        "__Добавление предсказаний в метрику__\n",
        "- `metric.add_batch(predictions=predictions, references=batch[\"labels\"])` - Добавляет предсказания и реальные метки (labels) для дальнейшего вычисления метрик.\n",
        "_Вычисление метрики__\n",
        "- `metric.compute()` - Вычисляет итоговые метрики (например, Accuracy, F1, Precision, Recall) на основе собранных предсказаний и реальных значений."
      ],
      "metadata": {
        "id": "Z394IMNpHeN4"
      }
    },
    {
      "cell_type": "markdown",
      "source": [
        "Что делает код в целом? 🚀  \n",
        "Этот код:  \n",
        "✅ Прогоняет тестовые данные через модель без градиентов.  \n",
        "✅ Собирает предсказания и истинные метки.  \n",
        "✅ Вычисляет метрики GLUE MRPC, такие как F1-score и Accuracy."
      ],
      "metadata": {
        "id": "ymbW6VjaIvGa"
      }
    },
    {
      "cell_type": "markdown",
      "source": [
        "<font color= 'lightgreen'>Все сразу ..."
      ],
      "metadata": {
        "id": "XfF4MHMCOreH"
      }
    },
    {
      "cell_type": "code",
      "execution_count": null,
      "metadata": {
        "id": "p3072qt_AKxP"
      },
      "outputs": [],
      "source": [
        "from transformers import AutoModelForSequenceClassification, get_scheduler\n",
        "from torch.optim import AdamW\n",
        "\n",
        "model = AutoModelForSequenceClassification.from_pretrained(checkpoint, num_labels=2)\n",
        "optimizer = AdamW(model.parameters(), lr=3e-5)\n",
        "\n",
        "device = torch.device(\"cuda\") if torch.cuda.is_available() else torch.device(\"cpu\")\n",
        "model.to(device)\n",
        "\n",
        "num_epochs = 3\n",
        "num_training_steps = num_epochs * len(train_dataloader)\n",
        "lr_scheduler = get_scheduler(\n",
        "    \"linear\",\n",
        "    optimizer=optimizer,\n",
        "    num_warmup_steps=0,\n",
        "    num_training_steps=num_training_steps,\n",
        ")\n",
        "\n",
        "progress_bar = tqdm(range(num_training_steps))\n",
        "\n",
        "model.train()\n",
        "for epoch in range(num_epochs):\n",
        "    for batch in train_dataloader:\n",
        "        batch = {k: v.to(device) for k, v in batch.items()}\n",
        "        outputs = model(**batch)\n",
        "        loss = outputs.loss\n",
        "        loss.backward()\n",
        "\n",
        "        optimizer.step()\n",
        "        lr_scheduler.step()\n",
        "        optimizer.zero_grad()\n",
        "        progress_bar.update(1)"
      ]
    },
    {
      "cell_type": "markdown",
      "source": [
        "<font color= 'lightgreen'>Цикл обучения, который мы определили ранее, отлично работает на одном CPU или GPU. Но с помощью библиотеки 🤗 Accelerate, всего с несколькими корректировками, мы можем включить распределенное обучение на нескольких GPU или TPU. Начиная с создания загрузчиков данных обучения и проверки, вот как выглядит наш цикл обучения вручную:"
      ],
      "metadata": {
        "id": "3CrtAlzVPPdT"
      }
    },
    {
      "cell_type": "code",
      "execution_count": 29,
      "metadata": {
        "colab": {
          "base_uri": "https://localhost:8080/",
          "height": 104,
          "referenced_widgets": [
            "a8e1311a66434b7c9e5ab9f6a61fe0ba",
            "9771000a16fd4304b395e6fe15f27a43",
            "20d8867f668d47a18692ecde28285f79",
            "79f3c8cdbf4d44cdb87443de13cdbcf8",
            "7e768ceba933411e9c26fae40a59d2ea",
            "499ba849f154432f9fadaff3dd33194f",
            "532491007d7442ad846ff26f16c7201d",
            "8f30495f190947c2bd1dcd02b4d47be1",
            "cbb5d505a33d4abe84eb10e6852b342d",
            "97825cdff04d456f9278174012cd51c0",
            "5c16afc29b5f4031927c786691e96fd4"
          ]
        },
        "id": "zvToT2fkAKxP",
        "outputId": "196f2de4-9895-4939-9714-ab3435d6670e"
      },
      "outputs": [
        {
          "output_type": "stream",
          "name": "stderr",
          "text": [
            "Some weights of BertForSequenceClassification were not initialized from the model checkpoint at bert-base-uncased and are newly initialized: ['classifier.bias', 'classifier.weight']\n",
            "You should probably TRAIN this model on a down-stream task to be able to use it for predictions and inference.\n"
          ]
        },
        {
          "output_type": "display_data",
          "data": {
            "text/plain": [
              "  0%|          | 0/1377 [00:00<?, ?it/s]"
            ],
            "application/vnd.jupyter.widget-view+json": {
              "version_major": 2,
              "version_minor": 0,
              "model_id": "a8e1311a66434b7c9e5ab9f6a61fe0ba"
            }
          },
          "metadata": {}
        }
      ],
      "source": [
        "from accelerate import Accelerator\n",
        "from torch.optim import AdamW\n",
        "from transformers import AutoModelForSequenceClassification, get_scheduler\n",
        "\n",
        "accelerator = Accelerator()\n",
        "\n",
        "model = AutoModelForSequenceClassification.from_pretrained(checkpoint, num_labels=2)\n",
        "optimizer = AdamW(model.parameters(), lr=3e-5)\n",
        "\n",
        "train_dl, eval_dl, model, optimizer = accelerator.prepare(\n",
        "    train_dataloader, eval_dataloader, model, optimizer\n",
        ")\n",
        "\n",
        "num_epochs = 3\n",
        "num_training_steps = num_epochs * len(train_dl)\n",
        "lr_scheduler = get_scheduler(\n",
        "    \"linear\",\n",
        "    optimizer=optimizer,\n",
        "    num_warmup_steps=0,\n",
        "    num_training_steps=num_training_steps,\n",
        ")\n",
        "\n",
        "progress_bar = tqdm(range(num_training_steps))\n",
        "\n",
        "model.train()\n",
        "for epoch in range(num_epochs):\n",
        "    for batch in train_dl:\n",
        "        outputs = model(**batch)\n",
        "        loss = outputs.loss\n",
        "        accelerator.backward(loss)\n",
        "\n",
        "        optimizer.step()\n",
        "        lr_scheduler.step()\n",
        "        optimizer.zero_grad()\n",
        "        progress_bar.update(1)"
      ]
    },
    {
      "cell_type": "markdown",
      "source": [
        "Если вы хотите скопировать и вставить его, чтобы поиграться, вот как выглядит полный цикл обучения с 🤗 Accelerate:\n",
        "\n",
        "- Первая строка для добавления — это строка импорта.  \n",
        "- Вторая строка создает экземпляр объекта Accelerator, который будет просматривать среду и инициализировать правильную распределенную настройку. 🤗 Accelerate обрабатывает размещение устройства за вас, поэтому вы можете удалить строки, которые помещают модель на устройство (или, если хотите, изменить их на использование accelerator.device вместо device).\n",
        "\n",
        "- Затем основная часть работы выполняется в строке, которая отправляет загрузчики данных, модель и оптимизатор в accelerator.prepare(). Это обернет эти объекты в правильный контейнер, чтобы убедиться, что ваше распределенное обучение работает так, как задумано.  \n",
        "- Осталось внести изменения, удалив строку, которая помещает пакет на устройство (опять же, если вы хотите сохранить это, вы можете просто изменить его на использование accelerator.device) и заменить loss.backward() на accelerator.backward(loss)."
      ],
      "metadata": {
        "id": "l5vR3KN7RH3J"
      }
    },
    {
      "cell_type": "code",
      "source": [
        "import evaluate\n",
        "\n",
        "metric = evaluate.load(\"glue\", \"mrpc\")\n",
        "model.eval()\n",
        "for batch in eval_dataloader:\n",
        "    batch = {k: v.to(device) for k, v in batch.items()}\n",
        "    with torch.no_grad():\n",
        "        outputs = model(**batch)\n",
        "\n",
        "    logits = outputs.logits\n",
        "    predictions = torch.argmax(logits, dim=-1)\n",
        "    metric.add_batch(predictions=predictions, references=batch[\"labels\"])\n",
        "\n",
        "metric.compute()"
      ],
      "metadata": {
        "id": "nI2SpRDxQ0me",
        "outputId": "b5133cfc-df05-4b1b-a253-b2e0c5fa1ca6",
        "colab": {
          "base_uri": "https://localhost:8080/"
        }
      },
      "execution_count": 30,
      "outputs": [
        {
          "output_type": "execute_result",
          "data": {
            "text/plain": [
              "{'accuracy': 0.8480392156862745, 'f1': 0.8934707903780069}"
            ]
          },
          "metadata": {},
          "execution_count": 30
        }
      ]
    },
    {
      "cell_type": "code",
      "execution_count": null,
      "metadata": {
        "id": "kmKppXf0AKxQ"
      },
      "outputs": [],
      "source": [
        "from accelerate import notebook_launcher\n",
        "\n",
        "notebook_launcher(training_function)"
      ]
    }
  ],
  "metadata": {
    "colab": {
      "name": "A full training",
      "provenance": [],
      "gpuType": "T4"
    },
    "language_info": {
      "name": "python"
    },
    "kernelspec": {
      "name": "python3",
      "display_name": "Python 3"
    },
    "accelerator": "GPU",
    "widgets": {
      "application/vnd.jupyter.widget-state+json": {
        "3e9ce59f748b4976886725abdad2a9d3": {
          "model_module": "@jupyter-widgets/controls",
          "model_name": "HBoxModel",
          "model_module_version": "1.5.0",
          "state": {
            "_dom_classes": [],
            "_model_module": "@jupyter-widgets/controls",
            "_model_module_version": "1.5.0",
            "_model_name": "HBoxModel",
            "_view_count": null,
            "_view_module": "@jupyter-widgets/controls",
            "_view_module_version": "1.5.0",
            "_view_name": "HBoxView",
            "box_style": "",
            "children": [
              "IPY_MODEL_2a423d74df124716accaf60aea0f7d88",
              "IPY_MODEL_c23fbd264b434eda8b21a7b25e13aa41",
              "IPY_MODEL_3978f1ac45e94829bf7cb551fff802b3"
            ],
            "layout": "IPY_MODEL_1698de88171f45a1aae52051bed913c1"
          }
        },
        "2a423d74df124716accaf60aea0f7d88": {
          "model_module": "@jupyter-widgets/controls",
          "model_name": "HTMLModel",
          "model_module_version": "1.5.0",
          "state": {
            "_dom_classes": [],
            "_model_module": "@jupyter-widgets/controls",
            "_model_module_version": "1.5.0",
            "_model_name": "HTMLModel",
            "_view_count": null,
            "_view_module": "@jupyter-widgets/controls",
            "_view_module_version": "1.5.0",
            "_view_name": "HTMLView",
            "description": "",
            "description_tooltip": null,
            "layout": "IPY_MODEL_20bb7a86cbf84e46b8b57d2184166404",
            "placeholder": "​",
            "style": "IPY_MODEL_afa3f6dc605d4e2da47f662812506278",
            "value": "Map: 100%"
          }
        },
        "c23fbd264b434eda8b21a7b25e13aa41": {
          "model_module": "@jupyter-widgets/controls",
          "model_name": "FloatProgressModel",
          "model_module_version": "1.5.0",
          "state": {
            "_dom_classes": [],
            "_model_module": "@jupyter-widgets/controls",
            "_model_module_version": "1.5.0",
            "_model_name": "FloatProgressModel",
            "_view_count": null,
            "_view_module": "@jupyter-widgets/controls",
            "_view_module_version": "1.5.0",
            "_view_name": "ProgressView",
            "bar_style": "success",
            "description": "",
            "description_tooltip": null,
            "layout": "IPY_MODEL_7782ceb9e2e44c7e9efb5c050c30a83f",
            "max": 408,
            "min": 0,
            "orientation": "horizontal",
            "style": "IPY_MODEL_1672e2722e084f7993fbaa2e22e75721",
            "value": 408
          }
        },
        "3978f1ac45e94829bf7cb551fff802b3": {
          "model_module": "@jupyter-widgets/controls",
          "model_name": "HTMLModel",
          "model_module_version": "1.5.0",
          "state": {
            "_dom_classes": [],
            "_model_module": "@jupyter-widgets/controls",
            "_model_module_version": "1.5.0",
            "_model_name": "HTMLModel",
            "_view_count": null,
            "_view_module": "@jupyter-widgets/controls",
            "_view_module_version": "1.5.0",
            "_view_name": "HTMLView",
            "description": "",
            "description_tooltip": null,
            "layout": "IPY_MODEL_b8774ac99c264a3084970ae61f19ba72",
            "placeholder": "​",
            "style": "IPY_MODEL_ddb7733187224e5aaf4c956c9707b8ed",
            "value": " 408/408 [00:00&lt;00:00, 3461.44 examples/s]"
          }
        },
        "1698de88171f45a1aae52051bed913c1": {
          "model_module": "@jupyter-widgets/base",
          "model_name": "LayoutModel",
          "model_module_version": "1.2.0",
          "state": {
            "_model_module": "@jupyter-widgets/base",
            "_model_module_version": "1.2.0",
            "_model_name": "LayoutModel",
            "_view_count": null,
            "_view_module": "@jupyter-widgets/base",
            "_view_module_version": "1.2.0",
            "_view_name": "LayoutView",
            "align_content": null,
            "align_items": null,
            "align_self": null,
            "border": null,
            "bottom": null,
            "display": null,
            "flex": null,
            "flex_flow": null,
            "grid_area": null,
            "grid_auto_columns": null,
            "grid_auto_flow": null,
            "grid_auto_rows": null,
            "grid_column": null,
            "grid_gap": null,
            "grid_row": null,
            "grid_template_areas": null,
            "grid_template_columns": null,
            "grid_template_rows": null,
            "height": null,
            "justify_content": null,
            "justify_items": null,
            "left": null,
            "margin": null,
            "max_height": null,
            "max_width": null,
            "min_height": null,
            "min_width": null,
            "object_fit": null,
            "object_position": null,
            "order": null,
            "overflow": null,
            "overflow_x": null,
            "overflow_y": null,
            "padding": null,
            "right": null,
            "top": null,
            "visibility": null,
            "width": null
          }
        },
        "20bb7a86cbf84e46b8b57d2184166404": {
          "model_module": "@jupyter-widgets/base",
          "model_name": "LayoutModel",
          "model_module_version": "1.2.0",
          "state": {
            "_model_module": "@jupyter-widgets/base",
            "_model_module_version": "1.2.0",
            "_model_name": "LayoutModel",
            "_view_count": null,
            "_view_module": "@jupyter-widgets/base",
            "_view_module_version": "1.2.0",
            "_view_name": "LayoutView",
            "align_content": null,
            "align_items": null,
            "align_self": null,
            "border": null,
            "bottom": null,
            "display": null,
            "flex": null,
            "flex_flow": null,
            "grid_area": null,
            "grid_auto_columns": null,
            "grid_auto_flow": null,
            "grid_auto_rows": null,
            "grid_column": null,
            "grid_gap": null,
            "grid_row": null,
            "grid_template_areas": null,
            "grid_template_columns": null,
            "grid_template_rows": null,
            "height": null,
            "justify_content": null,
            "justify_items": null,
            "left": null,
            "margin": null,
            "max_height": null,
            "max_width": null,
            "min_height": null,
            "min_width": null,
            "object_fit": null,
            "object_position": null,
            "order": null,
            "overflow": null,
            "overflow_x": null,
            "overflow_y": null,
            "padding": null,
            "right": null,
            "top": null,
            "visibility": null,
            "width": null
          }
        },
        "afa3f6dc605d4e2da47f662812506278": {
          "model_module": "@jupyter-widgets/controls",
          "model_name": "DescriptionStyleModel",
          "model_module_version": "1.5.0",
          "state": {
            "_model_module": "@jupyter-widgets/controls",
            "_model_module_version": "1.5.0",
            "_model_name": "DescriptionStyleModel",
            "_view_count": null,
            "_view_module": "@jupyter-widgets/base",
            "_view_module_version": "1.2.0",
            "_view_name": "StyleView",
            "description_width": ""
          }
        },
        "7782ceb9e2e44c7e9efb5c050c30a83f": {
          "model_module": "@jupyter-widgets/base",
          "model_name": "LayoutModel",
          "model_module_version": "1.2.0",
          "state": {
            "_model_module": "@jupyter-widgets/base",
            "_model_module_version": "1.2.0",
            "_model_name": "LayoutModel",
            "_view_count": null,
            "_view_module": "@jupyter-widgets/base",
            "_view_module_version": "1.2.0",
            "_view_name": "LayoutView",
            "align_content": null,
            "align_items": null,
            "align_self": null,
            "border": null,
            "bottom": null,
            "display": null,
            "flex": null,
            "flex_flow": null,
            "grid_area": null,
            "grid_auto_columns": null,
            "grid_auto_flow": null,
            "grid_auto_rows": null,
            "grid_column": null,
            "grid_gap": null,
            "grid_row": null,
            "grid_template_areas": null,
            "grid_template_columns": null,
            "grid_template_rows": null,
            "height": null,
            "justify_content": null,
            "justify_items": null,
            "left": null,
            "margin": null,
            "max_height": null,
            "max_width": null,
            "min_height": null,
            "min_width": null,
            "object_fit": null,
            "object_position": null,
            "order": null,
            "overflow": null,
            "overflow_x": null,
            "overflow_y": null,
            "padding": null,
            "right": null,
            "top": null,
            "visibility": null,
            "width": null
          }
        },
        "1672e2722e084f7993fbaa2e22e75721": {
          "model_module": "@jupyter-widgets/controls",
          "model_name": "ProgressStyleModel",
          "model_module_version": "1.5.0",
          "state": {
            "_model_module": "@jupyter-widgets/controls",
            "_model_module_version": "1.5.0",
            "_model_name": "ProgressStyleModel",
            "_view_count": null,
            "_view_module": "@jupyter-widgets/base",
            "_view_module_version": "1.2.0",
            "_view_name": "StyleView",
            "bar_color": null,
            "description_width": ""
          }
        },
        "b8774ac99c264a3084970ae61f19ba72": {
          "model_module": "@jupyter-widgets/base",
          "model_name": "LayoutModel",
          "model_module_version": "1.2.0",
          "state": {
            "_model_module": "@jupyter-widgets/base",
            "_model_module_version": "1.2.0",
            "_model_name": "LayoutModel",
            "_view_count": null,
            "_view_module": "@jupyter-widgets/base",
            "_view_module_version": "1.2.0",
            "_view_name": "LayoutView",
            "align_content": null,
            "align_items": null,
            "align_self": null,
            "border": null,
            "bottom": null,
            "display": null,
            "flex": null,
            "flex_flow": null,
            "grid_area": null,
            "grid_auto_columns": null,
            "grid_auto_flow": null,
            "grid_auto_rows": null,
            "grid_column": null,
            "grid_gap": null,
            "grid_row": null,
            "grid_template_areas": null,
            "grid_template_columns": null,
            "grid_template_rows": null,
            "height": null,
            "justify_content": null,
            "justify_items": null,
            "left": null,
            "margin": null,
            "max_height": null,
            "max_width": null,
            "min_height": null,
            "min_width": null,
            "object_fit": null,
            "object_position": null,
            "order": null,
            "overflow": null,
            "overflow_x": null,
            "overflow_y": null,
            "padding": null,
            "right": null,
            "top": null,
            "visibility": null,
            "width": null
          }
        },
        "ddb7733187224e5aaf4c956c9707b8ed": {
          "model_module": "@jupyter-widgets/controls",
          "model_name": "DescriptionStyleModel",
          "model_module_version": "1.5.0",
          "state": {
            "_model_module": "@jupyter-widgets/controls",
            "_model_module_version": "1.5.0",
            "_model_name": "DescriptionStyleModel",
            "_view_count": null,
            "_view_module": "@jupyter-widgets/base",
            "_view_module_version": "1.2.0",
            "_view_name": "StyleView",
            "description_width": ""
          }
        },
        "5fbbbda005b74b64a352fefbe9ba5491": {
          "model_module": "@jupyter-widgets/controls",
          "model_name": "HBoxModel",
          "model_module_version": "1.5.0",
          "state": {
            "_dom_classes": [],
            "_model_module": "@jupyter-widgets/controls",
            "_model_module_version": "1.5.0",
            "_model_name": "HBoxModel",
            "_view_count": null,
            "_view_module": "@jupyter-widgets/controls",
            "_view_module_version": "1.5.0",
            "_view_name": "HBoxView",
            "box_style": "",
            "children": [
              "IPY_MODEL_740a1f8ded304da89a7f782f370c70d1",
              "IPY_MODEL_a735f47ddd8a4f70817e5db40e60dcb9",
              "IPY_MODEL_5d45c5c0a6f846f6a5ddc5ad0e75753a"
            ],
            "layout": "IPY_MODEL_eea06a3d721043b0902c9f7dbb939155"
          }
        },
        "740a1f8ded304da89a7f782f370c70d1": {
          "model_module": "@jupyter-widgets/controls",
          "model_name": "HTMLModel",
          "model_module_version": "1.5.0",
          "state": {
            "_dom_classes": [],
            "_model_module": "@jupyter-widgets/controls",
            "_model_module_version": "1.5.0",
            "_model_name": "HTMLModel",
            "_view_count": null,
            "_view_module": "@jupyter-widgets/controls",
            "_view_module_version": "1.5.0",
            "_view_name": "HTMLView",
            "description": "",
            "description_tooltip": null,
            "layout": "IPY_MODEL_95d61fd9857e4583bf63f923b130bed5",
            "placeholder": "​",
            "style": "IPY_MODEL_8e239dc75eef4c8baafe96e1b1358064",
            "value": "100%"
          }
        },
        "a735f47ddd8a4f70817e5db40e60dcb9": {
          "model_module": "@jupyter-widgets/controls",
          "model_name": "FloatProgressModel",
          "model_module_version": "1.5.0",
          "state": {
            "_dom_classes": [],
            "_model_module": "@jupyter-widgets/controls",
            "_model_module_version": "1.5.0",
            "_model_name": "FloatProgressModel",
            "_view_count": null,
            "_view_module": "@jupyter-widgets/controls",
            "_view_module_version": "1.5.0",
            "_view_name": "ProgressView",
            "bar_style": "",
            "description": "",
            "description_tooltip": null,
            "layout": "IPY_MODEL_f0643a6ab3ac445880515fe9e651e355",
            "max": 1377,
            "min": 0,
            "orientation": "horizontal",
            "style": "IPY_MODEL_e93e34549334464cab909290caa5b263",
            "value": 1377
          }
        },
        "5d45c5c0a6f846f6a5ddc5ad0e75753a": {
          "model_module": "@jupyter-widgets/controls",
          "model_name": "HTMLModel",
          "model_module_version": "1.5.0",
          "state": {
            "_dom_classes": [],
            "_model_module": "@jupyter-widgets/controls",
            "_model_module_version": "1.5.0",
            "_model_name": "HTMLModel",
            "_view_count": null,
            "_view_module": "@jupyter-widgets/controls",
            "_view_module_version": "1.5.0",
            "_view_name": "HTMLView",
            "description": "",
            "description_tooltip": null,
            "layout": "IPY_MODEL_315e124d890d47efa41a7771999d14b8",
            "placeholder": "​",
            "style": "IPY_MODEL_1bc17b5cf1934df9af7271db84fbce70",
            "value": " 1377/1377 [02:53&lt;00:00,  7.67it/s]"
          }
        },
        "eea06a3d721043b0902c9f7dbb939155": {
          "model_module": "@jupyter-widgets/base",
          "model_name": "LayoutModel",
          "model_module_version": "1.2.0",
          "state": {
            "_model_module": "@jupyter-widgets/base",
            "_model_module_version": "1.2.0",
            "_model_name": "LayoutModel",
            "_view_count": null,
            "_view_module": "@jupyter-widgets/base",
            "_view_module_version": "1.2.0",
            "_view_name": "LayoutView",
            "align_content": null,
            "align_items": null,
            "align_self": null,
            "border": null,
            "bottom": null,
            "display": null,
            "flex": null,
            "flex_flow": null,
            "grid_area": null,
            "grid_auto_columns": null,
            "grid_auto_flow": null,
            "grid_auto_rows": null,
            "grid_column": null,
            "grid_gap": null,
            "grid_row": null,
            "grid_template_areas": null,
            "grid_template_columns": null,
            "grid_template_rows": null,
            "height": null,
            "justify_content": null,
            "justify_items": null,
            "left": null,
            "margin": null,
            "max_height": null,
            "max_width": null,
            "min_height": null,
            "min_width": null,
            "object_fit": null,
            "object_position": null,
            "order": null,
            "overflow": null,
            "overflow_x": null,
            "overflow_y": null,
            "padding": null,
            "right": null,
            "top": null,
            "visibility": null,
            "width": null
          }
        },
        "95d61fd9857e4583bf63f923b130bed5": {
          "model_module": "@jupyter-widgets/base",
          "model_name": "LayoutModel",
          "model_module_version": "1.2.0",
          "state": {
            "_model_module": "@jupyter-widgets/base",
            "_model_module_version": "1.2.0",
            "_model_name": "LayoutModel",
            "_view_count": null,
            "_view_module": "@jupyter-widgets/base",
            "_view_module_version": "1.2.0",
            "_view_name": "LayoutView",
            "align_content": null,
            "align_items": null,
            "align_self": null,
            "border": null,
            "bottom": null,
            "display": null,
            "flex": null,
            "flex_flow": null,
            "grid_area": null,
            "grid_auto_columns": null,
            "grid_auto_flow": null,
            "grid_auto_rows": null,
            "grid_column": null,
            "grid_gap": null,
            "grid_row": null,
            "grid_template_areas": null,
            "grid_template_columns": null,
            "grid_template_rows": null,
            "height": null,
            "justify_content": null,
            "justify_items": null,
            "left": null,
            "margin": null,
            "max_height": null,
            "max_width": null,
            "min_height": null,
            "min_width": null,
            "object_fit": null,
            "object_position": null,
            "order": null,
            "overflow": null,
            "overflow_x": null,
            "overflow_y": null,
            "padding": null,
            "right": null,
            "top": null,
            "visibility": null,
            "width": null
          }
        },
        "8e239dc75eef4c8baafe96e1b1358064": {
          "model_module": "@jupyter-widgets/controls",
          "model_name": "DescriptionStyleModel",
          "model_module_version": "1.5.0",
          "state": {
            "_model_module": "@jupyter-widgets/controls",
            "_model_module_version": "1.5.0",
            "_model_name": "DescriptionStyleModel",
            "_view_count": null,
            "_view_module": "@jupyter-widgets/base",
            "_view_module_version": "1.2.0",
            "_view_name": "StyleView",
            "description_width": ""
          }
        },
        "f0643a6ab3ac445880515fe9e651e355": {
          "model_module": "@jupyter-widgets/base",
          "model_name": "LayoutModel",
          "model_module_version": "1.2.0",
          "state": {
            "_model_module": "@jupyter-widgets/base",
            "_model_module_version": "1.2.0",
            "_model_name": "LayoutModel",
            "_view_count": null,
            "_view_module": "@jupyter-widgets/base",
            "_view_module_version": "1.2.0",
            "_view_name": "LayoutView",
            "align_content": null,
            "align_items": null,
            "align_self": null,
            "border": null,
            "bottom": null,
            "display": null,
            "flex": null,
            "flex_flow": null,
            "grid_area": null,
            "grid_auto_columns": null,
            "grid_auto_flow": null,
            "grid_auto_rows": null,
            "grid_column": null,
            "grid_gap": null,
            "grid_row": null,
            "grid_template_areas": null,
            "grid_template_columns": null,
            "grid_template_rows": null,
            "height": null,
            "justify_content": null,
            "justify_items": null,
            "left": null,
            "margin": null,
            "max_height": null,
            "max_width": null,
            "min_height": null,
            "min_width": null,
            "object_fit": null,
            "object_position": null,
            "order": null,
            "overflow": null,
            "overflow_x": null,
            "overflow_y": null,
            "padding": null,
            "right": null,
            "top": null,
            "visibility": null,
            "width": null
          }
        },
        "e93e34549334464cab909290caa5b263": {
          "model_module": "@jupyter-widgets/controls",
          "model_name": "ProgressStyleModel",
          "model_module_version": "1.5.0",
          "state": {
            "_model_module": "@jupyter-widgets/controls",
            "_model_module_version": "1.5.0",
            "_model_name": "ProgressStyleModel",
            "_view_count": null,
            "_view_module": "@jupyter-widgets/base",
            "_view_module_version": "1.2.0",
            "_view_name": "StyleView",
            "bar_color": null,
            "description_width": ""
          }
        },
        "315e124d890d47efa41a7771999d14b8": {
          "model_module": "@jupyter-widgets/base",
          "model_name": "LayoutModel",
          "model_module_version": "1.2.0",
          "state": {
            "_model_module": "@jupyter-widgets/base",
            "_model_module_version": "1.2.0",
            "_model_name": "LayoutModel",
            "_view_count": null,
            "_view_module": "@jupyter-widgets/base",
            "_view_module_version": "1.2.0",
            "_view_name": "LayoutView",
            "align_content": null,
            "align_items": null,
            "align_self": null,
            "border": null,
            "bottom": null,
            "display": null,
            "flex": null,
            "flex_flow": null,
            "grid_area": null,
            "grid_auto_columns": null,
            "grid_auto_flow": null,
            "grid_auto_rows": null,
            "grid_column": null,
            "grid_gap": null,
            "grid_row": null,
            "grid_template_areas": null,
            "grid_template_columns": null,
            "grid_template_rows": null,
            "height": null,
            "justify_content": null,
            "justify_items": null,
            "left": null,
            "margin": null,
            "max_height": null,
            "max_width": null,
            "min_height": null,
            "min_width": null,
            "object_fit": null,
            "object_position": null,
            "order": null,
            "overflow": null,
            "overflow_x": null,
            "overflow_y": null,
            "padding": null,
            "right": null,
            "top": null,
            "visibility": null,
            "width": null
          }
        },
        "1bc17b5cf1934df9af7271db84fbce70": {
          "model_module": "@jupyter-widgets/controls",
          "model_name": "DescriptionStyleModel",
          "model_module_version": "1.5.0",
          "state": {
            "_model_module": "@jupyter-widgets/controls",
            "_model_module_version": "1.5.0",
            "_model_name": "DescriptionStyleModel",
            "_view_count": null,
            "_view_module": "@jupyter-widgets/base",
            "_view_module_version": "1.2.0",
            "_view_name": "StyleView",
            "description_width": ""
          }
        },
        "a8e1311a66434b7c9e5ab9f6a61fe0ba": {
          "model_module": "@jupyter-widgets/controls",
          "model_name": "HBoxModel",
          "model_module_version": "1.5.0",
          "state": {
            "_dom_classes": [],
            "_model_module": "@jupyter-widgets/controls",
            "_model_module_version": "1.5.0",
            "_model_name": "HBoxModel",
            "_view_count": null,
            "_view_module": "@jupyter-widgets/controls",
            "_view_module_version": "1.5.0",
            "_view_name": "HBoxView",
            "box_style": "",
            "children": [
              "IPY_MODEL_9771000a16fd4304b395e6fe15f27a43",
              "IPY_MODEL_20d8867f668d47a18692ecde28285f79",
              "IPY_MODEL_79f3c8cdbf4d44cdb87443de13cdbcf8"
            ],
            "layout": "IPY_MODEL_7e768ceba933411e9c26fae40a59d2ea"
          }
        },
        "9771000a16fd4304b395e6fe15f27a43": {
          "model_module": "@jupyter-widgets/controls",
          "model_name": "HTMLModel",
          "model_module_version": "1.5.0",
          "state": {
            "_dom_classes": [],
            "_model_module": "@jupyter-widgets/controls",
            "_model_module_version": "1.5.0",
            "_model_name": "HTMLModel",
            "_view_count": null,
            "_view_module": "@jupyter-widgets/controls",
            "_view_module_version": "1.5.0",
            "_view_name": "HTMLView",
            "description": "",
            "description_tooltip": null,
            "layout": "IPY_MODEL_499ba849f154432f9fadaff3dd33194f",
            "placeholder": "​",
            "style": "IPY_MODEL_532491007d7442ad846ff26f16c7201d",
            "value": "100%"
          }
        },
        "20d8867f668d47a18692ecde28285f79": {
          "model_module": "@jupyter-widgets/controls",
          "model_name": "FloatProgressModel",
          "model_module_version": "1.5.0",
          "state": {
            "_dom_classes": [],
            "_model_module": "@jupyter-widgets/controls",
            "_model_module_version": "1.5.0",
            "_model_name": "FloatProgressModel",
            "_view_count": null,
            "_view_module": "@jupyter-widgets/controls",
            "_view_module_version": "1.5.0",
            "_view_name": "ProgressView",
            "bar_style": "",
            "description": "",
            "description_tooltip": null,
            "layout": "IPY_MODEL_8f30495f190947c2bd1dcd02b4d47be1",
            "max": 1377,
            "min": 0,
            "orientation": "horizontal",
            "style": "IPY_MODEL_cbb5d505a33d4abe84eb10e6852b342d",
            "value": 1377
          }
        },
        "79f3c8cdbf4d44cdb87443de13cdbcf8": {
          "model_module": "@jupyter-widgets/controls",
          "model_name": "HTMLModel",
          "model_module_version": "1.5.0",
          "state": {
            "_dom_classes": [],
            "_model_module": "@jupyter-widgets/controls",
            "_model_module_version": "1.5.0",
            "_model_name": "HTMLModel",
            "_view_count": null,
            "_view_module": "@jupyter-widgets/controls",
            "_view_module_version": "1.5.0",
            "_view_name": "HTMLView",
            "description": "",
            "description_tooltip": null,
            "layout": "IPY_MODEL_97825cdff04d456f9278174012cd51c0",
            "placeholder": "​",
            "style": "IPY_MODEL_5c16afc29b5f4031927c786691e96fd4",
            "value": " 1377/1377 [02:51&lt;00:00,  7.70it/s]"
          }
        },
        "7e768ceba933411e9c26fae40a59d2ea": {
          "model_module": "@jupyter-widgets/base",
          "model_name": "LayoutModel",
          "model_module_version": "1.2.0",
          "state": {
            "_model_module": "@jupyter-widgets/base",
            "_model_module_version": "1.2.0",
            "_model_name": "LayoutModel",
            "_view_count": null,
            "_view_module": "@jupyter-widgets/base",
            "_view_module_version": "1.2.0",
            "_view_name": "LayoutView",
            "align_content": null,
            "align_items": null,
            "align_self": null,
            "border": null,
            "bottom": null,
            "display": null,
            "flex": null,
            "flex_flow": null,
            "grid_area": null,
            "grid_auto_columns": null,
            "grid_auto_flow": null,
            "grid_auto_rows": null,
            "grid_column": null,
            "grid_gap": null,
            "grid_row": null,
            "grid_template_areas": null,
            "grid_template_columns": null,
            "grid_template_rows": null,
            "height": null,
            "justify_content": null,
            "justify_items": null,
            "left": null,
            "margin": null,
            "max_height": null,
            "max_width": null,
            "min_height": null,
            "min_width": null,
            "object_fit": null,
            "object_position": null,
            "order": null,
            "overflow": null,
            "overflow_x": null,
            "overflow_y": null,
            "padding": null,
            "right": null,
            "top": null,
            "visibility": null,
            "width": null
          }
        },
        "499ba849f154432f9fadaff3dd33194f": {
          "model_module": "@jupyter-widgets/base",
          "model_name": "LayoutModel",
          "model_module_version": "1.2.0",
          "state": {
            "_model_module": "@jupyter-widgets/base",
            "_model_module_version": "1.2.0",
            "_model_name": "LayoutModel",
            "_view_count": null,
            "_view_module": "@jupyter-widgets/base",
            "_view_module_version": "1.2.0",
            "_view_name": "LayoutView",
            "align_content": null,
            "align_items": null,
            "align_self": null,
            "border": null,
            "bottom": null,
            "display": null,
            "flex": null,
            "flex_flow": null,
            "grid_area": null,
            "grid_auto_columns": null,
            "grid_auto_flow": null,
            "grid_auto_rows": null,
            "grid_column": null,
            "grid_gap": null,
            "grid_row": null,
            "grid_template_areas": null,
            "grid_template_columns": null,
            "grid_template_rows": null,
            "height": null,
            "justify_content": null,
            "justify_items": null,
            "left": null,
            "margin": null,
            "max_height": null,
            "max_width": null,
            "min_height": null,
            "min_width": null,
            "object_fit": null,
            "object_position": null,
            "order": null,
            "overflow": null,
            "overflow_x": null,
            "overflow_y": null,
            "padding": null,
            "right": null,
            "top": null,
            "visibility": null,
            "width": null
          }
        },
        "532491007d7442ad846ff26f16c7201d": {
          "model_module": "@jupyter-widgets/controls",
          "model_name": "DescriptionStyleModel",
          "model_module_version": "1.5.0",
          "state": {
            "_model_module": "@jupyter-widgets/controls",
            "_model_module_version": "1.5.0",
            "_model_name": "DescriptionStyleModel",
            "_view_count": null,
            "_view_module": "@jupyter-widgets/base",
            "_view_module_version": "1.2.0",
            "_view_name": "StyleView",
            "description_width": ""
          }
        },
        "8f30495f190947c2bd1dcd02b4d47be1": {
          "model_module": "@jupyter-widgets/base",
          "model_name": "LayoutModel",
          "model_module_version": "1.2.0",
          "state": {
            "_model_module": "@jupyter-widgets/base",
            "_model_module_version": "1.2.0",
            "_model_name": "LayoutModel",
            "_view_count": null,
            "_view_module": "@jupyter-widgets/base",
            "_view_module_version": "1.2.0",
            "_view_name": "LayoutView",
            "align_content": null,
            "align_items": null,
            "align_self": null,
            "border": null,
            "bottom": null,
            "display": null,
            "flex": null,
            "flex_flow": null,
            "grid_area": null,
            "grid_auto_columns": null,
            "grid_auto_flow": null,
            "grid_auto_rows": null,
            "grid_column": null,
            "grid_gap": null,
            "grid_row": null,
            "grid_template_areas": null,
            "grid_template_columns": null,
            "grid_template_rows": null,
            "height": null,
            "justify_content": null,
            "justify_items": null,
            "left": null,
            "margin": null,
            "max_height": null,
            "max_width": null,
            "min_height": null,
            "min_width": null,
            "object_fit": null,
            "object_position": null,
            "order": null,
            "overflow": null,
            "overflow_x": null,
            "overflow_y": null,
            "padding": null,
            "right": null,
            "top": null,
            "visibility": null,
            "width": null
          }
        },
        "cbb5d505a33d4abe84eb10e6852b342d": {
          "model_module": "@jupyter-widgets/controls",
          "model_name": "ProgressStyleModel",
          "model_module_version": "1.5.0",
          "state": {
            "_model_module": "@jupyter-widgets/controls",
            "_model_module_version": "1.5.0",
            "_model_name": "ProgressStyleModel",
            "_view_count": null,
            "_view_module": "@jupyter-widgets/base",
            "_view_module_version": "1.2.0",
            "_view_name": "StyleView",
            "bar_color": null,
            "description_width": ""
          }
        },
        "97825cdff04d456f9278174012cd51c0": {
          "model_module": "@jupyter-widgets/base",
          "model_name": "LayoutModel",
          "model_module_version": "1.2.0",
          "state": {
            "_model_module": "@jupyter-widgets/base",
            "_model_module_version": "1.2.0",
            "_model_name": "LayoutModel",
            "_view_count": null,
            "_view_module": "@jupyter-widgets/base",
            "_view_module_version": "1.2.0",
            "_view_name": "LayoutView",
            "align_content": null,
            "align_items": null,
            "align_self": null,
            "border": null,
            "bottom": null,
            "display": null,
            "flex": null,
            "flex_flow": null,
            "grid_area": null,
            "grid_auto_columns": null,
            "grid_auto_flow": null,
            "grid_auto_rows": null,
            "grid_column": null,
            "grid_gap": null,
            "grid_row": null,
            "grid_template_areas": null,
            "grid_template_columns": null,
            "grid_template_rows": null,
            "height": null,
            "justify_content": null,
            "justify_items": null,
            "left": null,
            "margin": null,
            "max_height": null,
            "max_width": null,
            "min_height": null,
            "min_width": null,
            "object_fit": null,
            "object_position": null,
            "order": null,
            "overflow": null,
            "overflow_x": null,
            "overflow_y": null,
            "padding": null,
            "right": null,
            "top": null,
            "visibility": null,
            "width": null
          }
        },
        "5c16afc29b5f4031927c786691e96fd4": {
          "model_module": "@jupyter-widgets/controls",
          "model_name": "DescriptionStyleModel",
          "model_module_version": "1.5.0",
          "state": {
            "_model_module": "@jupyter-widgets/controls",
            "_model_module_version": "1.5.0",
            "_model_name": "DescriptionStyleModel",
            "_view_count": null,
            "_view_module": "@jupyter-widgets/base",
            "_view_module_version": "1.2.0",
            "_view_name": "StyleView",
            "description_width": ""
          }
        }
      }
    }
  },
  "nbformat": 4,
  "nbformat_minor": 0
}