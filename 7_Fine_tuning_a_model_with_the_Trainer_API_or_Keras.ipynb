{
  "cells": [
    {
      "cell_type": "markdown",
      "metadata": {
        "id": "SI8SuiAZmnn5"
      },
      "source": [
        "# Fine-tuning a model with the Trainer API or Keras"
      ]
    },
    {
      "cell_type": "markdown",
      "metadata": {
        "id": "1PEfrr3Kmnn8"
      },
      "source": [
        "Install the Transformers, Datasets, and Evaluate libraries to run this notebook."
      ]
    },
    {
      "cell_type": "code",
      "execution_count": null,
      "metadata": {
        "id": "Xp3ViAJomnn9"
      },
      "outputs": [],
      "source": [
        "!pip install datasets evaluate transformers[sentencepiece]"
      ]
    },
    {
      "cell_type": "markdown",
      "source": [
        "<font color = 'lightgreen'>Transformers предоставляет класс Trainer, который поможет вам настроить любую из предварительно обученных моделей, которые он предоставляет для вашего набора данных. После того, как вы выполните всю работу по предварительной обработке данных в последнем разделе, вам останется всего несколько шагов, чтобы определить Trainer. Самая сложная часть, вероятно, будет заключаться в подготовке среды для запуска Trainer.train(), так как он будет работать очень медленно на CPU. Если у вас нет настроенного GPU, вы можете получить доступ к бесплатным GPU или TPU в Google Colab.\n",
        "\n",
        "Примеры кода ниже предполагают, что вы уже выполнили примеры из предыдущего раздела. Вот краткое резюме того, что вам нужно:"
      ],
      "metadata": {
        "id": "MFrxT7bdoIL1"
      }
    },
    {
      "cell_type": "code",
      "execution_count": null,
      "metadata": {
        "id": "SPVeGkpkmnn-"
      },
      "outputs": [],
      "source": [
        "from datasets import load_dataset\n",
        "from transformers import AutoTokenizer, DataCollatorWithPadding\n",
        "\n",
        "raw_datasets = load_dataset(\"glue\", \"mrpc\")\n",
        "checkpoint = \"bert-base-uncased\"\n",
        "tokenizer = AutoTokenizer.from_pretrained(checkpoint)\n",
        "\n",
        "\n",
        "def tokenize_function(example):\n",
        "    return tokenizer(example[\"sentence1\"], example[\"sentence2\"], truncation=True)\n",
        "\n",
        "\n",
        "tokenized_datasets = raw_datasets.map(tokenize_function, batched=True)\n",
        "data_collator = DataCollatorWithPadding(tokenizer=tokenizer)"
      ]
    },
    {
      "cell_type": "markdown",
      "source": [
        "Собственно, это то, что было выполнено на предыдущих шагах - данные были токенизированы для процесса оценки парафраз."
      ],
      "metadata": {
        "id": "9WRST6ExoofV"
      }
    },
    {
      "cell_type": "markdown",
      "source": [
        "## Обучение"
      ],
      "metadata": {
        "id": "q1vGNJyNohgs"
      }
    },
    {
      "cell_type": "markdown",
      "source": [
        "\n",
        "<font color = 'lightgreen'>Первый шаг перед тем, как мы сможем определить наш Trainer, — это определить класс TrainingArguments, который будет содержать все гиперпараметры, которые Trainer будет использовать для обучения и оценки. Единственный аргумент, который вам нужно предоставить, — это каталог, в котором будет сохранена обученная модель, а также контрольные точки по пути. Для всего остального вы можете оставить значения по умолчанию, которые должны работать довольно хорошо для базовой тонкой настройки."
      ],
      "metadata": {
        "id": "4N6YhIiHomHb"
      }
    },
    {
      "cell_type": "code",
      "execution_count": 8,
      "metadata": {
        "id": "uHWLeG3wmnn-"
      },
      "outputs": [],
      "source": [
        "from transformers import TrainingArguments\n",
        "\n",
        "# training_args = TrainingArguments(\"test-trainer\")\n",
        "\n",
        "\n",
        "training_args = TrainingArguments(\n",
        "    output_dir=\"./bert-output\",\n",
        "    report_to=\"none\"  # Отключает wandb\n",
        ")"
      ]
    },
    {
      "cell_type": "markdown",
      "source": [
        "## Про wandb"
      ],
      "metadata": {
        "id": "pho5P24x1rpt"
      }
    },
    {
      "cell_type": "markdown",
      "source": [
        "report_to=\"none\"  # Отключает wandb\n",
        "нужен для того, чтобы не возникало лишних действий с подключением к wandb  \n",
        "Run data is saved locally in /content/wandb/run-20250220_190013-5qkj1d5z\n",
        "Syncing run test-trainer to Weights & Biases (docs)\n",
        "View project at https://wandb.ai/yurkmez-shaikh-individual/huggingface\n",
        "View run at https://wandb.ai/yurkmez-shaikh-individual/huggingface/runs/5qkj1d5z\n",
        "\n",
        "При выполненном запуске\n",
        "Эти сообщения относятся к Weights & Biases (wandb) — инструменту для отслеживания экспериментов с моделями машинного обучения. Давайте разберем их:\n",
        "\n",
        "1️⃣ \"Run data is saved locally in /content/wandb/run-20250220_190013-5qkj1d5z\"\n",
        "Это означает, что все данные текущего запуска (run) сохраняются локально в директории /content/wandb/....\n",
        "Там хранятся логи, метрики, конфигурация обучения и другие данные.\n",
        "2️⃣ \"Syncing run test-trainer to Weights & Biases (docs)\"\n",
        "wandb автоматически синхронизирует данные этого запуска (test-trainer) с облачным сервисом Weights & Biases.\n",
        "Это позволяет просматривать графики, логи и метрики в веб-интерфейсе wandb.ai.\n",
        "3️⃣ \"View project at https://wandb.ai/yurkmez-shaikh-individual/huggingface\"\n",
        "Это ссылка на весь проект в Weights & Biases.\n",
        "Там можно увидеть все запуски (runs), сравнивать их, строить графики и анализировать результаты.\n",
        "4️⃣ \"View run at https://wandb.ai/yurkmez-shaikh-individual/huggingface/runs/5qkj1d5z\"\n",
        "Это ссылка на конкретный запуск (run).\n",
        "В ней можно увидеть параметры обучения, метрики (loss, accuracy и т. д.), логи, графики и другие данные.\n",
        "\n",
        "!!!! Если вы не хотите загружать данные в wandb, отключите его:  \n",
        "training_args = TrainingArguments(\n",
        "    output_dir=\"./bert-output\",\n",
        "    report_to=\"none\"  # Отключает wandb\n",
        ")  \n"
      ],
      "metadata": {
        "id": "rb-5IwMcvVof"
      }
    },
    {
      "cell_type": "markdown",
      "source": [
        "## Далее ..."
      ],
      "metadata": {
        "id": "acJBHtDA10xV"
      }
    },
    {
      "cell_type": "markdown",
      "source": [
        "💡 <font color = 'lightgreen'>Если вы хотите автоматически загружать свою модель в Hub во время обучения, передайте push_to_hub=True в TrainingArguments. Подробнее об этом позже"
      ],
      "metadata": {
        "id": "Hnu4FDm2pRtf"
      }
    },
    {
      "cell_type": "code",
      "source": [
        "training_args"
      ],
      "metadata": {
        "id": "MuV6sa8Ao9ip"
      },
      "execution_count": null,
      "outputs": []
    },
    {
      "cell_type": "markdown",
      "source": [
        "<font color = 'lightgreen'>The second step is to define our model. As in the previous chapter, we will use the `AutoModelForSequenceClassification` class, with two labels:"
      ],
      "metadata": {
        "id": "aPM1QOacp0fu"
      }
    },
    {
      "cell_type": "code",
      "execution_count": 10,
      "metadata": {
        "colab": {
          "base_uri": "https://localhost:8080/",
          "height": 104,
          "referenced_widgets": [
            "97722f4c8f9a4ba292409114ad94447b",
            "e794594f5d924003830ab9412508991d",
            "7c8c26c7cecd4088809257b60e3aa569",
            "a34de7966f2348db9bcf8f813cad0f7a",
            "0217dfc9985f4a989ede8a392aca3868",
            "f630748becc74fc6a42095d7bc1533ad",
            "8c38a22a6a304a2bbc9617b56301f84e",
            "d1362a2cac8647c8ac38181c8e7cbe68",
            "7620923c2fc3407fa7bd857754914369",
            "a2fa8706d2c344d6a4f43f98090e3105",
            "d25b0eb346234823afd89efbb2015c9a"
          ]
        },
        "id": "X2tiEkwUmnn_",
        "outputId": "0a06a6f1-9a32-4975-c9fb-cf882052bec5"
      },
      "outputs": [
        {
          "output_type": "display_data",
          "data": {
            "text/plain": [
              "model.safetensors:   0%|          | 0.00/440M [00:00<?, ?B/s]"
            ],
            "application/vnd.jupyter.widget-view+json": {
              "version_major": 2,
              "version_minor": 0,
              "model_id": "97722f4c8f9a4ba292409114ad94447b"
            }
          },
          "metadata": {}
        },
        {
          "output_type": "stream",
          "name": "stderr",
          "text": [
            "Some weights of BertForSequenceClassification were not initialized from the model checkpoint at bert-base-uncased and are newly initialized: ['classifier.bias', 'classifier.weight']\n",
            "You should probably TRAIN this model on a down-stream task to be able to use it for predictions and inference.\n"
          ]
        }
      ],
      "source": [
        "from transformers import AutoModelForSequenceClassification\n",
        "\n",
        "model = AutoModelForSequenceClassification.from_pretrained(checkpoint, num_labels=2)"
      ]
    },
    {
      "cell_type": "markdown",
      "source": [
        "<font color = 'lightgreen'>вы получаете предупреждение после создания экземпляра этой предварительно обученной модели - BERT не был предварительно обучен классификации пар предложений, поэтому заголовок предварительно обученной модели был отброшен, а вместо него был добавлен новый заголовок, подходящий для классификации последовательностей. Предупреждения указывают на то, что некоторые веса не были использованы (те, которые соответствуют удаленному предварительно обученному заголовку), а некоторые другие были инициализированы случайным образом (те, которые предназначены для нового заголовка). В заключение предлагается обучить модель, что мы и собираемся сделать сейчас.  \n",
        "\n",
        "<font color = 'yellow'>Получив модель, мы можем определить Trainer, передав ему все объекты, созданные до сих пор — модель, training_args, наборы данных для обучения и проверки, наш data_collator и наш tokenizer:"
      ],
      "metadata": {
        "id": "BPyYbUVupmqp"
      }
    },
    {
      "cell_type": "code",
      "execution_count": 11,
      "metadata": {
        "id": "4VT9Noltmnn_"
      },
      "outputs": [],
      "source": [
        "from transformers import Trainer\n",
        "\n",
        "trainer = Trainer(\n",
        "    model,\n",
        "    training_args,\n",
        "    train_dataset=tokenized_datasets[\"train\"],\n",
        "    eval_dataset=tokenized_datasets[\"validation\"],\n",
        "    data_collator=data_collator,\n",
        "    processing_class=tokenizer,\n",
        ")"
      ]
    },
    {
      "cell_type": "markdown",
      "source": [
        "<font color = 'lightgreen'>Обратите внимание, что когда вы передаете токенизатор, как мы сделали здесь, data_collator по умолчанию, используемый Trainer, будет DataCollatorWithPadding, как определено ранее, поэтому вы можете пропустить строку data_collator=data_collator в этом вызове. Все равно было важно показать вам эту часть обработки в разделе 2!\n",
        "\n",
        "<font color = 'yellow'>Чтобы точно настроить модель на нашем наборе данных, нам просто нужно вызвать метод train() нашего Trainer:"
      ],
      "metadata": {
        "id": "7dBSIugfquct"
      }
    },
    {
      "cell_type": "code",
      "source": [
        "import torch\n",
        "print(\"GPU доступен:\", torch.cuda.is_available())\n",
        "print(\"Название GPU:\", torch.cuda.get_device_name(0) if torch.cuda.is_available() else \"Нет GPU\")"
      ],
      "metadata": {
        "id": "jb9IEsHx0Gjz",
        "outputId": "26bab410-3ccc-4ffc-cf29-0cd1121262b7",
        "colab": {
          "base_uri": "https://localhost:8080/"
        }
      },
      "execution_count": 1,
      "outputs": [
        {
          "output_type": "stream",
          "name": "stdout",
          "text": [
            "GPU доступен: True\n",
            "Название GPU: Tesla T4\n"
          ]
        }
      ]
    },
    {
      "cell_type": "code",
      "execution_count": 12,
      "metadata": {
        "colab": {
          "base_uri": "https://localhost:8080/",
          "height": 173
        },
        "id": "_150BuNymnn_",
        "outputId": "442a9822-49fb-49db-a3dd-7582198c5d22"
      },
      "outputs": [
        {
          "output_type": "display_data",
          "data": {
            "text/plain": [
              "<IPython.core.display.HTML object>"
            ],
            "text/html": [
              "\n",
              "    <div>\n",
              "      \n",
              "      <progress value='1377' max='1377' style='width:300px; height:20px; vertical-align: middle;'></progress>\n",
              "      [1377/1377 03:46, Epoch 3/3]\n",
              "    </div>\n",
              "    <table border=\"1\" class=\"dataframe\">\n",
              "  <thead>\n",
              " <tr style=\"text-align: left;\">\n",
              "      <th>Step</th>\n",
              "      <th>Training Loss</th>\n",
              "    </tr>\n",
              "  </thead>\n",
              "  <tbody>\n",
              "    <tr>\n",
              "      <td>500</td>\n",
              "      <td>0.502800</td>\n",
              "    </tr>\n",
              "    <tr>\n",
              "      <td>1000</td>\n",
              "      <td>0.229800</td>\n",
              "    </tr>\n",
              "  </tbody>\n",
              "</table><p>"
            ]
          },
          "metadata": {}
        },
        {
          "output_type": "execute_result",
          "data": {
            "text/plain": [
              "TrainOutput(global_step=1377, training_loss=0.2886179187805131, metrics={'train_runtime': 227.7617, 'train_samples_per_second': 48.314, 'train_steps_per_second': 6.046, 'total_flos': 405114969714960.0, 'train_loss': 0.2886179187805131, 'epoch': 3.0})"
            ]
          },
          "metadata": {},
          "execution_count": 12
        }
      ],
      "source": [
        "trainer.train()"
      ]
    },
    {
      "cell_type": "markdown",
      "source": [
        "<font color = 'lightgreen'>Это запустит тонкую настройку (которая должна занять пару минут на GPU) и сообщит о потере обучения каждые 500 шагов. Однако это не скажет вам, насколько хорошо (или плохо) работает ваша модель. Это потому, что:\n",
        "Мы не сказали Тренеру оценивать во время обучения, установив Evaluation_strategy на \"steps\" (оценивать каждые eval_steps) или \"epoch\" (оценивать в конце каждой эпохи).\n",
        "Мы не предоставили Тренеру функцию compute_metrics() для расчета метрики во время указанной оценки (иначе оценка просто вывела бы потерю, что не является очень интуитивно понятным числом)."
      ],
      "metadata": {
        "id": "z9asBPDsx_zv"
      }
    },
    {
      "cell_type": "markdown",
      "source": [
        "### Evaluation (Оценка)"
      ],
      "metadata": {
        "id": "CeQOksZK2oQC"
      }
    },
    {
      "cell_type": "markdown",
      "source": [
        "Давайте посмотрим, как мы можем построить полезную функцию compute_metrics() и использовать ее в следующий раз, когда мы будем тренироваться. Функция должна принимать объект EvalPrediction (который является именованным кортежем с полем predicts и полем label_ids) и будет возвращать словарь, сопоставляющий строки с плавающими числами (строки являются именами возвращаемых метрик, а плавающие числа — их значениями). Чтобы получить некоторые прогнозы из нашей модели, мы можем использовать команду Trainer.predict():"
      ],
      "metadata": {
        "id": "6s-A8Xpi2032"
      }
    },
    {
      "cell_type": "code",
      "execution_count": 13,
      "metadata": {
        "colab": {
          "base_uri": "https://localhost:8080/",
          "height": 34
        },
        "id": "GbM-QnUhmnoA",
        "outputId": "8f36d830-c927-4310-eb9f-82a9d0658a0d"
      },
      "outputs": [
        {
          "output_type": "display_data",
          "data": {
            "text/plain": [
              "<IPython.core.display.HTML object>"
            ],
            "text/html": []
          },
          "metadata": {}
        },
        {
          "output_type": "stream",
          "name": "stdout",
          "text": [
            "(408, 2) (408,)\n"
          ]
        }
      ],
      "source": [
        "predictions = trainer.predict(tokenized_datasets[\"validation\"])\n",
        "print(predictions.predictions.shape, predictions.label_ids.shape)"
      ]
    },
    {
      "cell_type": "markdown",
      "source": [
        "Выход метода predict() — это еще один именованный кортеж с тремя полями: predicts, label_ids и metrics. Поле metrics будет содержать только потери в переданном наборе данных, а также некоторые временные метрики (сколько времени потребовалось для прогнозирования, в целом и в среднем). После того, как мы завершим нашу функцию compute_metrics() и передадим ее Trainer, это поле также будет содержать метрики, возвращаемые compute_metrics().\n",
        "\n",
        "Как вы можете видеть, predicts — это двумерный массив размером 408 x 2 (408 — количество элементов в наборе данных, который мы использовали). Это логиты для каждого элемента набора данных, который мы передали predict() (как вы видели в предыдущей главе, все модели Transformer возвращают логиты). Чтобы преобразовать их в прогнозы, которые мы можем сравнить с нашими метками, нам нужно взять индекс с максимальным значением на второй оси:"
      ],
      "metadata": {
        "id": "pMPR_ute3Bx7"
      }
    },
    {
      "cell_type": "code",
      "execution_count": 14,
      "metadata": {
        "id": "dtozze92mnoA"
      },
      "outputs": [],
      "source": [
        "import numpy as np\n",
        "\n",
        "preds = np.argmax(predictions.predictions, axis=-1)"
      ]
    },
    {
      "cell_type": "markdown",
      "source": [
        "Теперь мы можем сравнить эти pred с метками. Чтобы построить нашу функцию compute_metric(), мы будем полагаться на метрики из библиотеки 🤗 Evaluate. Мы можем загрузить метрики, связанные с набором данных MRPC, так же легко, как мы загрузили набор данных, на этот раз с помощью функции estimate.load(). Возвращенный объект имеет метод compute(), который мы можем использовать для вычисления метрики:"
      ],
      "metadata": {
        "id": "ibrcKBNA3px_"
      }
    },
    {
      "cell_type": "code",
      "execution_count": 15,
      "metadata": {
        "colab": {
          "base_uri": "https://localhost:8080/",
          "height": 66,
          "referenced_widgets": [
            "e1e4f84a0f4047799a51e4396725ece6",
            "27bcf9f986d5403290a00b208342ffab",
            "ccebd83757a3451e87607133f5b02ccb",
            "9f9bdb508e2742898d31056bb83941e6",
            "3880d21a6386423fa83a9b7b37032b03",
            "a7b046ad51564f59b073a9444137829b",
            "ae742f1ccd034623aaa0343d2cfe9b7a",
            "46e8867e0c094908857e31faf410d5d8",
            "27dd94f754b0499b8f0c30e937b41c52",
            "17e97cee758a4079bb72090a5dc39cfb",
            "4fe1d4e29a704e6c851f5585e3c77216"
          ]
        },
        "id": "U7QHeacwmnoA",
        "outputId": "de4c926b-ef34-4ddd-8e7a-e988f5a1aca8"
      },
      "outputs": [
        {
          "output_type": "display_data",
          "data": {
            "text/plain": [
              "Downloading builder script:   0%|          | 0.00/5.75k [00:00<?, ?B/s]"
            ],
            "application/vnd.jupyter.widget-view+json": {
              "version_major": 2,
              "version_minor": 0,
              "model_id": "e1e4f84a0f4047799a51e4396725ece6"
            }
          },
          "metadata": {}
        },
        {
          "output_type": "execute_result",
          "data": {
            "text/plain": [
              "{'accuracy': 0.8553921568627451, 'f1': 0.8998302207130731}"
            ]
          },
          "metadata": {},
          "execution_count": 15
        }
      ],
      "source": [
        "import evaluate\n",
        "\n",
        "metric = evaluate.load(\"glue\", \"mrpc\")\n",
        "metric.compute(predictions=preds, references=predictions.label_ids)"
      ]
    },
    {
      "cell_type": "markdown",
      "source": [
        "Точные результаты, которые вы получите, могут отличаться, так как случайная инициализация головки модели может изменить достигнутые ею метрики. Здесь мы видим, что наша модель имеет точность 85,78% на проверочном наборе и оценку F1 89,97. Это две метрики, используемые для оценки результатов на наборе данных MRPC для бенчмарка GLUE. Таблица в статье BERT сообщила оценку F1 88,9 для базовой модели. Это была модель без учета, в то время как в настоящее время мы используем модель с учетом, что объясняет лучший результат.\n",
        "\n",
        "Объединяя все вместе, мы получаем нашу функцию compute_metrics():"
      ],
      "metadata": {
        "id": "qu1uQ3jy4EzH"
      }
    },
    {
      "cell_type": "code",
      "execution_count": 16,
      "metadata": {
        "id": "PxRgR_LpmnoB"
      },
      "outputs": [],
      "source": [
        "def compute_metrics(eval_preds):\n",
        "    metric = evaluate.load(\"glue\", \"mrpc\")\n",
        "    logits, labels = eval_preds\n",
        "    predictions = np.argmax(logits, axis=-1)\n",
        "    return metric.compute(predictions=predictions, references=labels)"
      ]
    },
    {
      "cell_type": "markdown",
      "source": [
        "И чтобы увидеть, как это используется в действии для отчета о метриках в конце каждой эпохи, вот как мы определяем новый Trainer с помощью этой функции compute_metrics():"
      ],
      "metadata": {
        "id": "VbUUn7gS4XNG"
      }
    },
    {
      "cell_type": "markdown",
      "source": [
        "Обратите внимание, что мы создаем новый TrainingArguments с его evaluation_strategy, установленным на \"epoch\", и новую модель — в противном случае мы бы просто продолжили обучение модели, которую мы уже обучили. Чтобы запустить новый тренировочный запуск, мы выполняем:"
      ],
      "metadata": {
        "id": "IBsGMd3T4fp3"
      }
    },
    {
      "cell_type": "code",
      "execution_count": 18,
      "metadata": {
        "colab": {
          "base_uri": "https://localhost:8080/"
        },
        "id": "o37DpIZGmnoB",
        "outputId": "e79eba0d-e21c-4a26-a4c0-d964778b9b94"
      },
      "outputs": [
        {
          "output_type": "stream",
          "name": "stderr",
          "text": [
            "/usr/local/lib/python3.11/dist-packages/transformers/training_args.py:1575: FutureWarning: `evaluation_strategy` is deprecated and will be removed in version 4.46 of 🤗 Transformers. Use `eval_strategy` instead\n",
            "  warnings.warn(\n",
            "Some weights of BertForSequenceClassification were not initialized from the model checkpoint at bert-base-uncased and are newly initialized: ['classifier.bias', 'classifier.weight']\n",
            "You should probably TRAIN this model on a down-stream task to be able to use it for predictions and inference.\n",
            "<ipython-input-18-61a6c08c965e>:4: FutureWarning: `tokenizer` is deprecated and will be removed in version 5.0.0 for `Trainer.__init__`. Use `processing_class` instead.\n",
            "  trainer = Trainer(\n"
          ]
        }
      ],
      "source": [
        "training_args = TrainingArguments(\"test-trainer\", evaluation_strategy=\"epoch\",  report_to=\"none\")\n",
        "model = AutoModelForSequenceClassification.from_pretrained(checkpoint, num_labels=2)\n",
        "\n",
        "trainer = Trainer(\n",
        "    model,\n",
        "    training_args,\n",
        "    train_dataset=tokenized_datasets[\"train\"],\n",
        "    eval_dataset=tokenized_datasets[\"validation\"],\n",
        "    data_collator=data_collator,\n",
        "    tokenizer=tokenizer,\n",
        "    compute_metrics=compute_metrics,\n",
        ")"
      ]
    },
    {
      "cell_type": "markdown",
      "source": [
        "На этот раз он сообщит о потере проверки и метриках в конце каждой эпохи поверх потери обучения. Опять же, точная оценка точности/F1, которую вы достигнете, может немного отличаться от той, что нашли мы, из-за случайной инициализации модели, но она должна быть в том же диапазоне.\n",
        "\n",
        "Trainer будет работать из коробки на нескольких GPU или TPU и предоставляет множество опций, таких как обучение со смешанной точностью (используйте fp16 = True в ваших аргументах обучения). Мы рассмотрим все, что он поддерживает, в Главе 10.\n",
        "\n",
        "На этом завершается введение в тонкую настройку с использованием API Trainer. Пример выполнения этого для большинства распространенных задач NLP будет приведен в Главе 7, но сейчас давайте рассмотрим, как сделать то же самое в чистом PyTorch."
      ],
      "metadata": {
        "id": "xpm8k35449gB"
      }
    },
    {
      "cell_type": "code",
      "execution_count": 19,
      "metadata": {
        "colab": {
          "base_uri": "https://localhost:8080/",
          "height": 204
        },
        "id": "LIX0kOtwmnoB",
        "outputId": "3d7af3db-d747-4eb9-c500-653cc0fb1457"
      },
      "outputs": [
        {
          "output_type": "display_data",
          "data": {
            "text/plain": [
              "<IPython.core.display.HTML object>"
            ],
            "text/html": [
              "\n",
              "    <div>\n",
              "      \n",
              "      <progress value='1377' max='1377' style='width:300px; height:20px; vertical-align: middle;'></progress>\n",
              "      [1377/1377 04:02, Epoch 3/3]\n",
              "    </div>\n",
              "    <table border=\"1\" class=\"dataframe\">\n",
              "  <thead>\n",
              " <tr style=\"text-align: left;\">\n",
              "      <th>Epoch</th>\n",
              "      <th>Training Loss</th>\n",
              "      <th>Validation Loss</th>\n",
              "      <th>Accuracy</th>\n",
              "      <th>F1</th>\n",
              "    </tr>\n",
              "  </thead>\n",
              "  <tbody>\n",
              "    <tr>\n",
              "      <td>1</td>\n",
              "      <td>No log</td>\n",
              "      <td>0.371126</td>\n",
              "      <td>0.857843</td>\n",
              "      <td>0.901024</td>\n",
              "    </tr>\n",
              "    <tr>\n",
              "      <td>2</td>\n",
              "      <td>0.527200</td>\n",
              "      <td>0.459970</td>\n",
              "      <td>0.845588</td>\n",
              "      <td>0.893401</td>\n",
              "    </tr>\n",
              "    <tr>\n",
              "      <td>3</td>\n",
              "      <td>0.279600</td>\n",
              "      <td>0.774146</td>\n",
              "      <td>0.848039</td>\n",
              "      <td>0.894915</td>\n",
              "    </tr>\n",
              "  </tbody>\n",
              "</table><p>"
            ]
          },
          "metadata": {}
        },
        {
          "output_type": "execute_result",
          "data": {
            "text/plain": [
              "TrainOutput(global_step=1377, training_loss=0.3341553964386319, metrics={'train_runtime': 242.643, 'train_samples_per_second': 45.351, 'train_steps_per_second': 5.675, 'total_flos': 405114969714960.0, 'train_loss': 0.3341553964386319, 'epoch': 3.0})"
            ]
          },
          "metadata": {},
          "execution_count": 19
        }
      ],
      "source": [
        "trainer.train()"
      ]
    }
  ],
  "metadata": {
    "colab": {
      "name": "Fine-tuning a model with the Trainer API or Keras",
      "provenance": [],
      "gpuType": "T4"
    },
    "language_info": {
      "name": "python"
    },
    "kernelspec": {
      "name": "python3",
      "display_name": "Python 3"
    },
    "accelerator": "GPU",
    "widgets": {
      "application/vnd.jupyter.widget-state+json": {
        "97722f4c8f9a4ba292409114ad94447b": {
          "model_module": "@jupyter-widgets/controls",
          "model_name": "HBoxModel",
          "model_module_version": "1.5.0",
          "state": {
            "_dom_classes": [],
            "_model_module": "@jupyter-widgets/controls",
            "_model_module_version": "1.5.0",
            "_model_name": "HBoxModel",
            "_view_count": null,
            "_view_module": "@jupyter-widgets/controls",
            "_view_module_version": "1.5.0",
            "_view_name": "HBoxView",
            "box_style": "",
            "children": [
              "IPY_MODEL_e794594f5d924003830ab9412508991d",
              "IPY_MODEL_7c8c26c7cecd4088809257b60e3aa569",
              "IPY_MODEL_a34de7966f2348db9bcf8f813cad0f7a"
            ],
            "layout": "IPY_MODEL_0217dfc9985f4a989ede8a392aca3868"
          }
        },
        "e794594f5d924003830ab9412508991d": {
          "model_module": "@jupyter-widgets/controls",
          "model_name": "HTMLModel",
          "model_module_version": "1.5.0",
          "state": {
            "_dom_classes": [],
            "_model_module": "@jupyter-widgets/controls",
            "_model_module_version": "1.5.0",
            "_model_name": "HTMLModel",
            "_view_count": null,
            "_view_module": "@jupyter-widgets/controls",
            "_view_module_version": "1.5.0",
            "_view_name": "HTMLView",
            "description": "",
            "description_tooltip": null,
            "layout": "IPY_MODEL_f630748becc74fc6a42095d7bc1533ad",
            "placeholder": "​",
            "style": "IPY_MODEL_8c38a22a6a304a2bbc9617b56301f84e",
            "value": "model.safetensors: 100%"
          }
        },
        "7c8c26c7cecd4088809257b60e3aa569": {
          "model_module": "@jupyter-widgets/controls",
          "model_name": "FloatProgressModel",
          "model_module_version": "1.5.0",
          "state": {
            "_dom_classes": [],
            "_model_module": "@jupyter-widgets/controls",
            "_model_module_version": "1.5.0",
            "_model_name": "FloatProgressModel",
            "_view_count": null,
            "_view_module": "@jupyter-widgets/controls",
            "_view_module_version": "1.5.0",
            "_view_name": "ProgressView",
            "bar_style": "success",
            "description": "",
            "description_tooltip": null,
            "layout": "IPY_MODEL_d1362a2cac8647c8ac38181c8e7cbe68",
            "max": 440449768,
            "min": 0,
            "orientation": "horizontal",
            "style": "IPY_MODEL_7620923c2fc3407fa7bd857754914369",
            "value": 440449768
          }
        },
        "a34de7966f2348db9bcf8f813cad0f7a": {
          "model_module": "@jupyter-widgets/controls",
          "model_name": "HTMLModel",
          "model_module_version": "1.5.0",
          "state": {
            "_dom_classes": [],
            "_model_module": "@jupyter-widgets/controls",
            "_model_module_version": "1.5.0",
            "_model_name": "HTMLModel",
            "_view_count": null,
            "_view_module": "@jupyter-widgets/controls",
            "_view_module_version": "1.5.0",
            "_view_name": "HTMLView",
            "description": "",
            "description_tooltip": null,
            "layout": "IPY_MODEL_a2fa8706d2c344d6a4f43f98090e3105",
            "placeholder": "​",
            "style": "IPY_MODEL_d25b0eb346234823afd89efbb2015c9a",
            "value": " 440M/440M [00:02&lt;00:00, 174MB/s]"
          }
        },
        "0217dfc9985f4a989ede8a392aca3868": {
          "model_module": "@jupyter-widgets/base",
          "model_name": "LayoutModel",
          "model_module_version": "1.2.0",
          "state": {
            "_model_module": "@jupyter-widgets/base",
            "_model_module_version": "1.2.0",
            "_model_name": "LayoutModel",
            "_view_count": null,
            "_view_module": "@jupyter-widgets/base",
            "_view_module_version": "1.2.0",
            "_view_name": "LayoutView",
            "align_content": null,
            "align_items": null,
            "align_self": null,
            "border": null,
            "bottom": null,
            "display": null,
            "flex": null,
            "flex_flow": null,
            "grid_area": null,
            "grid_auto_columns": null,
            "grid_auto_flow": null,
            "grid_auto_rows": null,
            "grid_column": null,
            "grid_gap": null,
            "grid_row": null,
            "grid_template_areas": null,
            "grid_template_columns": null,
            "grid_template_rows": null,
            "height": null,
            "justify_content": null,
            "justify_items": null,
            "left": null,
            "margin": null,
            "max_height": null,
            "max_width": null,
            "min_height": null,
            "min_width": null,
            "object_fit": null,
            "object_position": null,
            "order": null,
            "overflow": null,
            "overflow_x": null,
            "overflow_y": null,
            "padding": null,
            "right": null,
            "top": null,
            "visibility": null,
            "width": null
          }
        },
        "f630748becc74fc6a42095d7bc1533ad": {
          "model_module": "@jupyter-widgets/base",
          "model_name": "LayoutModel",
          "model_module_version": "1.2.0",
          "state": {
            "_model_module": "@jupyter-widgets/base",
            "_model_module_version": "1.2.0",
            "_model_name": "LayoutModel",
            "_view_count": null,
            "_view_module": "@jupyter-widgets/base",
            "_view_module_version": "1.2.0",
            "_view_name": "LayoutView",
            "align_content": null,
            "align_items": null,
            "align_self": null,
            "border": null,
            "bottom": null,
            "display": null,
            "flex": null,
            "flex_flow": null,
            "grid_area": null,
            "grid_auto_columns": null,
            "grid_auto_flow": null,
            "grid_auto_rows": null,
            "grid_column": null,
            "grid_gap": null,
            "grid_row": null,
            "grid_template_areas": null,
            "grid_template_columns": null,
            "grid_template_rows": null,
            "height": null,
            "justify_content": null,
            "justify_items": null,
            "left": null,
            "margin": null,
            "max_height": null,
            "max_width": null,
            "min_height": null,
            "min_width": null,
            "object_fit": null,
            "object_position": null,
            "order": null,
            "overflow": null,
            "overflow_x": null,
            "overflow_y": null,
            "padding": null,
            "right": null,
            "top": null,
            "visibility": null,
            "width": null
          }
        },
        "8c38a22a6a304a2bbc9617b56301f84e": {
          "model_module": "@jupyter-widgets/controls",
          "model_name": "DescriptionStyleModel",
          "model_module_version": "1.5.0",
          "state": {
            "_model_module": "@jupyter-widgets/controls",
            "_model_module_version": "1.5.0",
            "_model_name": "DescriptionStyleModel",
            "_view_count": null,
            "_view_module": "@jupyter-widgets/base",
            "_view_module_version": "1.2.0",
            "_view_name": "StyleView",
            "description_width": ""
          }
        },
        "d1362a2cac8647c8ac38181c8e7cbe68": {
          "model_module": "@jupyter-widgets/base",
          "model_name": "LayoutModel",
          "model_module_version": "1.2.0",
          "state": {
            "_model_module": "@jupyter-widgets/base",
            "_model_module_version": "1.2.0",
            "_model_name": "LayoutModel",
            "_view_count": null,
            "_view_module": "@jupyter-widgets/base",
            "_view_module_version": "1.2.0",
            "_view_name": "LayoutView",
            "align_content": null,
            "align_items": null,
            "align_self": null,
            "border": null,
            "bottom": null,
            "display": null,
            "flex": null,
            "flex_flow": null,
            "grid_area": null,
            "grid_auto_columns": null,
            "grid_auto_flow": null,
            "grid_auto_rows": null,
            "grid_column": null,
            "grid_gap": null,
            "grid_row": null,
            "grid_template_areas": null,
            "grid_template_columns": null,
            "grid_template_rows": null,
            "height": null,
            "justify_content": null,
            "justify_items": null,
            "left": null,
            "margin": null,
            "max_height": null,
            "max_width": null,
            "min_height": null,
            "min_width": null,
            "object_fit": null,
            "object_position": null,
            "order": null,
            "overflow": null,
            "overflow_x": null,
            "overflow_y": null,
            "padding": null,
            "right": null,
            "top": null,
            "visibility": null,
            "width": null
          }
        },
        "7620923c2fc3407fa7bd857754914369": {
          "model_module": "@jupyter-widgets/controls",
          "model_name": "ProgressStyleModel",
          "model_module_version": "1.5.0",
          "state": {
            "_model_module": "@jupyter-widgets/controls",
            "_model_module_version": "1.5.0",
            "_model_name": "ProgressStyleModel",
            "_view_count": null,
            "_view_module": "@jupyter-widgets/base",
            "_view_module_version": "1.2.0",
            "_view_name": "StyleView",
            "bar_color": null,
            "description_width": ""
          }
        },
        "a2fa8706d2c344d6a4f43f98090e3105": {
          "model_module": "@jupyter-widgets/base",
          "model_name": "LayoutModel",
          "model_module_version": "1.2.0",
          "state": {
            "_model_module": "@jupyter-widgets/base",
            "_model_module_version": "1.2.0",
            "_model_name": "LayoutModel",
            "_view_count": null,
            "_view_module": "@jupyter-widgets/base",
            "_view_module_version": "1.2.0",
            "_view_name": "LayoutView",
            "align_content": null,
            "align_items": null,
            "align_self": null,
            "border": null,
            "bottom": null,
            "display": null,
            "flex": null,
            "flex_flow": null,
            "grid_area": null,
            "grid_auto_columns": null,
            "grid_auto_flow": null,
            "grid_auto_rows": null,
            "grid_column": null,
            "grid_gap": null,
            "grid_row": null,
            "grid_template_areas": null,
            "grid_template_columns": null,
            "grid_template_rows": null,
            "height": null,
            "justify_content": null,
            "justify_items": null,
            "left": null,
            "margin": null,
            "max_height": null,
            "max_width": null,
            "min_height": null,
            "min_width": null,
            "object_fit": null,
            "object_position": null,
            "order": null,
            "overflow": null,
            "overflow_x": null,
            "overflow_y": null,
            "padding": null,
            "right": null,
            "top": null,
            "visibility": null,
            "width": null
          }
        },
        "d25b0eb346234823afd89efbb2015c9a": {
          "model_module": "@jupyter-widgets/controls",
          "model_name": "DescriptionStyleModel",
          "model_module_version": "1.5.0",
          "state": {
            "_model_module": "@jupyter-widgets/controls",
            "_model_module_version": "1.5.0",
            "_model_name": "DescriptionStyleModel",
            "_view_count": null,
            "_view_module": "@jupyter-widgets/base",
            "_view_module_version": "1.2.0",
            "_view_name": "StyleView",
            "description_width": ""
          }
        },
        "e1e4f84a0f4047799a51e4396725ece6": {
          "model_module": "@jupyter-widgets/controls",
          "model_name": "HBoxModel",
          "model_module_version": "1.5.0",
          "state": {
            "_dom_classes": [],
            "_model_module": "@jupyter-widgets/controls",
            "_model_module_version": "1.5.0",
            "_model_name": "HBoxModel",
            "_view_count": null,
            "_view_module": "@jupyter-widgets/controls",
            "_view_module_version": "1.5.0",
            "_view_name": "HBoxView",
            "box_style": "",
            "children": [
              "IPY_MODEL_27bcf9f986d5403290a00b208342ffab",
              "IPY_MODEL_ccebd83757a3451e87607133f5b02ccb",
              "IPY_MODEL_9f9bdb508e2742898d31056bb83941e6"
            ],
            "layout": "IPY_MODEL_3880d21a6386423fa83a9b7b37032b03"
          }
        },
        "27bcf9f986d5403290a00b208342ffab": {
          "model_module": "@jupyter-widgets/controls",
          "model_name": "HTMLModel",
          "model_module_version": "1.5.0",
          "state": {
            "_dom_classes": [],
            "_model_module": "@jupyter-widgets/controls",
            "_model_module_version": "1.5.0",
            "_model_name": "HTMLModel",
            "_view_count": null,
            "_view_module": "@jupyter-widgets/controls",
            "_view_module_version": "1.5.0",
            "_view_name": "HTMLView",
            "description": "",
            "description_tooltip": null,
            "layout": "IPY_MODEL_a7b046ad51564f59b073a9444137829b",
            "placeholder": "​",
            "style": "IPY_MODEL_ae742f1ccd034623aaa0343d2cfe9b7a",
            "value": "Downloading builder script: 100%"
          }
        },
        "ccebd83757a3451e87607133f5b02ccb": {
          "model_module": "@jupyter-widgets/controls",
          "model_name": "FloatProgressModel",
          "model_module_version": "1.5.0",
          "state": {
            "_dom_classes": [],
            "_model_module": "@jupyter-widgets/controls",
            "_model_module_version": "1.5.0",
            "_model_name": "FloatProgressModel",
            "_view_count": null,
            "_view_module": "@jupyter-widgets/controls",
            "_view_module_version": "1.5.0",
            "_view_name": "ProgressView",
            "bar_style": "success",
            "description": "",
            "description_tooltip": null,
            "layout": "IPY_MODEL_46e8867e0c094908857e31faf410d5d8",
            "max": 5749,
            "min": 0,
            "orientation": "horizontal",
            "style": "IPY_MODEL_27dd94f754b0499b8f0c30e937b41c52",
            "value": 5749
          }
        },
        "9f9bdb508e2742898d31056bb83941e6": {
          "model_module": "@jupyter-widgets/controls",
          "model_name": "HTMLModel",
          "model_module_version": "1.5.0",
          "state": {
            "_dom_classes": [],
            "_model_module": "@jupyter-widgets/controls",
            "_model_module_version": "1.5.0",
            "_model_name": "HTMLModel",
            "_view_count": null,
            "_view_module": "@jupyter-widgets/controls",
            "_view_module_version": "1.5.0",
            "_view_name": "HTMLView",
            "description": "",
            "description_tooltip": null,
            "layout": "IPY_MODEL_17e97cee758a4079bb72090a5dc39cfb",
            "placeholder": "​",
            "style": "IPY_MODEL_4fe1d4e29a704e6c851f5585e3c77216",
            "value": " 5.75k/5.75k [00:00&lt;00:00, 436kB/s]"
          }
        },
        "3880d21a6386423fa83a9b7b37032b03": {
          "model_module": "@jupyter-widgets/base",
          "model_name": "LayoutModel",
          "model_module_version": "1.2.0",
          "state": {
            "_model_module": "@jupyter-widgets/base",
            "_model_module_version": "1.2.0",
            "_model_name": "LayoutModel",
            "_view_count": null,
            "_view_module": "@jupyter-widgets/base",
            "_view_module_version": "1.2.0",
            "_view_name": "LayoutView",
            "align_content": null,
            "align_items": null,
            "align_self": null,
            "border": null,
            "bottom": null,
            "display": null,
            "flex": null,
            "flex_flow": null,
            "grid_area": null,
            "grid_auto_columns": null,
            "grid_auto_flow": null,
            "grid_auto_rows": null,
            "grid_column": null,
            "grid_gap": null,
            "grid_row": null,
            "grid_template_areas": null,
            "grid_template_columns": null,
            "grid_template_rows": null,
            "height": null,
            "justify_content": null,
            "justify_items": null,
            "left": null,
            "margin": null,
            "max_height": null,
            "max_width": null,
            "min_height": null,
            "min_width": null,
            "object_fit": null,
            "object_position": null,
            "order": null,
            "overflow": null,
            "overflow_x": null,
            "overflow_y": null,
            "padding": null,
            "right": null,
            "top": null,
            "visibility": null,
            "width": null
          }
        },
        "a7b046ad51564f59b073a9444137829b": {
          "model_module": "@jupyter-widgets/base",
          "model_name": "LayoutModel",
          "model_module_version": "1.2.0",
          "state": {
            "_model_module": "@jupyter-widgets/base",
            "_model_module_version": "1.2.0",
            "_model_name": "LayoutModel",
            "_view_count": null,
            "_view_module": "@jupyter-widgets/base",
            "_view_module_version": "1.2.0",
            "_view_name": "LayoutView",
            "align_content": null,
            "align_items": null,
            "align_self": null,
            "border": null,
            "bottom": null,
            "display": null,
            "flex": null,
            "flex_flow": null,
            "grid_area": null,
            "grid_auto_columns": null,
            "grid_auto_flow": null,
            "grid_auto_rows": null,
            "grid_column": null,
            "grid_gap": null,
            "grid_row": null,
            "grid_template_areas": null,
            "grid_template_columns": null,
            "grid_template_rows": null,
            "height": null,
            "justify_content": null,
            "justify_items": null,
            "left": null,
            "margin": null,
            "max_height": null,
            "max_width": null,
            "min_height": null,
            "min_width": null,
            "object_fit": null,
            "object_position": null,
            "order": null,
            "overflow": null,
            "overflow_x": null,
            "overflow_y": null,
            "padding": null,
            "right": null,
            "top": null,
            "visibility": null,
            "width": null
          }
        },
        "ae742f1ccd034623aaa0343d2cfe9b7a": {
          "model_module": "@jupyter-widgets/controls",
          "model_name": "DescriptionStyleModel",
          "model_module_version": "1.5.0",
          "state": {
            "_model_module": "@jupyter-widgets/controls",
            "_model_module_version": "1.5.0",
            "_model_name": "DescriptionStyleModel",
            "_view_count": null,
            "_view_module": "@jupyter-widgets/base",
            "_view_module_version": "1.2.0",
            "_view_name": "StyleView",
            "description_width": ""
          }
        },
        "46e8867e0c094908857e31faf410d5d8": {
          "model_module": "@jupyter-widgets/base",
          "model_name": "LayoutModel",
          "model_module_version": "1.2.0",
          "state": {
            "_model_module": "@jupyter-widgets/base",
            "_model_module_version": "1.2.0",
            "_model_name": "LayoutModel",
            "_view_count": null,
            "_view_module": "@jupyter-widgets/base",
            "_view_module_version": "1.2.0",
            "_view_name": "LayoutView",
            "align_content": null,
            "align_items": null,
            "align_self": null,
            "border": null,
            "bottom": null,
            "display": null,
            "flex": null,
            "flex_flow": null,
            "grid_area": null,
            "grid_auto_columns": null,
            "grid_auto_flow": null,
            "grid_auto_rows": null,
            "grid_column": null,
            "grid_gap": null,
            "grid_row": null,
            "grid_template_areas": null,
            "grid_template_columns": null,
            "grid_template_rows": null,
            "height": null,
            "justify_content": null,
            "justify_items": null,
            "left": null,
            "margin": null,
            "max_height": null,
            "max_width": null,
            "min_height": null,
            "min_width": null,
            "object_fit": null,
            "object_position": null,
            "order": null,
            "overflow": null,
            "overflow_x": null,
            "overflow_y": null,
            "padding": null,
            "right": null,
            "top": null,
            "visibility": null,
            "width": null
          }
        },
        "27dd94f754b0499b8f0c30e937b41c52": {
          "model_module": "@jupyter-widgets/controls",
          "model_name": "ProgressStyleModel",
          "model_module_version": "1.5.0",
          "state": {
            "_model_module": "@jupyter-widgets/controls",
            "_model_module_version": "1.5.0",
            "_model_name": "ProgressStyleModel",
            "_view_count": null,
            "_view_module": "@jupyter-widgets/base",
            "_view_module_version": "1.2.0",
            "_view_name": "StyleView",
            "bar_color": null,
            "description_width": ""
          }
        },
        "17e97cee758a4079bb72090a5dc39cfb": {
          "model_module": "@jupyter-widgets/base",
          "model_name": "LayoutModel",
          "model_module_version": "1.2.0",
          "state": {
            "_model_module": "@jupyter-widgets/base",
            "_model_module_version": "1.2.0",
            "_model_name": "LayoutModel",
            "_view_count": null,
            "_view_module": "@jupyter-widgets/base",
            "_view_module_version": "1.2.0",
            "_view_name": "LayoutView",
            "align_content": null,
            "align_items": null,
            "align_self": null,
            "border": null,
            "bottom": null,
            "display": null,
            "flex": null,
            "flex_flow": null,
            "grid_area": null,
            "grid_auto_columns": null,
            "grid_auto_flow": null,
            "grid_auto_rows": null,
            "grid_column": null,
            "grid_gap": null,
            "grid_row": null,
            "grid_template_areas": null,
            "grid_template_columns": null,
            "grid_template_rows": null,
            "height": null,
            "justify_content": null,
            "justify_items": null,
            "left": null,
            "margin": null,
            "max_height": null,
            "max_width": null,
            "min_height": null,
            "min_width": null,
            "object_fit": null,
            "object_position": null,
            "order": null,
            "overflow": null,
            "overflow_x": null,
            "overflow_y": null,
            "padding": null,
            "right": null,
            "top": null,
            "visibility": null,
            "width": null
          }
        },
        "4fe1d4e29a704e6c851f5585e3c77216": {
          "model_module": "@jupyter-widgets/controls",
          "model_name": "DescriptionStyleModel",
          "model_module_version": "1.5.0",
          "state": {
            "_model_module": "@jupyter-widgets/controls",
            "_model_module_version": "1.5.0",
            "_model_name": "DescriptionStyleModel",
            "_view_count": null,
            "_view_module": "@jupyter-widgets/base",
            "_view_module_version": "1.2.0",
            "_view_name": "StyleView",
            "description_width": ""
          }
        }
      }
    }
  },
  "nbformat": 4,
  "nbformat_minor": 0
}