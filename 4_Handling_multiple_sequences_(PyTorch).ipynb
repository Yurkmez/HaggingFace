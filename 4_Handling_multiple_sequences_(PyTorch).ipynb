{
  "cells": [
    {
      "cell_type": "markdown",
      "metadata": {
        "id": "yLlBkMPzJ9hk"
      },
      "source": [
        "# __Handling multiple sequences (PyTorch)__"
      ]
    },
    {
      "cell_type": "markdown",
      "metadata": {
        "id": "nq2SjD-JJ9hn"
      },
      "source": [
        "Install the Transformers, Datasets, and Evaluate libraries to run this notebook."
      ]
    },
    {
      "cell_type": "code",
      "execution_count": null,
      "metadata": {
        "id": "1op9f5YtJ9hn"
      },
      "outputs": [],
      "source": [
        "!pip install datasets evaluate transformers[sentencepiece]"
      ]
    },
    {
      "cell_type": "markdown",
      "source": [
        "## Модели ожидают пакет входных данных"
      ],
      "metadata": {
        "id": "CyF2NJ7UKIKa"
      }
    },
    {
      "cell_type": "markdown",
      "source": [
        "Последовательности преобразуются в списки чисел. Давайте преобразуем этот список чисел в тензор и отправим его в модель:"
      ],
      "metadata": {
        "id": "zVbBXtgQLd98"
      }
    },
    {
      "cell_type": "code",
      "execution_count": 3,
      "metadata": {
        "id": "8XBYUy8wJ9ho"
      },
      "outputs": [],
      "source": [
        "import torch\n",
        "from transformers import AutoTokenizer, AutoModelForSequenceClassification\n",
        "\n",
        "checkpoint = \"distilbert-base-uncased-finetuned-sst-2-english\"\n",
        "tokenizer = AutoTokenizer.from_pretrained(checkpoint)\n",
        "model = AutoModelForSequenceClassification.from_pretrained(checkpoint)\n",
        "\n",
        "sequence = \"I've been waiting for a HuggingFace course my whole life.\"\n",
        "\n",
        "tokens = tokenizer.tokenize(sequence)\n",
        "ids = tokenizer.convert_tokens_to_ids(tokens)\n",
        "input_ids = torch.tensor(ids)"
      ]
    },
    {
      "cell_type": "code",
      "source": [
        "print(tokens)\n",
        "print(ids)\n",
        "print(input_ids)"
      ],
      "metadata": {
        "id": "1adX851uL8g_",
        "outputId": "8ee5411f-b795-467f-d380-c9e48747b1d3",
        "colab": {
          "base_uri": "https://localhost:8080/"
        }
      },
      "execution_count": 4,
      "outputs": [
        {
          "output_type": "stream",
          "name": "stdout",
          "text": [
            "['i', \"'\", 've', 'been', 'waiting', 'for', 'a', 'hugging', '##face', 'course', 'my', 'whole', 'life', '.']\n",
            "[1045, 1005, 2310, 2042, 3403, 2005, 1037, 17662, 12172, 2607, 2026, 2878, 2166, 1012]\n",
            "tensor([ 1045,  1005,  2310,  2042,  3403,  2005,  1037, 17662, 12172,  2607,\n",
            "         2026,  2878,  2166,  1012])\n"
          ]
        }
      ]
    },
    {
      "cell_type": "code",
      "source": [
        "# This line will fail.\n",
        "model(input_ids)"
      ],
      "metadata": {
        "id": "sP_VKYNkL6Vo"
      },
      "execution_count": null,
      "outputs": []
    },
    {
      "cell_type": "markdown",
      "source": [
        "## Ошибка!!!  \n",
        "Проблема в том, что мы отправили в модель одну последовательность, тогда как 🤗 Модели Transformers по умолчанию ожидают несколько предложений. Здесь мы попытались сделать все, что токенизатор делал за кулисами, когда мы применяли его к последовательности. Но если вы посмотрите внимательно, вы увидите, что токенизатор не просто преобразовал список идентификаторов входных данных в тензор, он добавил измерение поверх него:\n",
        "\n",
        "Пакетирование — это процесс отправки нескольких предложений через модель, все сразу. Если у вас есть только одно предложение, вы можете просто создать пакет с одной последовательностью:"
      ],
      "metadata": {
        "id": "UKcfH1rjOpfw"
      }
    },
    {
      "cell_type": "code",
      "execution_count": 5,
      "metadata": {
        "id": "AwoLAbm8J9hp",
        "outputId": "c634f8ea-6f09-42ad-aa29-313e9d165e58",
        "colab": {
          "base_uri": "https://localhost:8080/"
        }
      },
      "outputs": [
        {
          "output_type": "stream",
          "name": "stdout",
          "text": [
            "tensor([[  101,  1045,  1005,  2310,  2042,  3403,  2005,  1037, 17662, 12172,\n",
            "          2607,  2026,  2878,  2166,  1012,   102]])\n"
          ]
        }
      ],
      "source": [
        "tokenized_inputs = tokenizer(sequence, return_tensors=\"pt\")\n",
        "print(tokenized_inputs[\"input_ids\"])"
      ]
    },
    {
      "cell_type": "markdown",
      "source": [
        "Попробуем снова с новой размерностью"
      ],
      "metadata": {
        "id": "fZ2__JTAPbgm"
      }
    },
    {
      "cell_type": "code",
      "execution_count": 6,
      "metadata": {
        "id": "gzGvVCNDJ9hq",
        "outputId": "bd0acfc5-a810-40d2-aa6e-e2f5c4b07130",
        "colab": {
          "base_uri": "https://localhost:8080/"
        }
      },
      "outputs": [
        {
          "output_type": "stream",
          "name": "stdout",
          "text": [
            "Input IDs: tensor([[ 1045,  1005,  2310,  2042,  3403,  2005,  1037, 17662, 12172,  2607,\n",
            "          2026,  2878,  2166,  1012]])\n",
            "Logits: tensor([[-2.7276,  2.8789]], grad_fn=<AddmmBackward0>)\n"
          ]
        }
      ],
      "source": [
        "# import torch\n",
        "# from transformers import AutoTokenizer, AutoModelForSequenceClassification\n",
        "\n",
        "# checkpoint = \"distilbert-base-uncased-finetuned-sst-2-english\"\n",
        "# tokenizer = AutoTokenizer.from_pretrained(checkpoint)\n",
        "# model = AutoModelForSequenceClassification.from_pretrained(checkpoint)\n",
        "\n",
        "# sequence = \"I've been waiting for a HuggingFace course my whole life.\"\n",
        "\n",
        "# tokens = tokenizer.tokenize(sequence)\n",
        "# ids = tokenizer.convert_tokens_to_ids(tokens)\n",
        "\n",
        "# _________Было_______________\n",
        "# input_ids = torch.tensor(ids)\n",
        "# _________Стало_______________\n",
        "input_ids = torch.tensor([ids])\n",
        "\n",
        "print(\"Input IDs:\", input_ids)\n",
        "\n",
        "output = model(input_ids)\n",
        "print(\"Logits:\", output.logits)"
      ]
    },
    {
      "cell_type": "markdown",
      "source": [
        "Пакетирование — это процесс отправки нескольких предложений через модель, все сразу. Если у вас есть только одно предложение, вы можете просто создать пакет с одной последовательностью:"
      ],
      "metadata": {
        "id": "u1ISsIsMQYgw"
      }
    },
    {
      "cell_type": "code",
      "source": [
        "# This is a batch of two identical sequences!\n",
        "batched_ids = [ids, ids]\n",
        "print(batched_ids)"
      ],
      "metadata": {
        "id": "br9f7wGYQfe4",
        "outputId": "927c8120-9c7f-440e-80c3-213dc7802334",
        "colab": {
          "base_uri": "https://localhost:8080/"
        }
      },
      "execution_count": 9,
      "outputs": [
        {
          "output_type": "stream",
          "name": "stdout",
          "text": [
            "[[1045, 1005, 2310, 2042, 3403, 2005, 1037, 17662, 12172, 2607, 2026, 2878, 2166, 1012], [1045, 1005, 2310, 2042, 3403, 2005, 1037, 17662, 12172, 2607, 2026, 2878, 2166, 1012]]\n"
          ]
        }
      ]
    },
    {
      "cell_type": "code",
      "source": [
        "input_ids_2 = torch.tensor(batched_ids)\n",
        "output_2 = model(input_ids_2)\n",
        "print(\"Logits:\", output_2.logits)"
      ],
      "metadata": {
        "id": "2bM4iNJBRFh1",
        "outputId": "97c0ec06-d113-4473-ab78-c98f89996054",
        "colab": {
          "base_uri": "https://localhost:8080/"
        }
      },
      "execution_count": 13,
      "outputs": [
        {
          "output_type": "stream",
          "name": "stdout",
          "text": [
            "Logits: tensor([[-2.7276,  2.8789],\n",
            "        [-2.7276,  2.8789]], grad_fn=<AddmmBackward0>)\n"
          ]
        }
      ]
    },
    {
      "cell_type": "markdown",
      "source": [
        "Пакетирование позволяет модели работать, когда вы передаете ей несколько предложений."
      ],
      "metadata": {
        "id": "VjBKxdFDRx3L"
      }
    },
    {
      "cell_type": "markdown",
      "source": [
        "### Заполнение входных данных"
      ],
      "metadata": {
        "id": "wjfKOkHnSGym"
      }
    },
    {
      "cell_type": "code",
      "source": [
        "# Следующий список списков не может быть преобразован в тензор:\n",
        "batched_ids = [\n",
        "[200, 200, 200],\n",
        "[200, 200]\n",
        "]"
      ],
      "metadata": {
        "id": "22DNrkcEST_b"
      },
      "execution_count": 14,
      "outputs": []
    },
    {
      "cell_type": "markdown",
      "source": [
        "Чтобы обойти это, мы используем заполнение, чтобы сделать наши тензоры прямоугольными. Заполнение гарантирует, что все наши предложения будут иметь одинаковую длину, добавляя специальное слово, называемое токеном заполнения, к предложениям с меньшим количеством значений. В нашем примере результирующий тензор выглядит так:"
      ],
      "metadata": {
        "id": "kuqVWnVxSYgp"
      }
    },
    {
      "cell_type": "code",
      "execution_count": 15,
      "metadata": {
        "id": "JXffCNbTJ9hr"
      },
      "outputs": [],
      "source": [
        "padding_id = 100\n",
        "\n",
        "batched_ids = [\n",
        "    [200, 200, 200],\n",
        "    [200, 200, padding_id],\n",
        "]"
      ]
    },
    {
      "cell_type": "markdown",
      "source": [
        "Идентификатор маркера заполнения можно найти в `tokenizer.pad_token_id`. Давайте используем его и отправим наши два предложения через модель по отдельности и в пакетном режиме:"
      ],
      "metadata": {
        "id": "24d2_i32SsUn"
      }
    },
    {
      "cell_type": "code",
      "execution_count": 16,
      "metadata": {
        "id": "Ebd5DMNUJ9hr",
        "outputId": "8bd8b1d6-9165-4d2e-d073-20c51ab722d9",
        "colab": {
          "base_uri": "https://localhost:8080/"
        }
      },
      "outputs": [
        {
          "output_type": "stream",
          "name": "stderr",
          "text": [
            "We strongly recommend passing in an `attention_mask` since your input_ids may be padded. See https://huggingface.co/docs/transformers/troubleshooting#incorrect-output-when-padding-tokens-arent-masked.\n"
          ]
        },
        {
          "output_type": "stream",
          "name": "stdout",
          "text": [
            "tensor([[ 1.5694, -1.3895]], grad_fn=<AddmmBackward0>)\n",
            "tensor([[ 0.5803, -0.4125]], grad_fn=<AddmmBackward0>)\n",
            "tensor([[ 1.5694, -1.3895],\n",
            "        [ 1.3374, -1.2163]], grad_fn=<AddmmBackward0>)\n"
          ]
        }
      ],
      "source": [
        "sequence1_ids = [[200, 200, 200]]\n",
        "sequence2_ids = [[200, 200]]\n",
        "batched_ids = [\n",
        "    [200, 200, 200],\n",
        "    [200, 200, tokenizer.pad_token_id],\n",
        "]\n",
        "\n",
        "print(model(torch.tensor(sequence1_ids)).logits)\n",
        "print(model(torch.tensor(sequence2_ids)).logits)\n",
        "print(model(torch.tensor(batched_ids)).logits)"
      ]
    },
    {
      "cell_type": "markdown",
      "source": [
        "<font color=\"lightblue\">Что-то не так с логитами в наших пакетных прогнозах: вторая строка должна быть такой же, как логиты для второго предложения, но у нас совершенно разные значения!\n",
        "\n",
        "Это потому, что ключевой особенностью моделей Transformer являются слои внимания, которые контекстуализируют каждый токен. Они будут учитывать токены заполнения, поскольку они обслуживают все токены последовательности. Чтобы получить тот же результат при передаче отдельных предложений разной длины через модель или при передаче пакета с теми же предложениями и примененным заполнением, нам нужно указать этим слоям внимания игнорировать токены заполнения. Это делается с помощью маски внимания.</font>"
      ],
      "metadata": {
        "id": "MpeRYnWLThcg"
      }
    },
    {
      "cell_type": "markdown",
      "source": [
        "## Attention masks"
      ],
      "metadata": {
        "id": "os5_R_kkT9h7"
      }
    },
    {
      "cell_type": "markdown",
      "source": [
        "Маски внимания — это тензоры с точно такой же формой, как и тензор входных идентификаторов, заполненные нулями и единицами: единицы указывают, что соответствующие токены должны быть учтены, а нули указывают, что соответствующие токены не должны быть учтены (т. е. они должны игнорироваться слоями внимания модели).\n",
        "\n",
        "Давайте завершим предыдущий пример с маской внимания:"
      ],
      "metadata": {
        "id": "3wWifFdOUFqi"
      }
    },
    {
      "cell_type": "code",
      "execution_count": 17,
      "metadata": {
        "id": "UmTK6GUjJ9hr",
        "outputId": "839fd395-7c24-4ae6-f1e0-c0734451ee36",
        "colab": {
          "base_uri": "https://localhost:8080/"
        }
      },
      "outputs": [
        {
          "output_type": "stream",
          "name": "stdout",
          "text": [
            "tensor([[ 1.5694, -1.3895],\n",
            "        [ 0.5803, -0.4125]], grad_fn=<AddmmBackward0>)\n"
          ]
        }
      ],
      "source": [
        "batched_ids = [\n",
        "    [200, 200, 200],\n",
        "    [200, 200, tokenizer.pad_token_id],\n",
        "]\n",
        "\n",
        "attention_mask = [\n",
        "    [1, 1, 1],\n",
        "    [1, 1, 0],\n",
        "]\n",
        "\n",
        "outputs = model(torch.tensor(batched_ids), attention_mask=torch.tensor(attention_mask))\n",
        "print(outputs.logits)"
      ]
    },
    {
      "cell_type": "markdown",
      "source": [
        "## Longer sequences (Более длинные последовательности)"
      ],
      "metadata": {
        "id": "UhO8ck1qUk9M"
      }
    },
    {
      "cell_type": "markdown",
      "source": [
        "Более длинные последовательности\n",
        "В моделях Transformer существует ограничение на длину последовательностей, которые мы можем передать моделям. Большинство моделей обрабатывают последовательности длиной до `512` или `1024` токенов и будут аварийно завершать работу при запросе на обработку более длинных последовательностей. Есть два решения этой проблемы:\n",
        "\n",
        "Используйте модель с более длинной поддерживаемой длиной последовательности.\n",
        "Усекайте последовательности.\n",
        "Модели имеют разную поддерживаемую длину последовательностей, и некоторые специализируются на обработке очень длинных последовательностей.  \n",
        "- Longformer — один из примеров, а другой\n",
        "— LED. Если вы работаете над задачей, требующей очень длинных последовательностей, мы рекомендуем вам взглянуть на эти модели.\n",
        "\n",
        "В противном случае мы рекомендуем вам усекать последовательности, указав параметр max_sequence_length:"
      ],
      "metadata": {
        "id": "Uegj9YHvUmHM"
      }
    },
    {
      "cell_type": "code",
      "execution_count": null,
      "metadata": {
        "id": "r2pLwrqaJ9hs"
      },
      "outputs": [],
      "source": [
        "sequence = sequence[:max_sequence_length]"
      ]
    }
  ],
  "metadata": {
    "colab": {
      "name": "Handling multiple sequences (PyTorch)",
      "provenance": []
    },
    "language_info": {
      "name": "python"
    },
    "kernelspec": {
      "name": "python3",
      "display_name": "Python 3"
    }
  },
  "nbformat": 4,
  "nbformat_minor": 0
}