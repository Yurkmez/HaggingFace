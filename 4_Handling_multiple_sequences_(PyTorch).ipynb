{
  "cells": [
    {
      "cell_type": "markdown",
      "metadata": {
        "id": "yLlBkMPzJ9hk"
      },
      "source": [
        "# __Handling multiple sequences (PyTorch)__"
      ]
    },
    {
      "cell_type": "markdown",
      "metadata": {
        "id": "nq2SjD-JJ9hn"
      },
      "source": [
        "Install the Transformers, Datasets, and Evaluate libraries to run this notebook."
      ]
    },
    {
      "cell_type": "code",
      "execution_count": null,
      "metadata": {
        "id": "1op9f5YtJ9hn"
      },
      "outputs": [],
      "source": [
        "!pip install datasets evaluate transformers[sentencepiece]"
      ]
    },
    {
      "cell_type": "markdown",
      "metadata": {
        "id": "CyF2NJ7UKIKa"
      },
      "source": [
        "## Модели ожидают пакет входных данных"
      ]
    },
    {
      "cell_type": "markdown",
      "metadata": {
        "id": "zVbBXtgQLd98"
      },
      "source": [
        "Последовательности преобразуются в списки чисел. Давайте преобразуем этот список чисел в тензор и отправим его в модель:"
      ]
    },
    {
      "cell_type": "code",
      "execution_count": 15,
      "metadata": {
        "id": "8XBYUy8wJ9ho"
      },
      "outputs": [],
      "source": [
        "import torch\n",
        "from transformers import AutoTokenizer, AutoModelForSequenceClassification\n",
        "\n",
        "checkpoint = \"distilbert-base-uncased-finetuned-sst-2-english\"\n",
        "tokenizer = AutoTokenizer.from_pretrained(checkpoint)\n",
        "model = AutoModelForSequenceClassification.from_pretrained(checkpoint)\n",
        "\n",
        "sequence = \"I've been waiting for a HuggingFace course my whole life.\"\n",
        "\n",
        "tokens = tokenizer.tokenize(sequence)\n",
        "ids = tokenizer.convert_tokens_to_ids(tokens)\n",
        "input_ids = torch.tensor(ids)"
      ]
    },
    {
      "cell_type": "code",
      "execution_count": 3,
      "metadata": {
        "colab": {
          "base_uri": "https://localhost:8080/"
        },
        "id": "1adX851uL8g_",
        "outputId": "8ee5411f-b795-467f-d380-c9e48747b1d3"
      },
      "outputs": [
        {
          "name": "stdout",
          "output_type": "stream",
          "text": [
            "['i', \"'\", 've', 'been', 'waiting', 'for', 'a', 'hugging', '##face', 'course', 'my', 'whole', 'life', '.']\n",
            "[1045, 1005, 2310, 2042, 3403, 2005, 1037, 17662, 12172, 2607, 2026, 2878, 2166, 1012]\n",
            "tensor([ 1045,  1005,  2310,  2042,  3403,  2005,  1037, 17662, 12172,  2607,\n",
            "         2026,  2878,  2166,  1012])\n"
          ]
        }
      ],
      "source": [
        "print(tokens)\n",
        "print(ids)\n",
        "print(input_ids)"
      ]
    },
    {
      "cell_type": "code",
      "execution_count": null,
      "metadata": {
        "id": "sP_VKYNkL6Vo"
      },
      "outputs": [],
      "source": [
        "# This line will fail.\n",
        "model(input_ids)"
      ]
    },
    {
      "cell_type": "markdown",
      "metadata": {
        "id": "UKcfH1rjOpfw"
      },
      "source": [
        "#### Ошибка!!!  (IndexError: too many indices for tensor of dimension 1)"
      ]
    },
    {
      "cell_type": "markdown",
      "metadata": {},
      "source": [
        "<small>у `input_ids` форма (sequence_length,) — одномерный тензор (например, [12, 345, 6789]), а model \n",
        "`distilbert-base-uncased-finetuned-sst-2-english` ожидает двумерный тензор с размерностью (batch_size, sequence_length).\n",
        "\n",
        "<font color='lightgreen'>! Ранее мы использовали модель  \n",
        "`bert-base-cased` — это оригинальный BERT с torch.nn.Module, который умеет обрабатывать одномерные тензоры (sequence_length,). Модель bert-base-cased реализована так, что если ты передаёшь ей одномерный тензор (sequence_length,), она автоматически добавляет batch размерность внутри forward().  \n",
        "`distilbert-base-uncased-finetuned-sst-2-english` — это облегчённая версия DistilBERT, оптимизированная для классификации, и она требует (batch_size, sequence_length).</font>\n",
        "\n",
        "__Как исправить?__  \n",
        "Добавить размерность batch (размер 1), используя `.unsqueeze(0):`  \n",
        "`input_ids = torch.tensor(ids).unsqueeze(0)  # Теперь форма (1, sequence_length)`\n",
        "\n",
        "__Лучший способ – использовать tokenizer()__</small>"
      ]
    },
    {
      "cell_type": "code",
      "execution_count": 16,
      "metadata": {
        "colab": {
          "base_uri": "https://localhost:8080/"
        },
        "id": "AwoLAbm8J9hp",
        "outputId": "c634f8ea-6f09-42ad-aa29-313e9d165e58"
      },
      "outputs": [],
      "source": [
        "tokenized_inputs = tokenizer(sequence, return_tensors=\"pt\")\n",
        "# print(tokenized_inputs[\"input_ids\"])"
      ]
    },
    {
      "cell_type": "markdown",
      "metadata": {},
      "source": [
        "Здесь мы можем видеть, что размерность действительно = 1"
      ]
    },
    {
      "cell_type": "code",
      "execution_count": null,
      "metadata": {},
      "outputs": [],
      "source": [
        "# Убираем batch размерность и видим одномерную размерность\n",
        "tokens_2 = tokenizer(sequence, return_tensors=\"pt\")[\"input_ids\"].squeeze(0)  \n",
        "print(\"Input shape:\", tokens_2.shape)  # (sequence_length,)"
      ]
    },
    {
      "cell_type": "markdown",
      "metadata": {},
      "source": [
        "А вот уже `tokenized_inputs` имеет правильный состав и форму и подав его на вход модели ошибка не возникает."
      ]
    },
    {
      "cell_type": "code",
      "execution_count": 17,
      "metadata": {},
      "outputs": [
        {
          "name": "stdout",
          "output_type": "stream",
          "text": [
            "SequenceClassifierOutput(loss=None, logits=tensor([[-1.5607,  1.6123]], grad_fn=<AddmmBackward0>), hidden_states=None, attentions=None)\n",
            "Logits: tensor([[-1.5607,  1.6123]], grad_fn=<AddmmBackward0>)\n"
          ]
        }
      ],
      "source": [
        "output = model(**tokenized_inputs)\n",
        "print(output)\n",
        "print(\"Logits:\", output.logits)"
      ]
    },
    {
      "cell_type": "markdown",
      "metadata": {
        "id": "fZ2__JTAPbgm"
      },
      "source": [
        "Попробуем другим способом и он тоже работает, но"
      ]
    },
    {
      "cell_type": "code",
      "execution_count": 13,
      "metadata": {},
      "outputs": [
        {
          "name": "stdout",
          "output_type": "stream",
          "text": [
            "Logits: tensor([[-2.7276,  2.8789]], grad_fn=<AddmmBackward0>)\n"
          ]
        }
      ],
      "source": [
        "tokens_3 = tokenizer.tokenize(sequence)\n",
        "ids_3 = tokenizer.convert_tokens_to_ids(tokens)\n",
        "input_ids_3 = torch.tensor([ids_3])\n",
        "output = model(input_ids_3)\n",
        "print(\"Logits:\", output.logits)"
      ]
    },
    {
      "cell_type": "markdown",
      "metadata": {},
      "source": [
        "Вроде бы код\n",
        "(1)\n",
        "``` \n",
        "tokens_3 = tokenizer.tokenize(sequence)\n",
        "ids_3 = tokenizer.convert_tokens_to_ids(tokens)\n",
        "input_ids_3 = torch.tensor([ids_3])\n",
        "```\n",
        "делает то-же, что и \n",
        "(2)\n",
        "```\n",
        "tokenized_inputs = tokenizer(sequence, return_tensors=\"pt\")\n",
        "```\n",
        "НО!  \n",
        "__Различия между inputs_1 и input_2__  \n",
        "```\n",
        "Функция\t                        (1)\t                    (2)\n",
        "Форма\t                        (1, sequence_length)    (1, sequence_length + 2) (из-за [CLS] и [SEP])\n",
        "Добавляет [CLS] и [SEP]?\t❌ Нет                  ✅ Да      \n",
        "Добавляет attention_mask?\t❌ Нет                  ✅ Да\t\n",
        "Готов к использованию в модели?\t❌ Нет                  ✅ Да\t\n",
        "```\n",
        "🎯 Итог:  \n",
        "`tokenizer(sequence, return_tensors=\"pt\")` = удобный способ, он автоматически добавляет [CLS], [SEP], attention_mask и делает тензор правильной формы.  \n",
        "Ручная токенизация = ты должен сам добавить `[CLS], [SEP]` и `attention_mask`, иначе модель может работать неправильно.  \n",
        "Лучше использовать `tokenizer(sequence, return_tensors=\"pt\")`, чтобы избежать ошибок. ✅\n"
      ]
    },
    {
      "cell_type": "markdown",
      "metadata": {},
      "source": [
        "### Обработаем входные данные в виде нескольких предложений."
      ]
    },
    {
      "cell_type": "markdown",
      "metadata": {
        "id": "u1ISsIsMQYgw"
      },
      "source": [
        "Пакетирование — это процесс отправки нескольких предложений через модель, все сразу.  "
      ]
    },
    {
      "cell_type": "code",
      "execution_count": 29,
      "metadata": {},
      "outputs": [],
      "source": [
        "sequence_2 = [\"I've been waiting for a HuggingFace course my whole life.\", \n",
        "\"I  wait when a HuggingFace will be better.\",\n",
        "\"I love HuggingFace\"]"
      ]
    },
    {
      "cell_type": "markdown",
      "metadata": {},
      "source": [
        "Мы должны подать матрицу, или массив данных прямоугольной формы, что преполагает, что все предложения должны быть одинаковой длины. Для этого мы используем `padding=True` в процедуре токенизации."
      ]
    },
    {
      "cell_type": "code",
      "execution_count": 30,
      "metadata": {},
      "outputs": [
        {
          "data": {
            "text/plain": [
              "{'input_ids': tensor([[  101,  1045,  1005,  2310,  2042,  3403,  2005,  1037, 17662, 12172,\n",
              "          2607,  2026,  2878,  2166,  1012,   102],\n",
              "        [  101,  1045,  3524,  2043,  1037, 17662, 12172,  2097,  2022,  2488,\n",
              "          1012,   102,     0,     0,     0,     0],\n",
              "        [  101,  1045,  2293, 17662, 12172,   102,     0,     0,     0,     0,\n",
              "             0,     0,     0,     0,     0,     0]]), 'attention_mask': tensor([[1, 1, 1, 1, 1, 1, 1, 1, 1, 1, 1, 1, 1, 1, 1, 1],\n",
              "        [1, 1, 1, 1, 1, 1, 1, 1, 1, 1, 1, 1, 0, 0, 0, 0],\n",
              "        [1, 1, 1, 1, 1, 1, 0, 0, 0, 0, 0, 0, 0, 0, 0, 0]])}"
            ]
          },
          "execution_count": 30,
          "metadata": {},
          "output_type": "execute_result"
        }
      ],
      "source": [
        "tokenize_input_2 = tokenizer(sequence_2, padding=True, return_tensors=\"pt\")\n",
        "tokenize_input_2"
      ]
    },
    {
      "cell_type": "code",
      "execution_count": 31,
      "metadata": {},
      "outputs": [
        {
          "data": {
            "text/plain": [
              "tensor([[-1.5607,  1.6123],\n",
              "        [ 2.8782, -2.4049],\n",
              "        [-3.8986,  4.1859]], grad_fn=<AddmmBackward0>)"
            ]
          },
          "execution_count": 31,
          "metadata": {},
          "output_type": "execute_result"
        }
      ],
      "source": [
        "output_2 = model(**tokenize_input_2)\n",
        "output_2.logits"
      ]
    },
    {
      "cell_type": "markdown",
      "metadata": {
        "id": "UhO8ck1qUk9M"
      },
      "source": [
        "## Longer sequences (Более длинные последовательности)"
      ]
    },
    {
      "cell_type": "markdown",
      "metadata": {
        "id": "Uegj9YHvUmHM"
      },
      "source": [
        "Более длинные последовательности\n",
        "В моделях Transformer существует ограничение на длину последовательностей, которые мы можем передать моделям. Большинство моделей обрабатывают последовательности длиной до `512` или `1024` токенов и будут аварийно завершать работу при запросе на обработку более длинных последовательностей. Есть два решения этой проблемы:\n",
        "\n",
        "Используйте модель с более длинной поддерживаемой длиной последовательности.\n",
        "Усекайте последовательности.\n",
        "Модели имеют разную поддерживаемую длину последовательностей, и некоторые специализируются на обработке очень длинных последовательностей.  \n",
        "- Longformer — один из примеров, а другой\n",
        "— LED. Если вы работаете над задачей, требующей очень длинных последовательностей, мы рекомендуем вам взглянуть на эти модели.\n",
        "\n",
        "В противном случае мы рекомендуем вам усекать последовательности, указав параметр max_sequence_length:"
      ]
    },
    {
      "cell_type": "code",
      "execution_count": null,
      "metadata": {
        "id": "r2pLwrqaJ9hs"
      },
      "outputs": [],
      "source": [
        "sequence = sequence[:max_sequence_length]"
      ]
    }
  ],
  "metadata": {
    "colab": {
      "name": "Handling multiple sequences (PyTorch)",
      "provenance": []
    },
    "kernelspec": {
      "display_name": "base",
      "language": "python",
      "name": "python3"
    },
    "language_info": {
      "codemirror_mode": {
        "name": "ipython",
        "version": 3
      },
      "file_extension": ".py",
      "mimetype": "text/x-python",
      "name": "python",
      "nbconvert_exporter": "python",
      "pygments_lexer": "ipython3",
      "version": "3.12.7"
    }
  },
  "nbformat": 4,
  "nbformat_minor": 0
}
