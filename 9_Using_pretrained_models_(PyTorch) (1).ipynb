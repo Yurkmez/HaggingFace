{
  "cells": [
    {
      "cell_type": "markdown",
      "metadata": {
        "id": "mkieo9dYZ5j1"
      },
      "source": [
        "# Using pretrained models (PyTorch)"
      ]
    },
    {
      "cell_type": "markdown",
      "metadata": {
        "id": "xJQ3Q82OZ5j4"
      },
      "source": [
        "Install the Transformers, Datasets, and Evaluate libraries to run this notebook."
      ]
    },
    {
      "cell_type": "code",
      "execution_count": null,
      "metadata": {
        "id": "_zcwB8pNZ5j4"
      },
      "outputs": [],
      "source": [
        "!pip install datasets evaluate transformers[sentencepiece]"
      ]
    },
    {
      "cell_type": "markdown",
      "source": [
        "## Основные понятия"
      ],
      "metadata": {
        "id": "cHgJVh7xpu6d"
      }
    },
    {
      "cell_type": "code",
      "source": [
        "# Использования токена:\n",
        "import os\n",
        "from huggingface_hub import login\n",
        "login(os.getenv(\"HF_TOKEN\"))"
      ],
      "metadata": {
        "id": "9YZSs9-RdTG4",
        "outputId": "d5082b92-c69e-4c44-c93a-fa5ab6c5e79a",
        "colab": {
          "base_uri": "https://localhost:8080/",
          "height": 17,
          "referenced_widgets": [
            "f66dec55be024ad382867fa1e8778503",
            "a5a94e51e1f440538e8aa1b08004da8d",
            "c1771f0fceb64dbab9dba53ef94f2ebd",
            "03a7b5b355d446fb972933518e275401",
            "8e64b3d1be314d54b306e902f4a02ab4",
            "b67ac5f576cf4415ab6178b6037a4853",
            "f007edcc05b044afa1b94573fd721779",
            "5b854fbddc814b69a523afbb6e051d7f",
            "036dbb711a96407ab11dd9a96d35256b",
            "1ed8293107db4a59bcc28a4b67c413b5",
            "525c5df5b8044a60a62e4c3fc64bbc0f",
            "0bcfecabdaad46f7a6ee87fa67c59ddf",
            "222f44b39f4147c9b83224ec0f60153e",
            "f0379c0580324af4806b39657dcaa417",
            "c451ef4a1b434f6d83ce2696d22453b9",
            "0a7dd44c557642e49b4a623c5e6f6ae6",
            "05e18a6a843c4c049a30984ec7025d77",
            "4515b593815e46a3b3965d5ebb953b17",
            "8a08c9e8dae54b8f893dc8a3799fa7ab",
            "d27bc1d2c109401abd2031ccede0f872"
          ]
        }
      },
      "execution_count": 6,
      "outputs": [
        {
          "output_type": "display_data",
          "data": {
            "text/plain": [
              "VBox(children=(HTML(value='<center> <img\\nsrc=https://huggingface.co/front/assets/huggingface_logo-noborder.sv…"
            ],
            "application/vnd.jupyter.widget-view+json": {
              "version_major": 2,
              "version_minor": 0,
              "model_id": "f66dec55be024ad382867fa1e8778503"
            }
          },
          "metadata": {}
        }
      ]
    },
    {
      "cell_type": "code",
      "execution_count": 7,
      "metadata": {
        "id": "TdPZDMGeZ5j5",
        "outputId": "e09d4e2c-861e-40ba-a722-17849007c0ec",
        "colab": {
          "base_uri": "https://localhost:8080/"
        }
      },
      "outputs": [
        {
          "output_type": "stream",
          "name": "stderr",
          "text": [
            "Some weights of the model checkpoint at camembert-base were not used when initializing CamembertForMaskedLM: ['roberta.pooler.dense.bias', 'roberta.pooler.dense.weight']\n",
            "- This IS expected if you are initializing CamembertForMaskedLM from the checkpoint of a model trained on another task or with another architecture (e.g. initializing a BertForSequenceClassification model from a BertForPreTraining model).\n",
            "- This IS NOT expected if you are initializing CamembertForMaskedLM from the checkpoint of a model that you expect to be exactly identical (initializing a BertForSequenceClassification model from a BertForSequenceClassification model).\n",
            "Device set to use cpu\n"
          ]
        }
      ],
      "source": [
        "from transformers import pipeline\n",
        "\n",
        "camembert_fill_mask = pipeline(\"fill-mask\", model=\"camembert-base\")\n",
        "results = camembert_fill_mask(\"Le camembert est <mask> :)\")"
      ]
    },
    {
      "cell_type": "code",
      "source": [
        "results"
      ],
      "metadata": {
        "id": "o8jW5bK1dh-K"
      },
      "execution_count": null,
      "outputs": []
    },
    {
      "cell_type": "code",
      "source": [
        "for word in results:\n",
        "  print(word['token_str'],\": \", word['sequence'])"
      ],
      "metadata": {
        "id": "3tItqEoqcNGS"
      },
      "execution_count": null,
      "outputs": []
    },
    {
      "cell_type": "markdown",
      "source": [
        "____________________________\n",
        "____________________________"
      ],
      "metadata": {
        "id": "uiuWO27Neuzl"
      }
    },
    {
      "cell_type": "markdown",
      "source": [
        "Вы также можете создать экземпляр контрольной точки, используя архитектуру модели напрямую:"
      ],
      "metadata": {
        "id": "E-wSRqL2eG6i"
      }
    },
    {
      "cell_type": "code",
      "execution_count": null,
      "metadata": {
        "id": "jE7-4ANNZ5j6"
      },
      "outputs": [],
      "source": [
        "from transformers import CamembertTokenizer, CamembertForMaskedLM\n",
        "\n",
        "tokenizer = CamembertTokenizer.from_pretrained(\"camembert-base\")\n",
        "model = CamembertForMaskedLM.from_pretrained(\"camembert-base\")"
      ]
    },
    {
      "cell_type": "markdown",
      "source": [
        "Однако мы рекомендуем использовать вместо этого  *__Auto...классы__*, поскольку они по своей сути не зависят от архитектуры. В то время как предыдущий пример кода ограничивает пользователей контрольными точками, загружаемыми в архитектуре CamemBERT, использование классов Auto* упрощает переключение контрольных точек:"
      ],
      "metadata": {
        "id": "p3XRLIn7eQTc"
      }
    },
    {
      "cell_type": "code",
      "execution_count": null,
      "metadata": {
        "id": "lKqdlU_rZ5j6"
      },
      "outputs": [],
      "source": [
        "from transformers import AutoTokenizer, AutoModelForMaskedLM\n",
        "\n",
        "tokenizer = AutoTokenizer.from_pretrained(\"camembert-base\")\n",
        "model = AutoModelForMaskedLM.from_pretrained(\"camembert-base\")"
      ]
    },
    {
      "cell_type": "markdown",
      "source": [
        "_______________________________________________________________\n",
        "_______________________________________________________________"
      ],
      "metadata": {
        "id": "AZiVOJXke3h2"
      }
    },
    {
      "cell_type": "markdown",
      "source": [
        "## Импровизация"
      ],
      "metadata": {
        "id": "EBVCTDdRpzhN"
      }
    },
    {
      "cell_type": "code",
      "source": [
        "# from transformers import CamembertModel, CamembertTokenizer\n",
        "# # You can replace \"camembert-base\" with any other model from the table, e.g. \"camembert/camembert-large\".\n",
        "# tokenizer = CamembertTokenizer.from_pretrained(\"camembert/camembert-base-wikipedia-4gb\")\n",
        "# camembert = CamembertModel.from_pretrained(\"camembert/camembert-base-wikipedia-4gb\")\n",
        "# camembert.eval()  # disable dropout (or leave in train mode to finetune)\n",
        "\n",
        "from transformers import AutoTokenizer\n",
        "\n",
        "tokenizer = AutoTokenizer.from_pretrained(\"camembert/camembert-base-wikipedia-4gb\")"
      ],
      "metadata": {
        "id": "blUUhBNce8XE",
        "outputId": "f9d85450-7a15-4b8d-cd55-05fadc0f8ae5",
        "colab": {
          "base_uri": "https://localhost:8080/",
          "height": 81,
          "referenced_widgets": [
            "c9e934065b744125b0ae2920216f2270",
            "90483d6213114d18b1cc30c739ca1256",
            "b9c505e8568a44b2b819a7516c95db99",
            "aa9bc355cad54088b5bfc74219c115dc",
            "b508a079da8e4431bd500c932fbdb1fc",
            "8caa9d8ea9714f3282faee4acc2d0430",
            "90c6a29d801c4b7194bddc491e1e0c20",
            "abf5c68bd2cb42bc9193b766430dd30d",
            "b481978172454d42a347e5127eeadd2f",
            "bc0d4f91de5f4788bdb7b9ffd8aa4fe9",
            "6fbf6a1da1df4952957c08c99363ca51",
            "18b377a0514b4f79865030e122ce243d",
            "7ba949b8dccd4ee7ae9d424e43f14c5f",
            "381dbe4500d942ec8b47416286b11075",
            "fc9bd03008f34a3e8491c54fa2118ce2",
            "d4df0e1add3d4fcb912f98c912ff39fc",
            "96ea47d160fa43c8ace52a39687d84c4",
            "c30d31a1d721470cb05b4d4f16349adb",
            "05e8204673304529859d4aa11153769f",
            "e3e2a6ead22f45aab7d5d5b50755d92e",
            "df57446459c946af94d95c6d6788ce8b",
            "78e504f10a4a40a287752f70f54988b1"
          ]
        }
      },
      "execution_count": 11,
      "outputs": [
        {
          "output_type": "display_data",
          "data": {
            "text/plain": [
              "config.json:   0%|          | 0.00/455 [00:00<?, ?B/s]"
            ],
            "application/vnd.jupyter.widget-view+json": {
              "version_major": 2,
              "version_minor": 0,
              "model_id": "c9e934065b744125b0ae2920216f2270"
            }
          },
          "metadata": {}
        },
        {
          "output_type": "display_data",
          "data": {
            "text/plain": [
              "sentencepiece.bpe.model:   0%|          | 0.00/793k [00:00<?, ?B/s]"
            ],
            "application/vnd.jupyter.widget-view+json": {
              "version_major": 2,
              "version_minor": 0,
              "model_id": "18b377a0514b4f79865030e122ce243d"
            }
          },
          "metadata": {}
        }
      ]
    },
    {
      "cell_type": "code",
      "source": [
        "sentence = \"J'aime le camembert !\"\n",
        "tokenized_sentence = tokenizer.tokenize(sentence)\n",
        "tokenized_sentence"
      ],
      "metadata": {
        "id": "cNhe3oJCfjMq",
        "outputId": "12689da2-9bf6-44cc-a0a5-f51fe35596ca",
        "colab": {
          "base_uri": "https://localhost:8080/"
        }
      },
      "execution_count": 14,
      "outputs": [
        {
          "output_type": "execute_result",
          "data": {
            "text/plain": [
              "['▁J', \"'\", 'aime', '▁le', '▁cam', 'ember', 't', '▁!']"
            ]
          },
          "metadata": {},
          "execution_count": 14
        }
      ]
    },
    {
      "cell_type": "code",
      "source": [
        "encoded_sentence = tokenizer(sentence, return_tensors='pt')\n",
        "encoded_sentence"
      ],
      "metadata": {
        "id": "zvcacf7xf2Hu",
        "outputId": "81f64ad9-40e7-40e8-b770-42520f1a88b4",
        "colab": {
          "base_uri": "https://localhost:8080/"
        }
      },
      "execution_count": 34,
      "outputs": [
        {
          "output_type": "execute_result",
          "data": {
            "text/plain": [
              "{'input_ids': tensor([[    5,   221,    10, 10600,    14,  8952, 10540,    75,  1114,     6]]), 'attention_mask': tensor([[1, 1, 1, 1, 1, 1, 1, 1, 1, 1]])}"
            ]
          },
          "metadata": {},
          "execution_count": 34
        }
      ]
    },
    {
      "cell_type": "code",
      "source": [
        "encoded_sentence.input_ids"
      ],
      "metadata": {
        "id": "40cxyvVvkW6S",
        "outputId": "45d38699-b516-4579-8a24-b9992858cc29",
        "colab": {
          "base_uri": "https://localhost:8080/"
        }
      },
      "execution_count": 52,
      "outputs": [
        {
          "output_type": "execute_result",
          "data": {
            "text/plain": [
              "tensor([[    5,   221,    10, 10600,    14,  8952, 10540,    75,  1114,     6]])"
            ]
          },
          "metadata": {},
          "execution_count": 52
        }
      ]
    },
    {
      "cell_type": "code",
      "source": [
        "import torch\n",
        "from transformers import AutoModel\n",
        "model_camembert = AutoModel.from_pretrained(\"camembert/camembert-base-wikipedia-4gb\")\n",
        "# AutoModelForMaskedLM — используется для предсказания скрытых слов, а не получения эмбеддингов.\n",
        "# AutoModel — используется, когда нужны векторные представления (эмбеддинги).\n",
        "\n",
        "# Получаем эмбеддинги\n",
        "with torch.no_grad():  # Отключаем градиенты (ускоряет вычисления)\n",
        "    outputs = model_camembert(**encoded_sentence)"
      ],
      "metadata": {
        "id": "mgzkRMQfjxYW",
        "outputId": "b8d68ed7-ad87-46af-9cb7-fe3047a4e195",
        "colab": {
          "base_uri": "https://localhost:8080/"
        }
      },
      "execution_count": 53,
      "outputs": [
        {
          "output_type": "stream",
          "name": "stderr",
          "text": [
            "Some weights of CamembertModel were not initialized from the model checkpoint at camembert/camembert-base-wikipedia-4gb and are newly initialized: ['roberta.embeddings.word_embeddings.weight']\n",
            "You should probably TRAIN this model on a down-stream task to be able to use it for predictions and inference.\n"
          ]
        }
      ]
    },
    {
      "cell_type": "markdown",
      "source": [
        "Здесь мы получаем эмбеддинги из модели CamemBERT:\n",
        "`model_camembert(encoded_sentence)` — прогоняем тензор через предобученную модель CamemBERT.  \n",
        "Выход модели — два значения:  \n",
        "- `embeddings` -  эмбеддинги (векторы признаков) для каждого токена,\n",
        "- Второй выход \"`_`\" — обычно содержит `hidden states` или `attention weights`, но он здесь не используется."
      ],
      "metadata": {
        "id": "FHAcJ5GPk-Xh"
      }
    },
    {
      "cell_type": "code",
      "source": [
        "# Выводим размерность эмбеддингов\n",
        "print(outputs.last_hidden_state.shape)  # torch.Size([1, sequence_length, 768])"
      ],
      "metadata": {
        "id": "MKuh9ubellIy",
        "outputId": "ff16d792-bf62-4b49-979a-2fa86a31966a",
        "colab": {
          "base_uri": "https://localhost:8080/"
        }
      },
      "execution_count": 57,
      "outputs": [
        {
          "output_type": "stream",
          "name": "stdout",
          "text": [
            "torch.Size([1, 10, 768])\n"
          ]
        }
      ]
    },
    {
      "cell_type": "markdown",
      "source": [
        "## Использование эмбедингов для классификации"
      ],
      "metadata": {
        "id": "oVYGNO3JtSVS"
      }
    },
    {
      "cell_type": "code",
      "source": [
        "pip install transformers torch"
      ],
      "metadata": {
        "id": "POHRb62CteTD"
      },
      "execution_count": null,
      "outputs": []
    },
    {
      "cell_type": "code",
      "source": [
        "import torch\n",
        "import torch.nn as nn\n",
        "import torch.optim as optim\n",
        "from transformers import AutoModel, AutoTokenizer\n",
        "\n",
        "# Загружаем токенизатор и предобученную модель CamemBERT\n",
        "tokenizer = AutoTokenizer.from_pretrained(\"camembert-base\")\n",
        "camembert = AutoModel.from_pretrained(\"camembert-base\")\n",
        "\n",
        "# Определяем классификационную модель\n",
        "class CamembertClassifier(nn.Module):                   # class CamembertClassifier(nn.Module) - создаём новую модель CamembertClassifier,\n",
        "                                                        # которая наследуется от `torch.nn.Module`. Это стандартный способ объявлять модели в PyTorch.\n",
        "    def __init__(self, camembert_model, num_classes=2):\n",
        "        super(CamembertClassifier, self).__init__()\n",
        "        self.camembert = camembert_model                # Загружаем предобученный CamemBERT из transformers.\n",
        "                                                        # Эта модель уже предобучена на французском языке и умеет создавать эмбеддинги для текста.\n",
        "        self.dropout = nn.Dropout(0.3)                  # Dropout для регуляризации. Dropout(0.3) случайно зануляет 30% нейронов во время обучения.\n",
        "                                                        # Это предотвращает переобучение модели.\n",
        "        self.classifier = nn.Linear(768, num_classes)   # Линейный слой (768 -> num_classes). nn.Linear(768, num_classes) — обычный полносвязный слой:\n",
        "                                                        # Вход: вектор размером 768 (эмбеддинг [CLS]).\n",
        "                                                        # Выход: num_classes (например, 2, если классифицируем позитив/негатив).\n",
        "                                                        # Этот слой предсказывает логиты (числа перед softmax).\n",
        "\n",
        "    def forward(self, input_ids, attention_mask):       # Этот метод определяет, как данные проходят через модель.\n",
        "        with torch.no_grad():                           # CamemBERT замораживаем (можно разморозить для дообучения)\n",
        "            outputs = self.camembert(input_ids=input_ids, attention_mask=attention_mask)   # Пропускаем текст через CamemBERT,\n",
        "                                                                                          # self.camembert(...) получает эмбеддинги токенов.\n",
        "                                                                                          # torch.no_grad() замораживает веса CamemBERT,\n",
        "                                                                                          #чтобы он не обучался (можно убрать, если хотим дообучать).\n",
        "        cls_embedding = outputs.last_hidden_state[:, 0, :]  # Берём эмбеддинг [CLS]. utputs.last_hidden_state имеет размер [batch_size, seq_len, 768].\n",
        "                                                            # [CLS] токен (первый токен в предложении) содержит сводную информацию о всём тексте.\n",
        "                                                            # [:, 0, :] → Берём первый токен (размер 768).\n",
        "\n",
        "        x = self.dropout(cls_embedding)                     # Пропускаем через Dropout (регуляризация)\n",
        "        logits = self.classifier(x)                         # Пропускаем через линейный слой. self.classifier(x) даёт логиты (числа перед softmax).\n",
        "                                                            # Если у нас 2 класса, выход будет [batch_size, 2] (значения для каждого класса).\n",
        "        return logits                                       #  # Выход: [batch_size, num_classes]\n",
        "\n",
        "# Создаём модель\n",
        "num_classes = 2  # Например, два класса: позитивный/негативный\n",
        "model = CamembertClassifier(camembert, num_classes)\n"
      ],
      "metadata": {
        "id": "CpmtHtL6tnhP"
      },
      "execution_count": 59,
      "outputs": []
    },
    {
      "cell_type": "markdown",
      "source": [
        "<small>Кстати. Почему forward не вызывается явно?  \n",
        "В PyTorch, если мы пишем: `output = model(x)`, PyTorch автоматически вызывает:\n",
        "`output = model.forward(x)` То есть, в PyTorch метод forward не нужно вызывать вручную.  \n",
        "В CamemBERT-классификаторе Когда мы пишем:  \n",
        "`logits = model(input_ids, attention_mask)` PyTorch автоматически вызывает:\n",
        "`logits = model.forward(input_ids, attention_mask)`. Поэтому forward не вызывается вручную, но он всегда работает в момент вызова модели.</small>"
      ],
      "metadata": {
        "id": "aH2fn5HX_V8n"
      }
    },
    {
      "cell_type": "markdown",
      "source": [
        "Без обучения модель не сможет правильно классифицировать предложения, потому что:__CamemBERT – это языковая модель, а не классификатор__ (Предобученная модель CamemBERT не предназначена для классификации \"из коробки\". Она обучена понимать французский язык и предсказывать пропущенные слова (Masked Language Model). Для классификации нам нужно дообучить линейный слой на размеченных данных.)\n",
        "\n",
        "Она __умеет получать эмбеддинги__, но __не обучен распознавать \"положительный\" или \"отрицательный\" тон__. Она просто выдаст случайные логиты, так как __классификационный слой (линейный nn.Linear)__ изначально не обучен. Линейный слой изначально имеет случайные веса.  \n",
        "Когда мы создаём self.classifier = nn.Linear(768, num_classes), его веса инициализируются случайными значениями.  "
      ],
      "metadata": {
        "id": "yoWuMBq42y31"
      }
    },
    {
      "cell_type": "markdown",
      "source": [
        "Поэтому, чтобы модель правильно классифицировала, нам нужно её обучить. Вот минимальный код обучения:"
      ],
      "metadata": {
        "id": "hu5Qxk0p5Iuq"
      }
    },
    {
      "cell_type": "code",
      "source": [
        "from torch.optim import AdamW  # Используем PyTorch версию\n",
        "\n",
        "# 1️⃣ Создаём обучающие данные (простые примеры)\n",
        "texts = [\"J'adore ce fromage, il est délicieux.\",  # Позитивный (1)\n",
        "         \"Je déteste ce fromage, il est horrible.\"]  # Негативный (0)\n",
        "labels = torch.tensor([1, 0])  # Метки классов\n",
        "\n",
        "# 2️⃣ Токенизируем данные\n",
        "encodings = tokenizer(texts, padding=True, truncation=True, return_tensors=\"pt\")\n",
        "\n",
        "# 3️⃣ Оптимизатор и функция потерь\n",
        "optimizer = torch.optim.AdamW(model.classifier.parameters(), lr=5e-5)\n",
        "criterion = nn.CrossEntropyLoss()\n",
        "\n",
        "# 4️⃣ Запускаем обучение\n",
        "model.train()\n",
        "num_epochs = 10\n",
        "for epoch in range(num_epochs):\n",
        "    optimizer.zero_grad()\n",
        "\n",
        "    logits = model(encodings[\"input_ids\"], encodings[\"attention_mask\"])\n",
        "    loss = criterion(logits, labels)\n",
        "\n",
        "    loss.backward()\n",
        "    optimizer.step()\n",
        "\n",
        "    print(f\"Эпоха {epoch + 1}/{num_epochs}, Потери: {loss.item():.4f}\")\n",
        "\n",
        "# 5️⃣ Проверяем после обучения\n",
        "model.eval()\n",
        "test_text = \"Ce fromage est affreux.\"\n",
        "test_encoding = tokenizer(test_text, return_tensors=\"pt\")\n",
        "logits = model(test_encoding[\"input_ids\"], test_encoding[\"attention_mask\"])\n",
        "prediction = torch.argmax(logits, dim=1).item()\n",
        "print(\"Предсказанный класс:\", \"Позитивный\" if prediction == 1 else \"Негативный\")\n"
      ],
      "metadata": {
        "id": "l_VJZAhf5Q5V",
        "outputId": "9c833f22-d10d-446c-fcc9-44cabdec6e17",
        "colab": {
          "base_uri": "https://localhost:8080/"
        }
      },
      "execution_count": 64,
      "outputs": [
        {
          "output_type": "stream",
          "name": "stdout",
          "text": [
            "Эпоха 1/10, Потери: 0.6305\n",
            "Эпоха 2/10, Потери: 0.6806\n",
            "Эпоха 3/10, Потери: 0.6908\n",
            "Эпоха 4/10, Потери: 0.6594\n",
            "Эпоха 5/10, Потери: 0.6700\n",
            "Эпоха 6/10, Потери: 0.7108\n",
            "Эпоха 7/10, Потери: 0.6986\n",
            "Эпоха 8/10, Потери: 0.6862\n",
            "Эпоха 9/10, Потери: 0.6603\n",
            "Эпоха 10/10, Потери: 0.6955\n",
            "Предсказанный класс: Позитивный\n"
          ]
        }
      ]
    },
    {
      "cell_type": "markdown",
      "source": [
        "Еще пример, но, как видим, обучение модели на одном примере - недостаточно, так как ошибка [1, 1], вместо [1, 0]"
      ],
      "metadata": {
        "id": "MCBnBGOa6ozx"
      }
    },
    {
      "cell_type": "code",
      "source": [
        "texts_2 = [\"J'adore ce fromage, il est délicieux.\", \"Je déteste ce fromage, il est horrible.\"]"
      ],
      "metadata": {
        "id": "LZBZu0H60AGd"
      },
      "execution_count": 65,
      "outputs": []
    },
    {
      "cell_type": "markdown",
      "source": [
        "1. __Токенизируем текст:__  "
      ],
      "metadata": {
        "id": "f5Yaplif0NxK"
      }
    },
    {
      "cell_type": "code",
      "source": [
        "encodings_2 = tokenizer(texts_2, padding=True, truncation=True, return_tensors=\"pt\")"
      ],
      "metadata": {
        "id": "r-_GnH-S0OQG"
      },
      "execution_count": 66,
      "outputs": []
    },
    {
      "cell_type": "markdown",
      "source": [
        "2. __Пропускаем через модель:__  "
      ],
      "metadata": {
        "id": "ChAQ_Klz0arb"
      }
    },
    {
      "cell_type": "code",
      "source": [
        "logits_2 = model(encodings_2[\"input_ids\"], encodings_2[\"attention_mask\"])"
      ],
      "metadata": {
        "id": "YI7zksD-0bQg"
      },
      "execution_count": 67,
      "outputs": []
    },
    {
      "cell_type": "markdown",
      "source": [
        "3. __Предсказываем класс:__  "
      ],
      "metadata": {
        "id": "YKjQTshT0qRi"
      }
    },
    {
      "cell_type": "code",
      "source": [
        "predictions = torch.argmax(logits_2, dim=1)\n",
        "print(predictions.tolist())  # Ожидаемый результат: [1, 0]"
      ],
      "metadata": {
        "id": "M5VcsHNe0wn5",
        "outputId": "47f8ce8b-e931-4908-d04c-3253affb3d10",
        "colab": {
          "base_uri": "https://localhost:8080/"
        }
      },
      "execution_count": 68,
      "outputs": [
        {
          "output_type": "stream",
          "name": "stdout",
          "text": [
            "[1, 1]\n"
          ]
        }
      ]
    },
    {
      "cell_type": "markdown",
      "source": [
        "4. __Итог__  \n",
        "🔹 CamemBERT превращает текст в эмбеддинги.  \n",
        "🔹 Берём эмбеддинг [CLS] как представление всего текста.  \n",
        "🔹 Линейный слой предсказывает класс (позитив / негатив).  \n",
        "🔹 Dropout помогает избежать переобучения.  \n",
        "🔹 Модель можно обучать, используя AdamW и CrossEntropyLoss.  "
      ],
      "metadata": {
        "id": "lJC5To3uy4i1"
      }
    }
  ],
  "metadata": {
    "colab": {
      "name": "Using pretrained models (PyTorch)",
      "provenance": []
    },
    "language_info": {
      "name": "python"
    },
    "kernelspec": {
      "name": "python3",
      "display_name": "Python 3"
    },
    "widgets": {
      "application/vnd.jupyter.widget-state+json": {
        "f66dec55be024ad382867fa1e8778503": {
          "model_module": "@jupyter-widgets/controls",
          "model_name": "VBoxModel",
          "model_module_version": "1.5.0",
          "state": {
            "_dom_classes": [],
            "_model_module": "@jupyter-widgets/controls",
            "_model_module_version": "1.5.0",
            "_model_name": "VBoxModel",
            "_view_count": null,
            "_view_module": "@jupyter-widgets/controls",
            "_view_module_version": "1.5.0",
            "_view_name": "VBoxView",
            "box_style": "",
            "children": [],
            "layout": "IPY_MODEL_f007edcc05b044afa1b94573fd721779"
          }
        },
        "a5a94e51e1f440538e8aa1b08004da8d": {
          "model_module": "@jupyter-widgets/controls",
          "model_name": "HTMLModel",
          "model_module_version": "1.5.0",
          "state": {
            "_dom_classes": [],
            "_model_module": "@jupyter-widgets/controls",
            "_model_module_version": "1.5.0",
            "_model_name": "HTMLModel",
            "_view_count": null,
            "_view_module": "@jupyter-widgets/controls",
            "_view_module_version": "1.5.0",
            "_view_name": "HTMLView",
            "description": "",
            "description_tooltip": null,
            "layout": "IPY_MODEL_5b854fbddc814b69a523afbb6e051d7f",
            "placeholder": "​",
            "style": "IPY_MODEL_036dbb711a96407ab11dd9a96d35256b",
            "value": "<center> <img\nsrc=https://huggingface.co/front/assets/huggingface_logo-noborder.svg\nalt='Hugging Face'> <br> Copy a token from <a\nhref=\"https://huggingface.co/settings/tokens\" target=\"_blank\">your Hugging Face\ntokens page</a> and paste it below. <br> Immediately click login after copying\nyour token or it might be stored in plain text in this notebook file. </center>"
          }
        },
        "c1771f0fceb64dbab9dba53ef94f2ebd": {
          "model_module": "@jupyter-widgets/controls",
          "model_name": "PasswordModel",
          "model_module_version": "1.5.0",
          "state": {
            "_dom_classes": [],
            "_model_module": "@jupyter-widgets/controls",
            "_model_module_version": "1.5.0",
            "_model_name": "PasswordModel",
            "_view_count": null,
            "_view_module": "@jupyter-widgets/controls",
            "_view_module_version": "1.5.0",
            "_view_name": "PasswordView",
            "continuous_update": true,
            "description": "Token:",
            "description_tooltip": null,
            "disabled": false,
            "layout": "IPY_MODEL_1ed8293107db4a59bcc28a4b67c413b5",
            "placeholder": "​",
            "style": "IPY_MODEL_525c5df5b8044a60a62e4c3fc64bbc0f",
            "value": ""
          }
        },
        "03a7b5b355d446fb972933518e275401": {
          "model_module": "@jupyter-widgets/controls",
          "model_name": "CheckboxModel",
          "model_module_version": "1.5.0",
          "state": {
            "_dom_classes": [],
            "_model_module": "@jupyter-widgets/controls",
            "_model_module_version": "1.5.0",
            "_model_name": "CheckboxModel",
            "_view_count": null,
            "_view_module": "@jupyter-widgets/controls",
            "_view_module_version": "1.5.0",
            "_view_name": "CheckboxView",
            "description": "Add token as git credential?",
            "description_tooltip": null,
            "disabled": false,
            "indent": true,
            "layout": "IPY_MODEL_0bcfecabdaad46f7a6ee87fa67c59ddf",
            "style": "IPY_MODEL_222f44b39f4147c9b83224ec0f60153e",
            "value": true
          }
        },
        "8e64b3d1be314d54b306e902f4a02ab4": {
          "model_module": "@jupyter-widgets/controls",
          "model_name": "ButtonModel",
          "model_module_version": "1.5.0",
          "state": {
            "_dom_classes": [],
            "_model_module": "@jupyter-widgets/controls",
            "_model_module_version": "1.5.0",
            "_model_name": "ButtonModel",
            "_view_count": null,
            "_view_module": "@jupyter-widgets/controls",
            "_view_module_version": "1.5.0",
            "_view_name": "ButtonView",
            "button_style": "",
            "description": "Login",
            "disabled": false,
            "icon": "",
            "layout": "IPY_MODEL_f0379c0580324af4806b39657dcaa417",
            "style": "IPY_MODEL_c451ef4a1b434f6d83ce2696d22453b9",
            "tooltip": ""
          }
        },
        "b67ac5f576cf4415ab6178b6037a4853": {
          "model_module": "@jupyter-widgets/controls",
          "model_name": "HTMLModel",
          "model_module_version": "1.5.0",
          "state": {
            "_dom_classes": [],
            "_model_module": "@jupyter-widgets/controls",
            "_model_module_version": "1.5.0",
            "_model_name": "HTMLModel",
            "_view_count": null,
            "_view_module": "@jupyter-widgets/controls",
            "_view_module_version": "1.5.0",
            "_view_name": "HTMLView",
            "description": "",
            "description_tooltip": null,
            "layout": "IPY_MODEL_0a7dd44c557642e49b4a623c5e6f6ae6",
            "placeholder": "​",
            "style": "IPY_MODEL_05e18a6a843c4c049a30984ec7025d77",
            "value": "\n<b>Pro Tip:</b> If you don't already have one, you can create a dedicated\n'notebooks' token with 'write' access, that you can then easily reuse for all\nnotebooks. </center>"
          }
        },
        "f007edcc05b044afa1b94573fd721779": {
          "model_module": "@jupyter-widgets/base",
          "model_name": "LayoutModel",
          "model_module_version": "1.2.0",
          "state": {
            "_model_module": "@jupyter-widgets/base",
            "_model_module_version": "1.2.0",
            "_model_name": "LayoutModel",
            "_view_count": null,
            "_view_module": "@jupyter-widgets/base",
            "_view_module_version": "1.2.0",
            "_view_name": "LayoutView",
            "align_content": null,
            "align_items": "center",
            "align_self": null,
            "border": null,
            "bottom": null,
            "display": "flex",
            "flex": null,
            "flex_flow": "column",
            "grid_area": null,
            "grid_auto_columns": null,
            "grid_auto_flow": null,
            "grid_auto_rows": null,
            "grid_column": null,
            "grid_gap": null,
            "grid_row": null,
            "grid_template_areas": null,
            "grid_template_columns": null,
            "grid_template_rows": null,
            "height": null,
            "justify_content": null,
            "justify_items": null,
            "left": null,
            "margin": null,
            "max_height": null,
            "max_width": null,
            "min_height": null,
            "min_width": null,
            "object_fit": null,
            "object_position": null,
            "order": null,
            "overflow": null,
            "overflow_x": null,
            "overflow_y": null,
            "padding": null,
            "right": null,
            "top": null,
            "visibility": null,
            "width": "50%"
          }
        },
        "5b854fbddc814b69a523afbb6e051d7f": {
          "model_module": "@jupyter-widgets/base",
          "model_name": "LayoutModel",
          "model_module_version": "1.2.0",
          "state": {
            "_model_module": "@jupyter-widgets/base",
            "_model_module_version": "1.2.0",
            "_model_name": "LayoutModel",
            "_view_count": null,
            "_view_module": "@jupyter-widgets/base",
            "_view_module_version": "1.2.0",
            "_view_name": "LayoutView",
            "align_content": null,
            "align_items": null,
            "align_self": null,
            "border": null,
            "bottom": null,
            "display": null,
            "flex": null,
            "flex_flow": null,
            "grid_area": null,
            "grid_auto_columns": null,
            "grid_auto_flow": null,
            "grid_auto_rows": null,
            "grid_column": null,
            "grid_gap": null,
            "grid_row": null,
            "grid_template_areas": null,
            "grid_template_columns": null,
            "grid_template_rows": null,
            "height": null,
            "justify_content": null,
            "justify_items": null,
            "left": null,
            "margin": null,
            "max_height": null,
            "max_width": null,
            "min_height": null,
            "min_width": null,
            "object_fit": null,
            "object_position": null,
            "order": null,
            "overflow": null,
            "overflow_x": null,
            "overflow_y": null,
            "padding": null,
            "right": null,
            "top": null,
            "visibility": null,
            "width": null
          }
        },
        "036dbb711a96407ab11dd9a96d35256b": {
          "model_module": "@jupyter-widgets/controls",
          "model_name": "DescriptionStyleModel",
          "model_module_version": "1.5.0",
          "state": {
            "_model_module": "@jupyter-widgets/controls",
            "_model_module_version": "1.5.0",
            "_model_name": "DescriptionStyleModel",
            "_view_count": null,
            "_view_module": "@jupyter-widgets/base",
            "_view_module_version": "1.2.0",
            "_view_name": "StyleView",
            "description_width": ""
          }
        },
        "1ed8293107db4a59bcc28a4b67c413b5": {
          "model_module": "@jupyter-widgets/base",
          "model_name": "LayoutModel",
          "model_module_version": "1.2.0",
          "state": {
            "_model_module": "@jupyter-widgets/base",
            "_model_module_version": "1.2.0",
            "_model_name": "LayoutModel",
            "_view_count": null,
            "_view_module": "@jupyter-widgets/base",
            "_view_module_version": "1.2.0",
            "_view_name": "LayoutView",
            "align_content": null,
            "align_items": null,
            "align_self": null,
            "border": null,
            "bottom": null,
            "display": null,
            "flex": null,
            "flex_flow": null,
            "grid_area": null,
            "grid_auto_columns": null,
            "grid_auto_flow": null,
            "grid_auto_rows": null,
            "grid_column": null,
            "grid_gap": null,
            "grid_row": null,
            "grid_template_areas": null,
            "grid_template_columns": null,
            "grid_template_rows": null,
            "height": null,
            "justify_content": null,
            "justify_items": null,
            "left": null,
            "margin": null,
            "max_height": null,
            "max_width": null,
            "min_height": null,
            "min_width": null,
            "object_fit": null,
            "object_position": null,
            "order": null,
            "overflow": null,
            "overflow_x": null,
            "overflow_y": null,
            "padding": null,
            "right": null,
            "top": null,
            "visibility": null,
            "width": null
          }
        },
        "525c5df5b8044a60a62e4c3fc64bbc0f": {
          "model_module": "@jupyter-widgets/controls",
          "model_name": "DescriptionStyleModel",
          "model_module_version": "1.5.0",
          "state": {
            "_model_module": "@jupyter-widgets/controls",
            "_model_module_version": "1.5.0",
            "_model_name": "DescriptionStyleModel",
            "_view_count": null,
            "_view_module": "@jupyter-widgets/base",
            "_view_module_version": "1.2.0",
            "_view_name": "StyleView",
            "description_width": ""
          }
        },
        "0bcfecabdaad46f7a6ee87fa67c59ddf": {
          "model_module": "@jupyter-widgets/base",
          "model_name": "LayoutModel",
          "model_module_version": "1.2.0",
          "state": {
            "_model_module": "@jupyter-widgets/base",
            "_model_module_version": "1.2.0",
            "_model_name": "LayoutModel",
            "_view_count": null,
            "_view_module": "@jupyter-widgets/base",
            "_view_module_version": "1.2.0",
            "_view_name": "LayoutView",
            "align_content": null,
            "align_items": null,
            "align_self": null,
            "border": null,
            "bottom": null,
            "display": null,
            "flex": null,
            "flex_flow": null,
            "grid_area": null,
            "grid_auto_columns": null,
            "grid_auto_flow": null,
            "grid_auto_rows": null,
            "grid_column": null,
            "grid_gap": null,
            "grid_row": null,
            "grid_template_areas": null,
            "grid_template_columns": null,
            "grid_template_rows": null,
            "height": null,
            "justify_content": null,
            "justify_items": null,
            "left": null,
            "margin": null,
            "max_height": null,
            "max_width": null,
            "min_height": null,
            "min_width": null,
            "object_fit": null,
            "object_position": null,
            "order": null,
            "overflow": null,
            "overflow_x": null,
            "overflow_y": null,
            "padding": null,
            "right": null,
            "top": null,
            "visibility": null,
            "width": null
          }
        },
        "222f44b39f4147c9b83224ec0f60153e": {
          "model_module": "@jupyter-widgets/controls",
          "model_name": "DescriptionStyleModel",
          "model_module_version": "1.5.0",
          "state": {
            "_model_module": "@jupyter-widgets/controls",
            "_model_module_version": "1.5.0",
            "_model_name": "DescriptionStyleModel",
            "_view_count": null,
            "_view_module": "@jupyter-widgets/base",
            "_view_module_version": "1.2.0",
            "_view_name": "StyleView",
            "description_width": ""
          }
        },
        "f0379c0580324af4806b39657dcaa417": {
          "model_module": "@jupyter-widgets/base",
          "model_name": "LayoutModel",
          "model_module_version": "1.2.0",
          "state": {
            "_model_module": "@jupyter-widgets/base",
            "_model_module_version": "1.2.0",
            "_model_name": "LayoutModel",
            "_view_count": null,
            "_view_module": "@jupyter-widgets/base",
            "_view_module_version": "1.2.0",
            "_view_name": "LayoutView",
            "align_content": null,
            "align_items": null,
            "align_self": null,
            "border": null,
            "bottom": null,
            "display": null,
            "flex": null,
            "flex_flow": null,
            "grid_area": null,
            "grid_auto_columns": null,
            "grid_auto_flow": null,
            "grid_auto_rows": null,
            "grid_column": null,
            "grid_gap": null,
            "grid_row": null,
            "grid_template_areas": null,
            "grid_template_columns": null,
            "grid_template_rows": null,
            "height": null,
            "justify_content": null,
            "justify_items": null,
            "left": null,
            "margin": null,
            "max_height": null,
            "max_width": null,
            "min_height": null,
            "min_width": null,
            "object_fit": null,
            "object_position": null,
            "order": null,
            "overflow": null,
            "overflow_x": null,
            "overflow_y": null,
            "padding": null,
            "right": null,
            "top": null,
            "visibility": null,
            "width": null
          }
        },
        "c451ef4a1b434f6d83ce2696d22453b9": {
          "model_module": "@jupyter-widgets/controls",
          "model_name": "ButtonStyleModel",
          "model_module_version": "1.5.0",
          "state": {
            "_model_module": "@jupyter-widgets/controls",
            "_model_module_version": "1.5.0",
            "_model_name": "ButtonStyleModel",
            "_view_count": null,
            "_view_module": "@jupyter-widgets/base",
            "_view_module_version": "1.2.0",
            "_view_name": "StyleView",
            "button_color": null,
            "font_weight": ""
          }
        },
        "0a7dd44c557642e49b4a623c5e6f6ae6": {
          "model_module": "@jupyter-widgets/base",
          "model_name": "LayoutModel",
          "model_module_version": "1.2.0",
          "state": {
            "_model_module": "@jupyter-widgets/base",
            "_model_module_version": "1.2.0",
            "_model_name": "LayoutModel",
            "_view_count": null,
            "_view_module": "@jupyter-widgets/base",
            "_view_module_version": "1.2.0",
            "_view_name": "LayoutView",
            "align_content": null,
            "align_items": null,
            "align_self": null,
            "border": null,
            "bottom": null,
            "display": null,
            "flex": null,
            "flex_flow": null,
            "grid_area": null,
            "grid_auto_columns": null,
            "grid_auto_flow": null,
            "grid_auto_rows": null,
            "grid_column": null,
            "grid_gap": null,
            "grid_row": null,
            "grid_template_areas": null,
            "grid_template_columns": null,
            "grid_template_rows": null,
            "height": null,
            "justify_content": null,
            "justify_items": null,
            "left": null,
            "margin": null,
            "max_height": null,
            "max_width": null,
            "min_height": null,
            "min_width": null,
            "object_fit": null,
            "object_position": null,
            "order": null,
            "overflow": null,
            "overflow_x": null,
            "overflow_y": null,
            "padding": null,
            "right": null,
            "top": null,
            "visibility": null,
            "width": null
          }
        },
        "05e18a6a843c4c049a30984ec7025d77": {
          "model_module": "@jupyter-widgets/controls",
          "model_name": "DescriptionStyleModel",
          "model_module_version": "1.5.0",
          "state": {
            "_model_module": "@jupyter-widgets/controls",
            "_model_module_version": "1.5.0",
            "_model_name": "DescriptionStyleModel",
            "_view_count": null,
            "_view_module": "@jupyter-widgets/base",
            "_view_module_version": "1.2.0",
            "_view_name": "StyleView",
            "description_width": ""
          }
        },
        "4515b593815e46a3b3965d5ebb953b17": {
          "model_module": "@jupyter-widgets/controls",
          "model_name": "LabelModel",
          "model_module_version": "1.5.0",
          "state": {
            "_dom_classes": [],
            "_model_module": "@jupyter-widgets/controls",
            "_model_module_version": "1.5.0",
            "_model_name": "LabelModel",
            "_view_count": null,
            "_view_module": "@jupyter-widgets/controls",
            "_view_module_version": "1.5.0",
            "_view_name": "LabelView",
            "description": "",
            "description_tooltip": null,
            "layout": "IPY_MODEL_8a08c9e8dae54b8f893dc8a3799fa7ab",
            "placeholder": "​",
            "style": "IPY_MODEL_d27bc1d2c109401abd2031ccede0f872",
            "value": "Connecting..."
          }
        },
        "8a08c9e8dae54b8f893dc8a3799fa7ab": {
          "model_module": "@jupyter-widgets/base",
          "model_name": "LayoutModel",
          "model_module_version": "1.2.0",
          "state": {
            "_model_module": "@jupyter-widgets/base",
            "_model_module_version": "1.2.0",
            "_model_name": "LayoutModel",
            "_view_count": null,
            "_view_module": "@jupyter-widgets/base",
            "_view_module_version": "1.2.0",
            "_view_name": "LayoutView",
            "align_content": null,
            "align_items": null,
            "align_self": null,
            "border": null,
            "bottom": null,
            "display": null,
            "flex": null,
            "flex_flow": null,
            "grid_area": null,
            "grid_auto_columns": null,
            "grid_auto_flow": null,
            "grid_auto_rows": null,
            "grid_column": null,
            "grid_gap": null,
            "grid_row": null,
            "grid_template_areas": null,
            "grid_template_columns": null,
            "grid_template_rows": null,
            "height": null,
            "justify_content": null,
            "justify_items": null,
            "left": null,
            "margin": null,
            "max_height": null,
            "max_width": null,
            "min_height": null,
            "min_width": null,
            "object_fit": null,
            "object_position": null,
            "order": null,
            "overflow": null,
            "overflow_x": null,
            "overflow_y": null,
            "padding": null,
            "right": null,
            "top": null,
            "visibility": null,
            "width": null
          }
        },
        "d27bc1d2c109401abd2031ccede0f872": {
          "model_module": "@jupyter-widgets/controls",
          "model_name": "DescriptionStyleModel",
          "model_module_version": "1.5.0",
          "state": {
            "_model_module": "@jupyter-widgets/controls",
            "_model_module_version": "1.5.0",
            "_model_name": "DescriptionStyleModel",
            "_view_count": null,
            "_view_module": "@jupyter-widgets/base",
            "_view_module_version": "1.2.0",
            "_view_name": "StyleView",
            "description_width": ""
          }
        },
        "c9e934065b744125b0ae2920216f2270": {
          "model_module": "@jupyter-widgets/controls",
          "model_name": "HBoxModel",
          "model_module_version": "1.5.0",
          "state": {
            "_dom_classes": [],
            "_model_module": "@jupyter-widgets/controls",
            "_model_module_version": "1.5.0",
            "_model_name": "HBoxModel",
            "_view_count": null,
            "_view_module": "@jupyter-widgets/controls",
            "_view_module_version": "1.5.0",
            "_view_name": "HBoxView",
            "box_style": "",
            "children": [
              "IPY_MODEL_90483d6213114d18b1cc30c739ca1256",
              "IPY_MODEL_b9c505e8568a44b2b819a7516c95db99",
              "IPY_MODEL_aa9bc355cad54088b5bfc74219c115dc"
            ],
            "layout": "IPY_MODEL_b508a079da8e4431bd500c932fbdb1fc"
          }
        },
        "90483d6213114d18b1cc30c739ca1256": {
          "model_module": "@jupyter-widgets/controls",
          "model_name": "HTMLModel",
          "model_module_version": "1.5.0",
          "state": {
            "_dom_classes": [],
            "_model_module": "@jupyter-widgets/controls",
            "_model_module_version": "1.5.0",
            "_model_name": "HTMLModel",
            "_view_count": null,
            "_view_module": "@jupyter-widgets/controls",
            "_view_module_version": "1.5.0",
            "_view_name": "HTMLView",
            "description": "",
            "description_tooltip": null,
            "layout": "IPY_MODEL_8caa9d8ea9714f3282faee4acc2d0430",
            "placeholder": "​",
            "style": "IPY_MODEL_90c6a29d801c4b7194bddc491e1e0c20",
            "value": "config.json: 100%"
          }
        },
        "b9c505e8568a44b2b819a7516c95db99": {
          "model_module": "@jupyter-widgets/controls",
          "model_name": "FloatProgressModel",
          "model_module_version": "1.5.0",
          "state": {
            "_dom_classes": [],
            "_model_module": "@jupyter-widgets/controls",
            "_model_module_version": "1.5.0",
            "_model_name": "FloatProgressModel",
            "_view_count": null,
            "_view_module": "@jupyter-widgets/controls",
            "_view_module_version": "1.5.0",
            "_view_name": "ProgressView",
            "bar_style": "success",
            "description": "",
            "description_tooltip": null,
            "layout": "IPY_MODEL_abf5c68bd2cb42bc9193b766430dd30d",
            "max": 455,
            "min": 0,
            "orientation": "horizontal",
            "style": "IPY_MODEL_b481978172454d42a347e5127eeadd2f",
            "value": 455
          }
        },
        "aa9bc355cad54088b5bfc74219c115dc": {
          "model_module": "@jupyter-widgets/controls",
          "model_name": "HTMLModel",
          "model_module_version": "1.5.0",
          "state": {
            "_dom_classes": [],
            "_model_module": "@jupyter-widgets/controls",
            "_model_module_version": "1.5.0",
            "_model_name": "HTMLModel",
            "_view_count": null,
            "_view_module": "@jupyter-widgets/controls",
            "_view_module_version": "1.5.0",
            "_view_name": "HTMLView",
            "description": "",
            "description_tooltip": null,
            "layout": "IPY_MODEL_bc0d4f91de5f4788bdb7b9ffd8aa4fe9",
            "placeholder": "​",
            "style": "IPY_MODEL_6fbf6a1da1df4952957c08c99363ca51",
            "value": " 455/455 [00:00&lt;00:00, 11.4kB/s]"
          }
        },
        "b508a079da8e4431bd500c932fbdb1fc": {
          "model_module": "@jupyter-widgets/base",
          "model_name": "LayoutModel",
          "model_module_version": "1.2.0",
          "state": {
            "_model_module": "@jupyter-widgets/base",
            "_model_module_version": "1.2.0",
            "_model_name": "LayoutModel",
            "_view_count": null,
            "_view_module": "@jupyter-widgets/base",
            "_view_module_version": "1.2.0",
            "_view_name": "LayoutView",
            "align_content": null,
            "align_items": null,
            "align_self": null,
            "border": null,
            "bottom": null,
            "display": null,
            "flex": null,
            "flex_flow": null,
            "grid_area": null,
            "grid_auto_columns": null,
            "grid_auto_flow": null,
            "grid_auto_rows": null,
            "grid_column": null,
            "grid_gap": null,
            "grid_row": null,
            "grid_template_areas": null,
            "grid_template_columns": null,
            "grid_template_rows": null,
            "height": null,
            "justify_content": null,
            "justify_items": null,
            "left": null,
            "margin": null,
            "max_height": null,
            "max_width": null,
            "min_height": null,
            "min_width": null,
            "object_fit": null,
            "object_position": null,
            "order": null,
            "overflow": null,
            "overflow_x": null,
            "overflow_y": null,
            "padding": null,
            "right": null,
            "top": null,
            "visibility": null,
            "width": null
          }
        },
        "8caa9d8ea9714f3282faee4acc2d0430": {
          "model_module": "@jupyter-widgets/base",
          "model_name": "LayoutModel",
          "model_module_version": "1.2.0",
          "state": {
            "_model_module": "@jupyter-widgets/base",
            "_model_module_version": "1.2.0",
            "_model_name": "LayoutModel",
            "_view_count": null,
            "_view_module": "@jupyter-widgets/base",
            "_view_module_version": "1.2.0",
            "_view_name": "LayoutView",
            "align_content": null,
            "align_items": null,
            "align_self": null,
            "border": null,
            "bottom": null,
            "display": null,
            "flex": null,
            "flex_flow": null,
            "grid_area": null,
            "grid_auto_columns": null,
            "grid_auto_flow": null,
            "grid_auto_rows": null,
            "grid_column": null,
            "grid_gap": null,
            "grid_row": null,
            "grid_template_areas": null,
            "grid_template_columns": null,
            "grid_template_rows": null,
            "height": null,
            "justify_content": null,
            "justify_items": null,
            "left": null,
            "margin": null,
            "max_height": null,
            "max_width": null,
            "min_height": null,
            "min_width": null,
            "object_fit": null,
            "object_position": null,
            "order": null,
            "overflow": null,
            "overflow_x": null,
            "overflow_y": null,
            "padding": null,
            "right": null,
            "top": null,
            "visibility": null,
            "width": null
          }
        },
        "90c6a29d801c4b7194bddc491e1e0c20": {
          "model_module": "@jupyter-widgets/controls",
          "model_name": "DescriptionStyleModel",
          "model_module_version": "1.5.0",
          "state": {
            "_model_module": "@jupyter-widgets/controls",
            "_model_module_version": "1.5.0",
            "_model_name": "DescriptionStyleModel",
            "_view_count": null,
            "_view_module": "@jupyter-widgets/base",
            "_view_module_version": "1.2.0",
            "_view_name": "StyleView",
            "description_width": ""
          }
        },
        "abf5c68bd2cb42bc9193b766430dd30d": {
          "model_module": "@jupyter-widgets/base",
          "model_name": "LayoutModel",
          "model_module_version": "1.2.0",
          "state": {
            "_model_module": "@jupyter-widgets/base",
            "_model_module_version": "1.2.0",
            "_model_name": "LayoutModel",
            "_view_count": null,
            "_view_module": "@jupyter-widgets/base",
            "_view_module_version": "1.2.0",
            "_view_name": "LayoutView",
            "align_content": null,
            "align_items": null,
            "align_self": null,
            "border": null,
            "bottom": null,
            "display": null,
            "flex": null,
            "flex_flow": null,
            "grid_area": null,
            "grid_auto_columns": null,
            "grid_auto_flow": null,
            "grid_auto_rows": null,
            "grid_column": null,
            "grid_gap": null,
            "grid_row": null,
            "grid_template_areas": null,
            "grid_template_columns": null,
            "grid_template_rows": null,
            "height": null,
            "justify_content": null,
            "justify_items": null,
            "left": null,
            "margin": null,
            "max_height": null,
            "max_width": null,
            "min_height": null,
            "min_width": null,
            "object_fit": null,
            "object_position": null,
            "order": null,
            "overflow": null,
            "overflow_x": null,
            "overflow_y": null,
            "padding": null,
            "right": null,
            "top": null,
            "visibility": null,
            "width": null
          }
        },
        "b481978172454d42a347e5127eeadd2f": {
          "model_module": "@jupyter-widgets/controls",
          "model_name": "ProgressStyleModel",
          "model_module_version": "1.5.0",
          "state": {
            "_model_module": "@jupyter-widgets/controls",
            "_model_module_version": "1.5.0",
            "_model_name": "ProgressStyleModel",
            "_view_count": null,
            "_view_module": "@jupyter-widgets/base",
            "_view_module_version": "1.2.0",
            "_view_name": "StyleView",
            "bar_color": null,
            "description_width": ""
          }
        },
        "bc0d4f91de5f4788bdb7b9ffd8aa4fe9": {
          "model_module": "@jupyter-widgets/base",
          "model_name": "LayoutModel",
          "model_module_version": "1.2.0",
          "state": {
            "_model_module": "@jupyter-widgets/base",
            "_model_module_version": "1.2.0",
            "_model_name": "LayoutModel",
            "_view_count": null,
            "_view_module": "@jupyter-widgets/base",
            "_view_module_version": "1.2.0",
            "_view_name": "LayoutView",
            "align_content": null,
            "align_items": null,
            "align_self": null,
            "border": null,
            "bottom": null,
            "display": null,
            "flex": null,
            "flex_flow": null,
            "grid_area": null,
            "grid_auto_columns": null,
            "grid_auto_flow": null,
            "grid_auto_rows": null,
            "grid_column": null,
            "grid_gap": null,
            "grid_row": null,
            "grid_template_areas": null,
            "grid_template_columns": null,
            "grid_template_rows": null,
            "height": null,
            "justify_content": null,
            "justify_items": null,
            "left": null,
            "margin": null,
            "max_height": null,
            "max_width": null,
            "min_height": null,
            "min_width": null,
            "object_fit": null,
            "object_position": null,
            "order": null,
            "overflow": null,
            "overflow_x": null,
            "overflow_y": null,
            "padding": null,
            "right": null,
            "top": null,
            "visibility": null,
            "width": null
          }
        },
        "6fbf6a1da1df4952957c08c99363ca51": {
          "model_module": "@jupyter-widgets/controls",
          "model_name": "DescriptionStyleModel",
          "model_module_version": "1.5.0",
          "state": {
            "_model_module": "@jupyter-widgets/controls",
            "_model_module_version": "1.5.0",
            "_model_name": "DescriptionStyleModel",
            "_view_count": null,
            "_view_module": "@jupyter-widgets/base",
            "_view_module_version": "1.2.0",
            "_view_name": "StyleView",
            "description_width": ""
          }
        },
        "18b377a0514b4f79865030e122ce243d": {
          "model_module": "@jupyter-widgets/controls",
          "model_name": "HBoxModel",
          "model_module_version": "1.5.0",
          "state": {
            "_dom_classes": [],
            "_model_module": "@jupyter-widgets/controls",
            "_model_module_version": "1.5.0",
            "_model_name": "HBoxModel",
            "_view_count": null,
            "_view_module": "@jupyter-widgets/controls",
            "_view_module_version": "1.5.0",
            "_view_name": "HBoxView",
            "box_style": "",
            "children": [
              "IPY_MODEL_7ba949b8dccd4ee7ae9d424e43f14c5f",
              "IPY_MODEL_381dbe4500d942ec8b47416286b11075",
              "IPY_MODEL_fc9bd03008f34a3e8491c54fa2118ce2"
            ],
            "layout": "IPY_MODEL_d4df0e1add3d4fcb912f98c912ff39fc"
          }
        },
        "7ba949b8dccd4ee7ae9d424e43f14c5f": {
          "model_module": "@jupyter-widgets/controls",
          "model_name": "HTMLModel",
          "model_module_version": "1.5.0",
          "state": {
            "_dom_classes": [],
            "_model_module": "@jupyter-widgets/controls",
            "_model_module_version": "1.5.0",
            "_model_name": "HTMLModel",
            "_view_count": null,
            "_view_module": "@jupyter-widgets/controls",
            "_view_module_version": "1.5.0",
            "_view_name": "HTMLView",
            "description": "",
            "description_tooltip": null,
            "layout": "IPY_MODEL_96ea47d160fa43c8ace52a39687d84c4",
            "placeholder": "​",
            "style": "IPY_MODEL_c30d31a1d721470cb05b4d4f16349adb",
            "value": "sentencepiece.bpe.model: 100%"
          }
        },
        "381dbe4500d942ec8b47416286b11075": {
          "model_module": "@jupyter-widgets/controls",
          "model_name": "FloatProgressModel",
          "model_module_version": "1.5.0",
          "state": {
            "_dom_classes": [],
            "_model_module": "@jupyter-widgets/controls",
            "_model_module_version": "1.5.0",
            "_model_name": "FloatProgressModel",
            "_view_count": null,
            "_view_module": "@jupyter-widgets/controls",
            "_view_module_version": "1.5.0",
            "_view_name": "ProgressView",
            "bar_style": "success",
            "description": "",
            "description_tooltip": null,
            "layout": "IPY_MODEL_05e8204673304529859d4aa11153769f",
            "max": 793068,
            "min": 0,
            "orientation": "horizontal",
            "style": "IPY_MODEL_e3e2a6ead22f45aab7d5d5b50755d92e",
            "value": 793068
          }
        },
        "fc9bd03008f34a3e8491c54fa2118ce2": {
          "model_module": "@jupyter-widgets/controls",
          "model_name": "HTMLModel",
          "model_module_version": "1.5.0",
          "state": {
            "_dom_classes": [],
            "_model_module": "@jupyter-widgets/controls",
            "_model_module_version": "1.5.0",
            "_model_name": "HTMLModel",
            "_view_count": null,
            "_view_module": "@jupyter-widgets/controls",
            "_view_module_version": "1.5.0",
            "_view_name": "HTMLView",
            "description": "",
            "description_tooltip": null,
            "layout": "IPY_MODEL_df57446459c946af94d95c6d6788ce8b",
            "placeholder": "​",
            "style": "IPY_MODEL_78e504f10a4a40a287752f70f54988b1",
            "value": " 793k/793k [00:00&lt;00:00, 9.69MB/s]"
          }
        },
        "d4df0e1add3d4fcb912f98c912ff39fc": {
          "model_module": "@jupyter-widgets/base",
          "model_name": "LayoutModel",
          "model_module_version": "1.2.0",
          "state": {
            "_model_module": "@jupyter-widgets/base",
            "_model_module_version": "1.2.0",
            "_model_name": "LayoutModel",
            "_view_count": null,
            "_view_module": "@jupyter-widgets/base",
            "_view_module_version": "1.2.0",
            "_view_name": "LayoutView",
            "align_content": null,
            "align_items": null,
            "align_self": null,
            "border": null,
            "bottom": null,
            "display": null,
            "flex": null,
            "flex_flow": null,
            "grid_area": null,
            "grid_auto_columns": null,
            "grid_auto_flow": null,
            "grid_auto_rows": null,
            "grid_column": null,
            "grid_gap": null,
            "grid_row": null,
            "grid_template_areas": null,
            "grid_template_columns": null,
            "grid_template_rows": null,
            "height": null,
            "justify_content": null,
            "justify_items": null,
            "left": null,
            "margin": null,
            "max_height": null,
            "max_width": null,
            "min_height": null,
            "min_width": null,
            "object_fit": null,
            "object_position": null,
            "order": null,
            "overflow": null,
            "overflow_x": null,
            "overflow_y": null,
            "padding": null,
            "right": null,
            "top": null,
            "visibility": null,
            "width": null
          }
        },
        "96ea47d160fa43c8ace52a39687d84c4": {
          "model_module": "@jupyter-widgets/base",
          "model_name": "LayoutModel",
          "model_module_version": "1.2.0",
          "state": {
            "_model_module": "@jupyter-widgets/base",
            "_model_module_version": "1.2.0",
            "_model_name": "LayoutModel",
            "_view_count": null,
            "_view_module": "@jupyter-widgets/base",
            "_view_module_version": "1.2.0",
            "_view_name": "LayoutView",
            "align_content": null,
            "align_items": null,
            "align_self": null,
            "border": null,
            "bottom": null,
            "display": null,
            "flex": null,
            "flex_flow": null,
            "grid_area": null,
            "grid_auto_columns": null,
            "grid_auto_flow": null,
            "grid_auto_rows": null,
            "grid_column": null,
            "grid_gap": null,
            "grid_row": null,
            "grid_template_areas": null,
            "grid_template_columns": null,
            "grid_template_rows": null,
            "height": null,
            "justify_content": null,
            "justify_items": null,
            "left": null,
            "margin": null,
            "max_height": null,
            "max_width": null,
            "min_height": null,
            "min_width": null,
            "object_fit": null,
            "object_position": null,
            "order": null,
            "overflow": null,
            "overflow_x": null,
            "overflow_y": null,
            "padding": null,
            "right": null,
            "top": null,
            "visibility": null,
            "width": null
          }
        },
        "c30d31a1d721470cb05b4d4f16349adb": {
          "model_module": "@jupyter-widgets/controls",
          "model_name": "DescriptionStyleModel",
          "model_module_version": "1.5.0",
          "state": {
            "_model_module": "@jupyter-widgets/controls",
            "_model_module_version": "1.5.0",
            "_model_name": "DescriptionStyleModel",
            "_view_count": null,
            "_view_module": "@jupyter-widgets/base",
            "_view_module_version": "1.2.0",
            "_view_name": "StyleView",
            "description_width": ""
          }
        },
        "05e8204673304529859d4aa11153769f": {
          "model_module": "@jupyter-widgets/base",
          "model_name": "LayoutModel",
          "model_module_version": "1.2.0",
          "state": {
            "_model_module": "@jupyter-widgets/base",
            "_model_module_version": "1.2.0",
            "_model_name": "LayoutModel",
            "_view_count": null,
            "_view_module": "@jupyter-widgets/base",
            "_view_module_version": "1.2.0",
            "_view_name": "LayoutView",
            "align_content": null,
            "align_items": null,
            "align_self": null,
            "border": null,
            "bottom": null,
            "display": null,
            "flex": null,
            "flex_flow": null,
            "grid_area": null,
            "grid_auto_columns": null,
            "grid_auto_flow": null,
            "grid_auto_rows": null,
            "grid_column": null,
            "grid_gap": null,
            "grid_row": null,
            "grid_template_areas": null,
            "grid_template_columns": null,
            "grid_template_rows": null,
            "height": null,
            "justify_content": null,
            "justify_items": null,
            "left": null,
            "margin": null,
            "max_height": null,
            "max_width": null,
            "min_height": null,
            "min_width": null,
            "object_fit": null,
            "object_position": null,
            "order": null,
            "overflow": null,
            "overflow_x": null,
            "overflow_y": null,
            "padding": null,
            "right": null,
            "top": null,
            "visibility": null,
            "width": null
          }
        },
        "e3e2a6ead22f45aab7d5d5b50755d92e": {
          "model_module": "@jupyter-widgets/controls",
          "model_name": "ProgressStyleModel",
          "model_module_version": "1.5.0",
          "state": {
            "_model_module": "@jupyter-widgets/controls",
            "_model_module_version": "1.5.0",
            "_model_name": "ProgressStyleModel",
            "_view_count": null,
            "_view_module": "@jupyter-widgets/base",
            "_view_module_version": "1.2.0",
            "_view_name": "StyleView",
            "bar_color": null,
            "description_width": ""
          }
        },
        "df57446459c946af94d95c6d6788ce8b": {
          "model_module": "@jupyter-widgets/base",
          "model_name": "LayoutModel",
          "model_module_version": "1.2.0",
          "state": {
            "_model_module": "@jupyter-widgets/base",
            "_model_module_version": "1.2.0",
            "_model_name": "LayoutModel",
            "_view_count": null,
            "_view_module": "@jupyter-widgets/base",
            "_view_module_version": "1.2.0",
            "_view_name": "LayoutView",
            "align_content": null,
            "align_items": null,
            "align_self": null,
            "border": null,
            "bottom": null,
            "display": null,
            "flex": null,
            "flex_flow": null,
            "grid_area": null,
            "grid_auto_columns": null,
            "grid_auto_flow": null,
            "grid_auto_rows": null,
            "grid_column": null,
            "grid_gap": null,
            "grid_row": null,
            "grid_template_areas": null,
            "grid_template_columns": null,
            "grid_template_rows": null,
            "height": null,
            "justify_content": null,
            "justify_items": null,
            "left": null,
            "margin": null,
            "max_height": null,
            "max_width": null,
            "min_height": null,
            "min_width": null,
            "object_fit": null,
            "object_position": null,
            "order": null,
            "overflow": null,
            "overflow_x": null,
            "overflow_y": null,
            "padding": null,
            "right": null,
            "top": null,
            "visibility": null,
            "width": null
          }
        },
        "78e504f10a4a40a287752f70f54988b1": {
          "model_module": "@jupyter-widgets/controls",
          "model_name": "DescriptionStyleModel",
          "model_module_version": "1.5.0",
          "state": {
            "_model_module": "@jupyter-widgets/controls",
            "_model_module_version": "1.5.0",
            "_model_name": "DescriptionStyleModel",
            "_view_count": null,
            "_view_module": "@jupyter-widgets/base",
            "_view_module_version": "1.2.0",
            "_view_name": "StyleView",
            "description_width": ""
          }
        }
      }
    }
  },
  "nbformat": 4,
  "nbformat_minor": 0
}