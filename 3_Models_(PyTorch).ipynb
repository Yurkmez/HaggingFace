{
  "cells": [
    {
      "cell_type": "markdown",
      "metadata": {
        "id": "0tpjvUoL-Ghu"
      },
      "source": [
        "# Models (PyTorch)"
      ]
    },
    {
      "cell_type": "markdown",
      "source": [
        "В этом разделе рассматривается создание и использование модели. Мы будем использовать класс AutoModel, который удобен, когда вы хотите создать экземпляр любой модели из контрольной точки.\n",
        "\n",
        "Класс AutoModel и все его родственники на самом деле являются простыми оболочками для широкого спектра моделей, доступных в библиотеке. Это умная оболочка, поскольку она может автоматически угадывать подходящую архитектуру модели для вашей контрольной точки, а затем создавать экземпляр модели с этой архитектурой.  \n",
        "\n",
        "Однако, если вы знаете тип модели, которую хотите использовать, вы можете использовать класс, который определяет ее архитектуру напрямую. Давайте посмотрим, как это работает с моделью BERT."
      ],
      "metadata": {
        "id": "fHqc70_p-wcU"
      }
    },
    {
      "cell_type": "markdown",
      "metadata": {
        "id": "0tPjgVql-Ghw"
      },
      "source": [
        "Install the Transformers, Datasets, and Evaluate libraries to run this notebook."
      ]
    },
    {
      "cell_type": "code",
      "execution_count": null,
      "metadata": {
        "id": "WUSU_cly-Ghx"
      },
      "outputs": [],
      "source": [
        "!pip install datasets evaluate transformers[sentencepiece]"
      ]
    },
    {
      "cell_type": "markdown",
      "source": [
        "## Creating a Transformer"
      ],
      "metadata": {
        "id": "SzBpRnbDWOBC"
      }
    },
    {
      "cell_type": "markdown",
      "source": [
        "Первое, что нам нужно сделать для инициализации модели BERT, — это загрузить объект конфигурации:"
      ],
      "metadata": {
        "id": "gYYyK7NnWSJf"
      }
    },
    {
      "cell_type": "code",
      "execution_count": 1,
      "metadata": {
        "id": "i9nEiyTc-Gh0"
      },
      "outputs": [],
      "source": [
        "from transformers import BertConfig, BertModel\n",
        "\n",
        "# Building the config\n",
        "config = BertConfig()\n",
        "\n",
        "# Building the model from the config\n",
        "model = BertModel(config)\n",
        "# Model is randomly initialized!"
      ]
    },
    {
      "cell_type": "code",
      "execution_count": null,
      "metadata": {
        "id": "YIn6IGzO-Gh2"
      },
      "outputs": [],
      "source": [
        "print(config)"
      ]
    },
    {
      "cell_type": "markdown",
      "source": [
        "## Различные методы загрузки"
      ],
      "metadata": {
        "id": "hvy-1T21Wzix"
      }
    },
    {
      "cell_type": "markdown",
      "source": [
        "Модель, которая загружена ранее  `model = BertModel(config)` можно использовать в этом состоянии, но она будет выдавать бессмыслицу (ее веса инициализированы случайными величинами). Ее нужно обучить.   \n",
        "Загрузка модели Transformer, которая уже обучена, проста — мы можем сделать это с помощью метода from_pretrained():"
      ],
      "metadata": {
        "id": "5loXOFfrXbLK"
      }
    },
    {
      "cell_type": "code",
      "execution_count": 3,
      "metadata": {
        "id": "-lTTO6BH-Gh5",
        "outputId": "36e8598b-7ed9-4468-8dde-cc643191ac9e",
        "colab": {
          "base_uri": "https://localhost:8080/",
          "height": 205,
          "referenced_widgets": [
            "1d552c4725dd47819a481f6a3ec4cdbf",
            "101a3867d8f448fc92f007b9a3b3abba",
            "f8197f597e7342f0ab2da077bc818573",
            "851364af579f4cb08e120ea7676aa4c7",
            "0df66359ed1448a3bb2bee3f4027978c",
            "e422374a15464f7186583d79be436e65",
            "43aa1980574b416ebfdb39ba982778f7",
            "cf722cc497c0461188eae40d750fbd1e",
            "eb8a9dd7815f4fb4a826258a960343ed",
            "222ba6774f4640a085c0f9ee8dc640c2",
            "4f7e388de1604e54b6d2a8d98ad608e2",
            "a771b37b2d9243cea907062377501a99",
            "0d8a195ae9424e8b94fe298bc3723ed8",
            "28857852cf7342d89a82bfbc7ea8b1b5",
            "ac33a420bce446419d818d0a095d71d1",
            "3e48e7f24a2140c29febc771ff773412",
            "711faa1c9405428bb01bbb2ee221b893",
            "997166bfd4344622a44df0d27222e7c6",
            "13e01850292f4c6a9cf3c9734c15b190",
            "eaf1195f10e84e08bcb55fd44f2a399c",
            "1a569c10be1440c68e6ebc2441fdc3cc",
            "e22c767fa8d340eaa53bf89a5948b3e7"
          ]
        }
      },
      "outputs": [
        {
          "output_type": "stream",
          "name": "stderr",
          "text": [
            "/usr/local/lib/python3.11/dist-packages/huggingface_hub/utils/_auth.py:94: UserWarning: \n",
            "The secret `HF_TOKEN` does not exist in your Colab secrets.\n",
            "To authenticate with the Hugging Face Hub, create a token in your settings tab (https://huggingface.co/settings/tokens), set it as secret in your Google Colab and restart your session.\n",
            "You will be able to reuse this secret in all of your notebooks.\n",
            "Please note that authentication is recommended but still optional to access public models or datasets.\n",
            "  warnings.warn(\n"
          ]
        },
        {
          "output_type": "display_data",
          "data": {
            "text/plain": [
              "config.json:   0%|          | 0.00/570 [00:00<?, ?B/s]"
            ],
            "application/vnd.jupyter.widget-view+json": {
              "version_major": 2,
              "version_minor": 0,
              "model_id": "1d552c4725dd47819a481f6a3ec4cdbf"
            }
          },
          "metadata": {}
        },
        {
          "output_type": "display_data",
          "data": {
            "text/plain": [
              "model.safetensors:   0%|          | 0.00/436M [00:00<?, ?B/s]"
            ],
            "application/vnd.jupyter.widget-view+json": {
              "version_major": 2,
              "version_minor": 0,
              "model_id": "a771b37b2d9243cea907062377501a99"
            }
          },
          "metadata": {}
        }
      ],
      "source": [
        "model = BertModel.from_pretrained(\"bert-base-cased\")"
      ]
    },
    {
      "cell_type": "markdown",
      "source": [
        "Мы не использовали `BertConfig`, а вместо этого загрузили предварительно обученную модель через идентификатор `bert-base-cased`. Это контрольная точка модели, обученная самими авторами BERT."
      ],
      "metadata": {
        "id": "NQqdXqz9YQiM"
      }
    },
    {
      "cell_type": "markdown",
      "source": [
        "Теперь эта модель инициализирована со всеми весами контрольной точки. Ее можно использовать напрямую для вывода по задачам, на которых она была обучена, а также ее можно настроить на новую задачу. Обучаясь с предварительно обученными весами, а не с нуля, мы можем быстро добиться хороших результатов.\n",
        "\n",
        "Веса были загружены и кэшированы (чтобы будущие вызовы метода from_pretrained() не загружали их повторно) в папке кэша, которая по умолчанию находится в ~/.cache/huggingface/transformers. Вы можете настроить папку кэша, установив переменную среды HF_HOME.\n",
        "\n",
        "Идентификатор, используемый для загрузки модели, может быть идентификатором любой модели в Model Hub, если она совместима с архитектурой BERT. Полный список доступных контрольных точек BERT можно найти здесь:\n",
        "https://huggingface.co/models?other=bert&sort=trending"
      ],
      "metadata": {
        "id": "pO3wWWiPYsjU"
      }
    },
    {
      "cell_type": "markdown",
      "source": [
        "\n",
        "## Методы сохранения"
      ],
      "metadata": {
        "id": "5fCT8ce2ZJVC"
      }
    },
    {
      "cell_type": "markdown",
      "source": [
        "\n",
        "Сохранение модели так же просто, как и ее загрузка — мы используем метод `save_pretrained()`, который аналогичен методу from_pretrained():"
      ],
      "metadata": {
        "id": "fYnpJ_BgZRrv"
      }
    },
    {
      "cell_type": "code",
      "source": [
        "from google.colab import drive\n",
        "drive.mount('/content/drive')"
      ],
      "metadata": {
        "id": "r4PIQpARZhri",
        "outputId": "e4f742a2-bc85-4a3f-aaf9-0416fbc6033d",
        "colab": {
          "base_uri": "https://localhost:8080/"
        }
      },
      "execution_count": 4,
      "outputs": [
        {
          "output_type": "stream",
          "name": "stdout",
          "text": [
            "Mounted at /content/drive\n"
          ]
        }
      ]
    },
    {
      "cell_type": "code",
      "source": [
        "file_path = \"/content/drive/My Drive/Hugging_face/bert-base-cased_model_saved\""
      ],
      "metadata": {
        "id": "3-ycW_alZqz5"
      },
      "execution_count": 7,
      "outputs": []
    },
    {
      "cell_type": "code",
      "execution_count": 8,
      "metadata": {
        "id": "ijjalBO0-Gh6"
      },
      "outputs": [],
      "source": [
        "model.save_pretrained(file_path)"
      ]
    },
    {
      "cell_type": "code",
      "source": [
        "ls '/content/drive/My Drive/Hugging_face/bert-base-cased_model_saved'"
      ],
      "metadata": {
        "id": "TTi2lFzFafgA",
        "outputId": "a9312586-e9e5-4f53-e6ab-3b09a6e9c046",
        "colab": {
          "base_uri": "https://localhost:8080/"
        }
      },
      "execution_count": 13,
      "outputs": [
        {
          "output_type": "stream",
          "name": "stdout",
          "text": [
            "config.json  model.safetensors\n"
          ]
        }
      ]
    },
    {
      "cell_type": "markdown",
      "source": [
        "- config.json - атрибуты, необходимые для построения архитектуры модели. Этот файл также содержит некоторые метаданные, например, откуда возникла контрольная точка и какую версию 🤗 Transformers вы использовали, когда последний раз сохраняли контрольную точку.\n",
        "- pytorch_model.bin - словарь состояний: он содержит все веса вашей модели.   Эти два файла идут рука об руку: конфигурация необходима для знания архитектуры вашей модели, в то время как веса модели являются параметрами вашей модели."
      ],
      "metadata": {
        "id": "iSrAluXVb2K0"
      }
    },
    {
      "cell_type": "markdown",
      "source": [
        "## Использование модели Transformer для ввода"
      ],
      "metadata": {
        "id": "ZqXWW8qdcSZS"
      }
    },
    {
      "cell_type": "markdown",
      "source": [
        "Попробуем использовать модель для создания некоторых прогнозов. Модели Transformer могут обрабатывать только числа — числа, которые генерирует токенизатор. Но прежде чем мы обсудим токенизаторы, давайте рассмотрим, какие входные данные принимает модель.\n",
        "\n",
        "Токенизаторы могут позаботиться о приведении входных данных к соответствующим тензорам фреймворка, но чтобы помочь вам понять, что происходит, мы кратко рассмотрим, что необходимо сделать перед отправкой входных данных в модель.\n",
        "\n",
        "Допустим, у нас есть несколько последовательностей:"
      ],
      "metadata": {
        "id": "Pey_DSeScXJd"
      }
    },
    {
      "cell_type": "code",
      "execution_count": 14,
      "metadata": {
        "id": "l0UUC_RW-Gh6"
      },
      "outputs": [],
      "source": [
        "sequences = [\"Hello!\", \"Cool.\", \"Nice!\"]"
      ]
    },
    {
      "cell_type": "markdown",
      "source": [
        "Токенизатор преобразует их в индексы словаря, которые обычно называются входными идентификаторами. Каждая последовательность теперь представляет собой список чисел! Результирующий вывод:"
      ],
      "metadata": {
        "id": "KI-qCjZgcqYp"
      }
    },
    {
      "cell_type": "code",
      "execution_count": 15,
      "metadata": {
        "id": "y1t55GfP-Gh6"
      },
      "outputs": [],
      "source": [
        "encoded_sequences = [\n",
        "    [101, 7592, 999, 102],\n",
        "    [101, 4658, 1012, 102],\n",
        "    [101, 3835, 999, 102],\n",
        "]"
      ]
    },
    {
      "cell_type": "markdown",
      "source": [
        "Это список закодированных последовательностей: список списков. Тензоры принимают только прямоугольные формы (подумайте о матрицах). Этот «массив» уже имеет прямоугольную форму, поэтому преобразовать его в тензор легко:"
      ],
      "metadata": {
        "id": "QQjxfKAfc98L"
      }
    },
    {
      "cell_type": "code",
      "execution_count": 16,
      "metadata": {
        "id": "EEmbzKc0-Gh7"
      },
      "outputs": [],
      "source": [
        "import torch\n",
        "\n",
        "model_inputs = torch.tensor(encoded_sequences)"
      ]
    },
    {
      "cell_type": "code",
      "source": [
        "model_inputs"
      ],
      "metadata": {
        "id": "Q8IvWP7edF2N",
        "outputId": "8fecc3f1-0560-4d08-9046-b2c6e7d7939d",
        "colab": {
          "base_uri": "https://localhost:8080/"
        }
      },
      "execution_count": 17,
      "outputs": [
        {
          "output_type": "execute_result",
          "data": {
            "text/plain": [
              "tensor([[ 101, 7592,  999,  102],\n",
              "        [ 101, 4658, 1012,  102],\n",
              "        [ 101, 3835,  999,  102]])"
            ]
          },
          "metadata": {},
          "execution_count": 17
        }
      ]
    },
    {
      "cell_type": "markdown",
      "source": [
        "Использование тензоров в качестве входных данных для модели\n",
        "Использование тензоров в модели чрезвычайно просто — мы просто вызываем модель с входными данными:"
      ],
      "metadata": {
        "id": "Y4CKq_8xdJvz"
      }
    },
    {
      "cell_type": "code",
      "execution_count": 21,
      "metadata": {
        "id": "fp_1vUcg-Gh7"
      },
      "outputs": [],
      "source": [
        "output = model(model_inputs)"
      ]
    },
    {
      "cell_type": "code",
      "source": [
        "output.last_hidden_state.shape"
      ],
      "metadata": {
        "id": "obWcx42qd9hJ",
        "outputId": "288bc3e1-27c3-4afe-939b-0287ddd68c20",
        "colab": {
          "base_uri": "https://localhost:8080/"
        }
      },
      "execution_count": 22,
      "outputs": [
        {
          "output_type": "execute_result",
          "data": {
            "text/plain": [
              "torch.Size([3, 4, 768])"
            ]
          },
          "metadata": {},
          "execution_count": 22
        }
      ]
    },
    {
      "cell_type": "markdown",
      "source": [
        "Хотя модель принимает множество различных аргументов, необходимы только идентификаторы входов. Мы объясним, что делают другие аргументы и когда они требуются позже, но сначала нам нужно поближе рассмотреть токенизаторы, которые создают входы, которые может понять модель Transformer."
      ],
      "metadata": {
        "id": "zjjkYUyzeKxs"
      }
    }
  ],
  "metadata": {
    "colab": {
      "name": "Models (PyTorch)",
      "provenance": []
    },
    "language_info": {
      "name": "python"
    },
    "kernelspec": {
      "name": "python3",
      "display_name": "Python 3"
    },
    "widgets": {
      "application/vnd.jupyter.widget-state+json": {
        "1d552c4725dd47819a481f6a3ec4cdbf": {
          "model_module": "@jupyter-widgets/controls",
          "model_name": "HBoxModel",
          "model_module_version": "1.5.0",
          "state": {
            "_dom_classes": [],
            "_model_module": "@jupyter-widgets/controls",
            "_model_module_version": "1.5.0",
            "_model_name": "HBoxModel",
            "_view_count": null,
            "_view_module": "@jupyter-widgets/controls",
            "_view_module_version": "1.5.0",
            "_view_name": "HBoxView",
            "box_style": "",
            "children": [
              "IPY_MODEL_101a3867d8f448fc92f007b9a3b3abba",
              "IPY_MODEL_f8197f597e7342f0ab2da077bc818573",
              "IPY_MODEL_851364af579f4cb08e120ea7676aa4c7"
            ],
            "layout": "IPY_MODEL_0df66359ed1448a3bb2bee3f4027978c"
          }
        },
        "101a3867d8f448fc92f007b9a3b3abba": {
          "model_module": "@jupyter-widgets/controls",
          "model_name": "HTMLModel",
          "model_module_version": "1.5.0",
          "state": {
            "_dom_classes": [],
            "_model_module": "@jupyter-widgets/controls",
            "_model_module_version": "1.5.0",
            "_model_name": "HTMLModel",
            "_view_count": null,
            "_view_module": "@jupyter-widgets/controls",
            "_view_module_version": "1.5.0",
            "_view_name": "HTMLView",
            "description": "",
            "description_tooltip": null,
            "layout": "IPY_MODEL_e422374a15464f7186583d79be436e65",
            "placeholder": "​",
            "style": "IPY_MODEL_43aa1980574b416ebfdb39ba982778f7",
            "value": "config.json: 100%"
          }
        },
        "f8197f597e7342f0ab2da077bc818573": {
          "model_module": "@jupyter-widgets/controls",
          "model_name": "FloatProgressModel",
          "model_module_version": "1.5.0",
          "state": {
            "_dom_classes": [],
            "_model_module": "@jupyter-widgets/controls",
            "_model_module_version": "1.5.0",
            "_model_name": "FloatProgressModel",
            "_view_count": null,
            "_view_module": "@jupyter-widgets/controls",
            "_view_module_version": "1.5.0",
            "_view_name": "ProgressView",
            "bar_style": "success",
            "description": "",
            "description_tooltip": null,
            "layout": "IPY_MODEL_cf722cc497c0461188eae40d750fbd1e",
            "max": 570,
            "min": 0,
            "orientation": "horizontal",
            "style": "IPY_MODEL_eb8a9dd7815f4fb4a826258a960343ed",
            "value": 570
          }
        },
        "851364af579f4cb08e120ea7676aa4c7": {
          "model_module": "@jupyter-widgets/controls",
          "model_name": "HTMLModel",
          "model_module_version": "1.5.0",
          "state": {
            "_dom_classes": [],
            "_model_module": "@jupyter-widgets/controls",
            "_model_module_version": "1.5.0",
            "_model_name": "HTMLModel",
            "_view_count": null,
            "_view_module": "@jupyter-widgets/controls",
            "_view_module_version": "1.5.0",
            "_view_name": "HTMLView",
            "description": "",
            "description_tooltip": null,
            "layout": "IPY_MODEL_222ba6774f4640a085c0f9ee8dc640c2",
            "placeholder": "​",
            "style": "IPY_MODEL_4f7e388de1604e54b6d2a8d98ad608e2",
            "value": " 570/570 [00:00&lt;00:00, 27.2kB/s]"
          }
        },
        "0df66359ed1448a3bb2bee3f4027978c": {
          "model_module": "@jupyter-widgets/base",
          "model_name": "LayoutModel",
          "model_module_version": "1.2.0",
          "state": {
            "_model_module": "@jupyter-widgets/base",
            "_model_module_version": "1.2.0",
            "_model_name": "LayoutModel",
            "_view_count": null,
            "_view_module": "@jupyter-widgets/base",
            "_view_module_version": "1.2.0",
            "_view_name": "LayoutView",
            "align_content": null,
            "align_items": null,
            "align_self": null,
            "border": null,
            "bottom": null,
            "display": null,
            "flex": null,
            "flex_flow": null,
            "grid_area": null,
            "grid_auto_columns": null,
            "grid_auto_flow": null,
            "grid_auto_rows": null,
            "grid_column": null,
            "grid_gap": null,
            "grid_row": null,
            "grid_template_areas": null,
            "grid_template_columns": null,
            "grid_template_rows": null,
            "height": null,
            "justify_content": null,
            "justify_items": null,
            "left": null,
            "margin": null,
            "max_height": null,
            "max_width": null,
            "min_height": null,
            "min_width": null,
            "object_fit": null,
            "object_position": null,
            "order": null,
            "overflow": null,
            "overflow_x": null,
            "overflow_y": null,
            "padding": null,
            "right": null,
            "top": null,
            "visibility": null,
            "width": null
          }
        },
        "e422374a15464f7186583d79be436e65": {
          "model_module": "@jupyter-widgets/base",
          "model_name": "LayoutModel",
          "model_module_version": "1.2.0",
          "state": {
            "_model_module": "@jupyter-widgets/base",
            "_model_module_version": "1.2.0",
            "_model_name": "LayoutModel",
            "_view_count": null,
            "_view_module": "@jupyter-widgets/base",
            "_view_module_version": "1.2.0",
            "_view_name": "LayoutView",
            "align_content": null,
            "align_items": null,
            "align_self": null,
            "border": null,
            "bottom": null,
            "display": null,
            "flex": null,
            "flex_flow": null,
            "grid_area": null,
            "grid_auto_columns": null,
            "grid_auto_flow": null,
            "grid_auto_rows": null,
            "grid_column": null,
            "grid_gap": null,
            "grid_row": null,
            "grid_template_areas": null,
            "grid_template_columns": null,
            "grid_template_rows": null,
            "height": null,
            "justify_content": null,
            "justify_items": null,
            "left": null,
            "margin": null,
            "max_height": null,
            "max_width": null,
            "min_height": null,
            "min_width": null,
            "object_fit": null,
            "object_position": null,
            "order": null,
            "overflow": null,
            "overflow_x": null,
            "overflow_y": null,
            "padding": null,
            "right": null,
            "top": null,
            "visibility": null,
            "width": null
          }
        },
        "43aa1980574b416ebfdb39ba982778f7": {
          "model_module": "@jupyter-widgets/controls",
          "model_name": "DescriptionStyleModel",
          "model_module_version": "1.5.0",
          "state": {
            "_model_module": "@jupyter-widgets/controls",
            "_model_module_version": "1.5.0",
            "_model_name": "DescriptionStyleModel",
            "_view_count": null,
            "_view_module": "@jupyter-widgets/base",
            "_view_module_version": "1.2.0",
            "_view_name": "StyleView",
            "description_width": ""
          }
        },
        "cf722cc497c0461188eae40d750fbd1e": {
          "model_module": "@jupyter-widgets/base",
          "model_name": "LayoutModel",
          "model_module_version": "1.2.0",
          "state": {
            "_model_module": "@jupyter-widgets/base",
            "_model_module_version": "1.2.0",
            "_model_name": "LayoutModel",
            "_view_count": null,
            "_view_module": "@jupyter-widgets/base",
            "_view_module_version": "1.2.0",
            "_view_name": "LayoutView",
            "align_content": null,
            "align_items": null,
            "align_self": null,
            "border": null,
            "bottom": null,
            "display": null,
            "flex": null,
            "flex_flow": null,
            "grid_area": null,
            "grid_auto_columns": null,
            "grid_auto_flow": null,
            "grid_auto_rows": null,
            "grid_column": null,
            "grid_gap": null,
            "grid_row": null,
            "grid_template_areas": null,
            "grid_template_columns": null,
            "grid_template_rows": null,
            "height": null,
            "justify_content": null,
            "justify_items": null,
            "left": null,
            "margin": null,
            "max_height": null,
            "max_width": null,
            "min_height": null,
            "min_width": null,
            "object_fit": null,
            "object_position": null,
            "order": null,
            "overflow": null,
            "overflow_x": null,
            "overflow_y": null,
            "padding": null,
            "right": null,
            "top": null,
            "visibility": null,
            "width": null
          }
        },
        "eb8a9dd7815f4fb4a826258a960343ed": {
          "model_module": "@jupyter-widgets/controls",
          "model_name": "ProgressStyleModel",
          "model_module_version": "1.5.0",
          "state": {
            "_model_module": "@jupyter-widgets/controls",
            "_model_module_version": "1.5.0",
            "_model_name": "ProgressStyleModel",
            "_view_count": null,
            "_view_module": "@jupyter-widgets/base",
            "_view_module_version": "1.2.0",
            "_view_name": "StyleView",
            "bar_color": null,
            "description_width": ""
          }
        },
        "222ba6774f4640a085c0f9ee8dc640c2": {
          "model_module": "@jupyter-widgets/base",
          "model_name": "LayoutModel",
          "model_module_version": "1.2.0",
          "state": {
            "_model_module": "@jupyter-widgets/base",
            "_model_module_version": "1.2.0",
            "_model_name": "LayoutModel",
            "_view_count": null,
            "_view_module": "@jupyter-widgets/base",
            "_view_module_version": "1.2.0",
            "_view_name": "LayoutView",
            "align_content": null,
            "align_items": null,
            "align_self": null,
            "border": null,
            "bottom": null,
            "display": null,
            "flex": null,
            "flex_flow": null,
            "grid_area": null,
            "grid_auto_columns": null,
            "grid_auto_flow": null,
            "grid_auto_rows": null,
            "grid_column": null,
            "grid_gap": null,
            "grid_row": null,
            "grid_template_areas": null,
            "grid_template_columns": null,
            "grid_template_rows": null,
            "height": null,
            "justify_content": null,
            "justify_items": null,
            "left": null,
            "margin": null,
            "max_height": null,
            "max_width": null,
            "min_height": null,
            "min_width": null,
            "object_fit": null,
            "object_position": null,
            "order": null,
            "overflow": null,
            "overflow_x": null,
            "overflow_y": null,
            "padding": null,
            "right": null,
            "top": null,
            "visibility": null,
            "width": null
          }
        },
        "4f7e388de1604e54b6d2a8d98ad608e2": {
          "model_module": "@jupyter-widgets/controls",
          "model_name": "DescriptionStyleModel",
          "model_module_version": "1.5.0",
          "state": {
            "_model_module": "@jupyter-widgets/controls",
            "_model_module_version": "1.5.0",
            "_model_name": "DescriptionStyleModel",
            "_view_count": null,
            "_view_module": "@jupyter-widgets/base",
            "_view_module_version": "1.2.0",
            "_view_name": "StyleView",
            "description_width": ""
          }
        },
        "a771b37b2d9243cea907062377501a99": {
          "model_module": "@jupyter-widgets/controls",
          "model_name": "HBoxModel",
          "model_module_version": "1.5.0",
          "state": {
            "_dom_classes": [],
            "_model_module": "@jupyter-widgets/controls",
            "_model_module_version": "1.5.0",
            "_model_name": "HBoxModel",
            "_view_count": null,
            "_view_module": "@jupyter-widgets/controls",
            "_view_module_version": "1.5.0",
            "_view_name": "HBoxView",
            "box_style": "",
            "children": [
              "IPY_MODEL_0d8a195ae9424e8b94fe298bc3723ed8",
              "IPY_MODEL_28857852cf7342d89a82bfbc7ea8b1b5",
              "IPY_MODEL_ac33a420bce446419d818d0a095d71d1"
            ],
            "layout": "IPY_MODEL_3e48e7f24a2140c29febc771ff773412"
          }
        },
        "0d8a195ae9424e8b94fe298bc3723ed8": {
          "model_module": "@jupyter-widgets/controls",
          "model_name": "HTMLModel",
          "model_module_version": "1.5.0",
          "state": {
            "_dom_classes": [],
            "_model_module": "@jupyter-widgets/controls",
            "_model_module_version": "1.5.0",
            "_model_name": "HTMLModel",
            "_view_count": null,
            "_view_module": "@jupyter-widgets/controls",
            "_view_module_version": "1.5.0",
            "_view_name": "HTMLView",
            "description": "",
            "description_tooltip": null,
            "layout": "IPY_MODEL_711faa1c9405428bb01bbb2ee221b893",
            "placeholder": "​",
            "style": "IPY_MODEL_997166bfd4344622a44df0d27222e7c6",
            "value": "model.safetensors: 100%"
          }
        },
        "28857852cf7342d89a82bfbc7ea8b1b5": {
          "model_module": "@jupyter-widgets/controls",
          "model_name": "FloatProgressModel",
          "model_module_version": "1.5.0",
          "state": {
            "_dom_classes": [],
            "_model_module": "@jupyter-widgets/controls",
            "_model_module_version": "1.5.0",
            "_model_name": "FloatProgressModel",
            "_view_count": null,
            "_view_module": "@jupyter-widgets/controls",
            "_view_module_version": "1.5.0",
            "_view_name": "ProgressView",
            "bar_style": "success",
            "description": "",
            "description_tooltip": null,
            "layout": "IPY_MODEL_13e01850292f4c6a9cf3c9734c15b190",
            "max": 435755784,
            "min": 0,
            "orientation": "horizontal",
            "style": "IPY_MODEL_eaf1195f10e84e08bcb55fd44f2a399c",
            "value": 435755784
          }
        },
        "ac33a420bce446419d818d0a095d71d1": {
          "model_module": "@jupyter-widgets/controls",
          "model_name": "HTMLModel",
          "model_module_version": "1.5.0",
          "state": {
            "_dom_classes": [],
            "_model_module": "@jupyter-widgets/controls",
            "_model_module_version": "1.5.0",
            "_model_name": "HTMLModel",
            "_view_count": null,
            "_view_module": "@jupyter-widgets/controls",
            "_view_module_version": "1.5.0",
            "_view_name": "HTMLView",
            "description": "",
            "description_tooltip": null,
            "layout": "IPY_MODEL_1a569c10be1440c68e6ebc2441fdc3cc",
            "placeholder": "​",
            "style": "IPY_MODEL_e22c767fa8d340eaa53bf89a5948b3e7",
            "value": " 436M/436M [00:02&lt;00:00, 170MB/s]"
          }
        },
        "3e48e7f24a2140c29febc771ff773412": {
          "model_module": "@jupyter-widgets/base",
          "model_name": "LayoutModel",
          "model_module_version": "1.2.0",
          "state": {
            "_model_module": "@jupyter-widgets/base",
            "_model_module_version": "1.2.0",
            "_model_name": "LayoutModel",
            "_view_count": null,
            "_view_module": "@jupyter-widgets/base",
            "_view_module_version": "1.2.0",
            "_view_name": "LayoutView",
            "align_content": null,
            "align_items": null,
            "align_self": null,
            "border": null,
            "bottom": null,
            "display": null,
            "flex": null,
            "flex_flow": null,
            "grid_area": null,
            "grid_auto_columns": null,
            "grid_auto_flow": null,
            "grid_auto_rows": null,
            "grid_column": null,
            "grid_gap": null,
            "grid_row": null,
            "grid_template_areas": null,
            "grid_template_columns": null,
            "grid_template_rows": null,
            "height": null,
            "justify_content": null,
            "justify_items": null,
            "left": null,
            "margin": null,
            "max_height": null,
            "max_width": null,
            "min_height": null,
            "min_width": null,
            "object_fit": null,
            "object_position": null,
            "order": null,
            "overflow": null,
            "overflow_x": null,
            "overflow_y": null,
            "padding": null,
            "right": null,
            "top": null,
            "visibility": null,
            "width": null
          }
        },
        "711faa1c9405428bb01bbb2ee221b893": {
          "model_module": "@jupyter-widgets/base",
          "model_name": "LayoutModel",
          "model_module_version": "1.2.0",
          "state": {
            "_model_module": "@jupyter-widgets/base",
            "_model_module_version": "1.2.0",
            "_model_name": "LayoutModel",
            "_view_count": null,
            "_view_module": "@jupyter-widgets/base",
            "_view_module_version": "1.2.0",
            "_view_name": "LayoutView",
            "align_content": null,
            "align_items": null,
            "align_self": null,
            "border": null,
            "bottom": null,
            "display": null,
            "flex": null,
            "flex_flow": null,
            "grid_area": null,
            "grid_auto_columns": null,
            "grid_auto_flow": null,
            "grid_auto_rows": null,
            "grid_column": null,
            "grid_gap": null,
            "grid_row": null,
            "grid_template_areas": null,
            "grid_template_columns": null,
            "grid_template_rows": null,
            "height": null,
            "justify_content": null,
            "justify_items": null,
            "left": null,
            "margin": null,
            "max_height": null,
            "max_width": null,
            "min_height": null,
            "min_width": null,
            "object_fit": null,
            "object_position": null,
            "order": null,
            "overflow": null,
            "overflow_x": null,
            "overflow_y": null,
            "padding": null,
            "right": null,
            "top": null,
            "visibility": null,
            "width": null
          }
        },
        "997166bfd4344622a44df0d27222e7c6": {
          "model_module": "@jupyter-widgets/controls",
          "model_name": "DescriptionStyleModel",
          "model_module_version": "1.5.0",
          "state": {
            "_model_module": "@jupyter-widgets/controls",
            "_model_module_version": "1.5.0",
            "_model_name": "DescriptionStyleModel",
            "_view_count": null,
            "_view_module": "@jupyter-widgets/base",
            "_view_module_version": "1.2.0",
            "_view_name": "StyleView",
            "description_width": ""
          }
        },
        "13e01850292f4c6a9cf3c9734c15b190": {
          "model_module": "@jupyter-widgets/base",
          "model_name": "LayoutModel",
          "model_module_version": "1.2.0",
          "state": {
            "_model_module": "@jupyter-widgets/base",
            "_model_module_version": "1.2.0",
            "_model_name": "LayoutModel",
            "_view_count": null,
            "_view_module": "@jupyter-widgets/base",
            "_view_module_version": "1.2.0",
            "_view_name": "LayoutView",
            "align_content": null,
            "align_items": null,
            "align_self": null,
            "border": null,
            "bottom": null,
            "display": null,
            "flex": null,
            "flex_flow": null,
            "grid_area": null,
            "grid_auto_columns": null,
            "grid_auto_flow": null,
            "grid_auto_rows": null,
            "grid_column": null,
            "grid_gap": null,
            "grid_row": null,
            "grid_template_areas": null,
            "grid_template_columns": null,
            "grid_template_rows": null,
            "height": null,
            "justify_content": null,
            "justify_items": null,
            "left": null,
            "margin": null,
            "max_height": null,
            "max_width": null,
            "min_height": null,
            "min_width": null,
            "object_fit": null,
            "object_position": null,
            "order": null,
            "overflow": null,
            "overflow_x": null,
            "overflow_y": null,
            "padding": null,
            "right": null,
            "top": null,
            "visibility": null,
            "width": null
          }
        },
        "eaf1195f10e84e08bcb55fd44f2a399c": {
          "model_module": "@jupyter-widgets/controls",
          "model_name": "ProgressStyleModel",
          "model_module_version": "1.5.0",
          "state": {
            "_model_module": "@jupyter-widgets/controls",
            "_model_module_version": "1.5.0",
            "_model_name": "ProgressStyleModel",
            "_view_count": null,
            "_view_module": "@jupyter-widgets/base",
            "_view_module_version": "1.2.0",
            "_view_name": "StyleView",
            "bar_color": null,
            "description_width": ""
          }
        },
        "1a569c10be1440c68e6ebc2441fdc3cc": {
          "model_module": "@jupyter-widgets/base",
          "model_name": "LayoutModel",
          "model_module_version": "1.2.0",
          "state": {
            "_model_module": "@jupyter-widgets/base",
            "_model_module_version": "1.2.0",
            "_model_name": "LayoutModel",
            "_view_count": null,
            "_view_module": "@jupyter-widgets/base",
            "_view_module_version": "1.2.0",
            "_view_name": "LayoutView",
            "align_content": null,
            "align_items": null,
            "align_self": null,
            "border": null,
            "bottom": null,
            "display": null,
            "flex": null,
            "flex_flow": null,
            "grid_area": null,
            "grid_auto_columns": null,
            "grid_auto_flow": null,
            "grid_auto_rows": null,
            "grid_column": null,
            "grid_gap": null,
            "grid_row": null,
            "grid_template_areas": null,
            "grid_template_columns": null,
            "grid_template_rows": null,
            "height": null,
            "justify_content": null,
            "justify_items": null,
            "left": null,
            "margin": null,
            "max_height": null,
            "max_width": null,
            "min_height": null,
            "min_width": null,
            "object_fit": null,
            "object_position": null,
            "order": null,
            "overflow": null,
            "overflow_x": null,
            "overflow_y": null,
            "padding": null,
            "right": null,
            "top": null,
            "visibility": null,
            "width": null
          }
        },
        "e22c767fa8d340eaa53bf89a5948b3e7": {
          "model_module": "@jupyter-widgets/controls",
          "model_name": "DescriptionStyleModel",
          "model_module_version": "1.5.0",
          "state": {
            "_model_module": "@jupyter-widgets/controls",
            "_model_module_version": "1.5.0",
            "_model_name": "DescriptionStyleModel",
            "_view_count": null,
            "_view_module": "@jupyter-widgets/base",
            "_view_module_version": "1.2.0",
            "_view_name": "StyleView",
            "description_width": ""
          }
        }
      }
    }
  },
  "nbformat": 4,
  "nbformat_minor": 0
}