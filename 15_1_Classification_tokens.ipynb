{
  "nbformat": 4,
  "nbformat_minor": 0,
  "metadata": {
    "colab": {
      "provenance": [],
      "collapsed_sections": [
        "s7IfIr-pxBWB",
        "Xc24StpM-Uyw",
        "UZw0mWv2qapX"
      ]
    },
    "kernelspec": {
      "name": "python3",
      "display_name": "Python 3"
    },
    "language_info": {
      "name": "python"
    },
    "widgets": {
      "application/vnd.jupyter.widget-state+json": {
        "e169c3d2a7784cad99a7c8b583f4e21b": {
          "model_module": "@jupyter-widgets/controls",
          "model_name": "VBoxModel",
          "model_module_version": "1.5.0",
          "state": {
            "_dom_classes": [],
            "_model_module": "@jupyter-widgets/controls",
            "_model_module_version": "1.5.0",
            "_model_name": "VBoxModel",
            "_view_count": null,
            "_view_module": "@jupyter-widgets/controls",
            "_view_module_version": "1.5.0",
            "_view_name": "VBoxView",
            "box_style": "",
            "children": [],
            "layout": "IPY_MODEL_2c51037c3bb2459aa4ab446767c82e13"
          }
        },
        "ba4f417942e24d35870890a05b384576": {
          "model_module": "@jupyter-widgets/controls",
          "model_name": "HTMLModel",
          "model_module_version": "1.5.0",
          "state": {
            "_dom_classes": [],
            "_model_module": "@jupyter-widgets/controls",
            "_model_module_version": "1.5.0",
            "_model_name": "HTMLModel",
            "_view_count": null,
            "_view_module": "@jupyter-widgets/controls",
            "_view_module_version": "1.5.0",
            "_view_name": "HTMLView",
            "description": "",
            "description_tooltip": null,
            "layout": "IPY_MODEL_61be6b1e20674f898b2357a3c4777252",
            "placeholder": "​",
            "style": "IPY_MODEL_73c1ec903d244b6894eae013a00d38d0",
            "value": "<center> <img\nsrc=https://huggingface.co/front/assets/huggingface_logo-noborder.svg\nalt='Hugging Face'> <br> Copy a token from <a\nhref=\"https://huggingface.co/settings/tokens\" target=\"_blank\">your Hugging Face\ntokens page</a> and paste it below. <br> Immediately click login after copying\nyour token or it might be stored in plain text in this notebook file. </center>"
          }
        },
        "7add37ea6d96482086ecb46534b80b7c": {
          "model_module": "@jupyter-widgets/controls",
          "model_name": "PasswordModel",
          "model_module_version": "1.5.0",
          "state": {
            "_dom_classes": [],
            "_model_module": "@jupyter-widgets/controls",
            "_model_module_version": "1.5.0",
            "_model_name": "PasswordModel",
            "_view_count": null,
            "_view_module": "@jupyter-widgets/controls",
            "_view_module_version": "1.5.0",
            "_view_name": "PasswordView",
            "continuous_update": true,
            "description": "Token:",
            "description_tooltip": null,
            "disabled": false,
            "layout": "IPY_MODEL_2835429bebfe483ba7a0be6481abedd0",
            "placeholder": "​",
            "style": "IPY_MODEL_f706a5000c1c45ba99e4e33b40bfe786",
            "value": ""
          }
        },
        "885a15e5587d4798b7a773b190130f2e": {
          "model_module": "@jupyter-widgets/controls",
          "model_name": "CheckboxModel",
          "model_module_version": "1.5.0",
          "state": {
            "_dom_classes": [],
            "_model_module": "@jupyter-widgets/controls",
            "_model_module_version": "1.5.0",
            "_model_name": "CheckboxModel",
            "_view_count": null,
            "_view_module": "@jupyter-widgets/controls",
            "_view_module_version": "1.5.0",
            "_view_name": "CheckboxView",
            "description": "Add token as git credential?",
            "description_tooltip": null,
            "disabled": false,
            "indent": true,
            "layout": "IPY_MODEL_2d7ccaf07cc14486a9e451c80e5a7881",
            "style": "IPY_MODEL_24c6c41dac9a48aea8aa320610ae14ca",
            "value": true
          }
        },
        "75b27405651246d598cfd31a1bc1fb90": {
          "model_module": "@jupyter-widgets/controls",
          "model_name": "ButtonModel",
          "model_module_version": "1.5.0",
          "state": {
            "_dom_classes": [],
            "_model_module": "@jupyter-widgets/controls",
            "_model_module_version": "1.5.0",
            "_model_name": "ButtonModel",
            "_view_count": null,
            "_view_module": "@jupyter-widgets/controls",
            "_view_module_version": "1.5.0",
            "_view_name": "ButtonView",
            "button_style": "",
            "description": "Login",
            "disabled": false,
            "icon": "",
            "layout": "IPY_MODEL_e740ef3ddf66407eaa27f3bf99443aec",
            "style": "IPY_MODEL_040fb9b0db2f46b1950601aae6df6448",
            "tooltip": ""
          }
        },
        "f79eea02698d483094434fd4778ccffd": {
          "model_module": "@jupyter-widgets/controls",
          "model_name": "HTMLModel",
          "model_module_version": "1.5.0",
          "state": {
            "_dom_classes": [],
            "_model_module": "@jupyter-widgets/controls",
            "_model_module_version": "1.5.0",
            "_model_name": "HTMLModel",
            "_view_count": null,
            "_view_module": "@jupyter-widgets/controls",
            "_view_module_version": "1.5.0",
            "_view_name": "HTMLView",
            "description": "",
            "description_tooltip": null,
            "layout": "IPY_MODEL_7d84d7bec2ac457094d29925861ec06d",
            "placeholder": "​",
            "style": "IPY_MODEL_3b650b7296a14aba99e7b1655c565bab",
            "value": "\n<b>Pro Tip:</b> If you don't already have one, you can create a dedicated\n'notebooks' token with 'write' access, that you can then easily reuse for all\nnotebooks. </center>"
          }
        },
        "2c51037c3bb2459aa4ab446767c82e13": {
          "model_module": "@jupyter-widgets/base",
          "model_name": "LayoutModel",
          "model_module_version": "1.2.0",
          "state": {
            "_model_module": "@jupyter-widgets/base",
            "_model_module_version": "1.2.0",
            "_model_name": "LayoutModel",
            "_view_count": null,
            "_view_module": "@jupyter-widgets/base",
            "_view_module_version": "1.2.0",
            "_view_name": "LayoutView",
            "align_content": null,
            "align_items": "center",
            "align_self": null,
            "border": null,
            "bottom": null,
            "display": "flex",
            "flex": null,
            "flex_flow": "column",
            "grid_area": null,
            "grid_auto_columns": null,
            "grid_auto_flow": null,
            "grid_auto_rows": null,
            "grid_column": null,
            "grid_gap": null,
            "grid_row": null,
            "grid_template_areas": null,
            "grid_template_columns": null,
            "grid_template_rows": null,
            "height": null,
            "justify_content": null,
            "justify_items": null,
            "left": null,
            "margin": null,
            "max_height": null,
            "max_width": null,
            "min_height": null,
            "min_width": null,
            "object_fit": null,
            "object_position": null,
            "order": null,
            "overflow": null,
            "overflow_x": null,
            "overflow_y": null,
            "padding": null,
            "right": null,
            "top": null,
            "visibility": null,
            "width": "50%"
          }
        },
        "61be6b1e20674f898b2357a3c4777252": {
          "model_module": "@jupyter-widgets/base",
          "model_name": "LayoutModel",
          "model_module_version": "1.2.0",
          "state": {
            "_model_module": "@jupyter-widgets/base",
            "_model_module_version": "1.2.0",
            "_model_name": "LayoutModel",
            "_view_count": null,
            "_view_module": "@jupyter-widgets/base",
            "_view_module_version": "1.2.0",
            "_view_name": "LayoutView",
            "align_content": null,
            "align_items": null,
            "align_self": null,
            "border": null,
            "bottom": null,
            "display": null,
            "flex": null,
            "flex_flow": null,
            "grid_area": null,
            "grid_auto_columns": null,
            "grid_auto_flow": null,
            "grid_auto_rows": null,
            "grid_column": null,
            "grid_gap": null,
            "grid_row": null,
            "grid_template_areas": null,
            "grid_template_columns": null,
            "grid_template_rows": null,
            "height": null,
            "justify_content": null,
            "justify_items": null,
            "left": null,
            "margin": null,
            "max_height": null,
            "max_width": null,
            "min_height": null,
            "min_width": null,
            "object_fit": null,
            "object_position": null,
            "order": null,
            "overflow": null,
            "overflow_x": null,
            "overflow_y": null,
            "padding": null,
            "right": null,
            "top": null,
            "visibility": null,
            "width": null
          }
        },
        "73c1ec903d244b6894eae013a00d38d0": {
          "model_module": "@jupyter-widgets/controls",
          "model_name": "DescriptionStyleModel",
          "model_module_version": "1.5.0",
          "state": {
            "_model_module": "@jupyter-widgets/controls",
            "_model_module_version": "1.5.0",
            "_model_name": "DescriptionStyleModel",
            "_view_count": null,
            "_view_module": "@jupyter-widgets/base",
            "_view_module_version": "1.2.0",
            "_view_name": "StyleView",
            "description_width": ""
          }
        },
        "2835429bebfe483ba7a0be6481abedd0": {
          "model_module": "@jupyter-widgets/base",
          "model_name": "LayoutModel",
          "model_module_version": "1.2.0",
          "state": {
            "_model_module": "@jupyter-widgets/base",
            "_model_module_version": "1.2.0",
            "_model_name": "LayoutModel",
            "_view_count": null,
            "_view_module": "@jupyter-widgets/base",
            "_view_module_version": "1.2.0",
            "_view_name": "LayoutView",
            "align_content": null,
            "align_items": null,
            "align_self": null,
            "border": null,
            "bottom": null,
            "display": null,
            "flex": null,
            "flex_flow": null,
            "grid_area": null,
            "grid_auto_columns": null,
            "grid_auto_flow": null,
            "grid_auto_rows": null,
            "grid_column": null,
            "grid_gap": null,
            "grid_row": null,
            "grid_template_areas": null,
            "grid_template_columns": null,
            "grid_template_rows": null,
            "height": null,
            "justify_content": null,
            "justify_items": null,
            "left": null,
            "margin": null,
            "max_height": null,
            "max_width": null,
            "min_height": null,
            "min_width": null,
            "object_fit": null,
            "object_position": null,
            "order": null,
            "overflow": null,
            "overflow_x": null,
            "overflow_y": null,
            "padding": null,
            "right": null,
            "top": null,
            "visibility": null,
            "width": null
          }
        },
        "f706a5000c1c45ba99e4e33b40bfe786": {
          "model_module": "@jupyter-widgets/controls",
          "model_name": "DescriptionStyleModel",
          "model_module_version": "1.5.0",
          "state": {
            "_model_module": "@jupyter-widgets/controls",
            "_model_module_version": "1.5.0",
            "_model_name": "DescriptionStyleModel",
            "_view_count": null,
            "_view_module": "@jupyter-widgets/base",
            "_view_module_version": "1.2.0",
            "_view_name": "StyleView",
            "description_width": ""
          }
        },
        "2d7ccaf07cc14486a9e451c80e5a7881": {
          "model_module": "@jupyter-widgets/base",
          "model_name": "LayoutModel",
          "model_module_version": "1.2.0",
          "state": {
            "_model_module": "@jupyter-widgets/base",
            "_model_module_version": "1.2.0",
            "_model_name": "LayoutModel",
            "_view_count": null,
            "_view_module": "@jupyter-widgets/base",
            "_view_module_version": "1.2.0",
            "_view_name": "LayoutView",
            "align_content": null,
            "align_items": null,
            "align_self": null,
            "border": null,
            "bottom": null,
            "display": null,
            "flex": null,
            "flex_flow": null,
            "grid_area": null,
            "grid_auto_columns": null,
            "grid_auto_flow": null,
            "grid_auto_rows": null,
            "grid_column": null,
            "grid_gap": null,
            "grid_row": null,
            "grid_template_areas": null,
            "grid_template_columns": null,
            "grid_template_rows": null,
            "height": null,
            "justify_content": null,
            "justify_items": null,
            "left": null,
            "margin": null,
            "max_height": null,
            "max_width": null,
            "min_height": null,
            "min_width": null,
            "object_fit": null,
            "object_position": null,
            "order": null,
            "overflow": null,
            "overflow_x": null,
            "overflow_y": null,
            "padding": null,
            "right": null,
            "top": null,
            "visibility": null,
            "width": null
          }
        },
        "24c6c41dac9a48aea8aa320610ae14ca": {
          "model_module": "@jupyter-widgets/controls",
          "model_name": "DescriptionStyleModel",
          "model_module_version": "1.5.0",
          "state": {
            "_model_module": "@jupyter-widgets/controls",
            "_model_module_version": "1.5.0",
            "_model_name": "DescriptionStyleModel",
            "_view_count": null,
            "_view_module": "@jupyter-widgets/base",
            "_view_module_version": "1.2.0",
            "_view_name": "StyleView",
            "description_width": ""
          }
        },
        "e740ef3ddf66407eaa27f3bf99443aec": {
          "model_module": "@jupyter-widgets/base",
          "model_name": "LayoutModel",
          "model_module_version": "1.2.0",
          "state": {
            "_model_module": "@jupyter-widgets/base",
            "_model_module_version": "1.2.0",
            "_model_name": "LayoutModel",
            "_view_count": null,
            "_view_module": "@jupyter-widgets/base",
            "_view_module_version": "1.2.0",
            "_view_name": "LayoutView",
            "align_content": null,
            "align_items": null,
            "align_self": null,
            "border": null,
            "bottom": null,
            "display": null,
            "flex": null,
            "flex_flow": null,
            "grid_area": null,
            "grid_auto_columns": null,
            "grid_auto_flow": null,
            "grid_auto_rows": null,
            "grid_column": null,
            "grid_gap": null,
            "grid_row": null,
            "grid_template_areas": null,
            "grid_template_columns": null,
            "grid_template_rows": null,
            "height": null,
            "justify_content": null,
            "justify_items": null,
            "left": null,
            "margin": null,
            "max_height": null,
            "max_width": null,
            "min_height": null,
            "min_width": null,
            "object_fit": null,
            "object_position": null,
            "order": null,
            "overflow": null,
            "overflow_x": null,
            "overflow_y": null,
            "padding": null,
            "right": null,
            "top": null,
            "visibility": null,
            "width": null
          }
        },
        "040fb9b0db2f46b1950601aae6df6448": {
          "model_module": "@jupyter-widgets/controls",
          "model_name": "ButtonStyleModel",
          "model_module_version": "1.5.0",
          "state": {
            "_model_module": "@jupyter-widgets/controls",
            "_model_module_version": "1.5.0",
            "_model_name": "ButtonStyleModel",
            "_view_count": null,
            "_view_module": "@jupyter-widgets/base",
            "_view_module_version": "1.2.0",
            "_view_name": "StyleView",
            "button_color": null,
            "font_weight": ""
          }
        },
        "7d84d7bec2ac457094d29925861ec06d": {
          "model_module": "@jupyter-widgets/base",
          "model_name": "LayoutModel",
          "model_module_version": "1.2.0",
          "state": {
            "_model_module": "@jupyter-widgets/base",
            "_model_module_version": "1.2.0",
            "_model_name": "LayoutModel",
            "_view_count": null,
            "_view_module": "@jupyter-widgets/base",
            "_view_module_version": "1.2.0",
            "_view_name": "LayoutView",
            "align_content": null,
            "align_items": null,
            "align_self": null,
            "border": null,
            "bottom": null,
            "display": null,
            "flex": null,
            "flex_flow": null,
            "grid_area": null,
            "grid_auto_columns": null,
            "grid_auto_flow": null,
            "grid_auto_rows": null,
            "grid_column": null,
            "grid_gap": null,
            "grid_row": null,
            "grid_template_areas": null,
            "grid_template_columns": null,
            "grid_template_rows": null,
            "height": null,
            "justify_content": null,
            "justify_items": null,
            "left": null,
            "margin": null,
            "max_height": null,
            "max_width": null,
            "min_height": null,
            "min_width": null,
            "object_fit": null,
            "object_position": null,
            "order": null,
            "overflow": null,
            "overflow_x": null,
            "overflow_y": null,
            "padding": null,
            "right": null,
            "top": null,
            "visibility": null,
            "width": null
          }
        },
        "3b650b7296a14aba99e7b1655c565bab": {
          "model_module": "@jupyter-widgets/controls",
          "model_name": "DescriptionStyleModel",
          "model_module_version": "1.5.0",
          "state": {
            "_model_module": "@jupyter-widgets/controls",
            "_model_module_version": "1.5.0",
            "_model_name": "DescriptionStyleModel",
            "_view_count": null,
            "_view_module": "@jupyter-widgets/base",
            "_view_module_version": "1.2.0",
            "_view_name": "StyleView",
            "description_width": ""
          }
        },
        "27b75076576c4b06b7267a88626ffc12": {
          "model_module": "@jupyter-widgets/controls",
          "model_name": "LabelModel",
          "model_module_version": "1.5.0",
          "state": {
            "_dom_classes": [],
            "_model_module": "@jupyter-widgets/controls",
            "_model_module_version": "1.5.0",
            "_model_name": "LabelModel",
            "_view_count": null,
            "_view_module": "@jupyter-widgets/controls",
            "_view_module_version": "1.5.0",
            "_view_name": "LabelView",
            "description": "",
            "description_tooltip": null,
            "layout": "IPY_MODEL_516e93749a0e486b84ad87cef3eea777",
            "placeholder": "​",
            "style": "IPY_MODEL_d3a7e50a5ba84ab8adc5a43baf3c8623",
            "value": "Connecting..."
          }
        },
        "516e93749a0e486b84ad87cef3eea777": {
          "model_module": "@jupyter-widgets/base",
          "model_name": "LayoutModel",
          "model_module_version": "1.2.0",
          "state": {
            "_model_module": "@jupyter-widgets/base",
            "_model_module_version": "1.2.0",
            "_model_name": "LayoutModel",
            "_view_count": null,
            "_view_module": "@jupyter-widgets/base",
            "_view_module_version": "1.2.0",
            "_view_name": "LayoutView",
            "align_content": null,
            "align_items": null,
            "align_self": null,
            "border": null,
            "bottom": null,
            "display": null,
            "flex": null,
            "flex_flow": null,
            "grid_area": null,
            "grid_auto_columns": null,
            "grid_auto_flow": null,
            "grid_auto_rows": null,
            "grid_column": null,
            "grid_gap": null,
            "grid_row": null,
            "grid_template_areas": null,
            "grid_template_columns": null,
            "grid_template_rows": null,
            "height": null,
            "justify_content": null,
            "justify_items": null,
            "left": null,
            "margin": null,
            "max_height": null,
            "max_width": null,
            "min_height": null,
            "min_width": null,
            "object_fit": null,
            "object_position": null,
            "order": null,
            "overflow": null,
            "overflow_x": null,
            "overflow_y": null,
            "padding": null,
            "right": null,
            "top": null,
            "visibility": null,
            "width": null
          }
        },
        "d3a7e50a5ba84ab8adc5a43baf3c8623": {
          "model_module": "@jupyter-widgets/controls",
          "model_name": "DescriptionStyleModel",
          "model_module_version": "1.5.0",
          "state": {
            "_model_module": "@jupyter-widgets/controls",
            "_model_module_version": "1.5.0",
            "_model_name": "DescriptionStyleModel",
            "_view_count": null,
            "_view_module": "@jupyter-widgets/base",
            "_view_module_version": "1.2.0",
            "_view_name": "StyleView",
            "description_width": ""
          }
        }
      }
    }
  },
  "cells": [
    {
      "cell_type": "markdown",
      "source": [
        "# __<u>Классификация токенов</u>__"
      ],
      "metadata": {
        "id": "WMrCfT0XWOHN"
      }
    },
    {
      "cell_type": "markdown",
      "source": [
        "## __0. Импорт__"
      ],
      "metadata": {
        "id": "s7IfIr-pxBWB"
      }
    },
    {
      "cell_type": "code",
      "source": [
        "from huggingface_hub import notebook_login\n",
        "notebook_login()"
      ],
      "metadata": {
        "colab": {
          "base_uri": "https://localhost:8080/",
          "height": 17,
          "referenced_widgets": [
            "e169c3d2a7784cad99a7c8b583f4e21b",
            "ba4f417942e24d35870890a05b384576",
            "7add37ea6d96482086ecb46534b80b7c",
            "885a15e5587d4798b7a773b190130f2e",
            "75b27405651246d598cfd31a1bc1fb90",
            "f79eea02698d483094434fd4778ccffd",
            "2c51037c3bb2459aa4ab446767c82e13",
            "61be6b1e20674f898b2357a3c4777252",
            "73c1ec903d244b6894eae013a00d38d0",
            "2835429bebfe483ba7a0be6481abedd0",
            "f706a5000c1c45ba99e4e33b40bfe786",
            "2d7ccaf07cc14486a9e451c80e5a7881",
            "24c6c41dac9a48aea8aa320610ae14ca",
            "e740ef3ddf66407eaa27f3bf99443aec",
            "040fb9b0db2f46b1950601aae6df6448",
            "7d84d7bec2ac457094d29925861ec06d",
            "3b650b7296a14aba99e7b1655c565bab",
            "27b75076576c4b06b7267a88626ffc12",
            "516e93749a0e486b84ad87cef3eea777",
            "d3a7e50a5ba84ab8adc5a43baf3c8623"
          ]
        },
        "id": "xI5yrq1aXxBH",
        "outputId": "b911064a-c397-4b80-cced-bf5bb52fc9f8"
      },
      "execution_count": 8,
      "outputs": [
        {
          "output_type": "display_data",
          "data": {
            "text/plain": [
              "VBox(children=(HTML(value='<center> <img\\nsrc=https://huggingface.co/front/assets/huggingface_logo-noborder.sv…"
            ],
            "application/vnd.jupyter.widget-view+json": {
              "version_major": 2,
              "version_minor": 0,
              "model_id": "e169c3d2a7784cad99a7c8b583f4e21b"
            }
          },
          "metadata": {}
        }
      ]
    },
    {
      "cell_type": "code",
      "source": [
        "from transformers import pipeline\n",
        "# from huggingface_hub import list_models\n",
        "from transformers import AutoTokenizer, AutoModelForTokenClassification\n",
        "from huggingface_hub import model_info\n",
        "import torch"
      ],
      "metadata": {
        "id": "qHZQixm5evmD"
      },
      "execution_count": 47,
      "outputs": []
    },
    {
      "cell_type": "markdown",
      "source": [
        "## __1. Задачи NER (Named Entity Recognition)__"
      ],
      "metadata": {
        "id": "4B24M5X_WTv9"
      }
    },
    {
      "cell_type": "markdown",
      "source": [
        "### __1.1. model_1 - <font color='lightgreen'>dbmdz/bert-large-cased-finetuned-conll03-english</font>__  \n",
        "https://huggingface.co/dbmdz/bert-large-cased-finetuned-conll03-english"
      ],
      "metadata": {
        "id": "GLLBc12IWXuf"
      }
    },
    {
      "cell_type": "markdown",
      "source": [
        "#### Входные данные"
      ],
      "metadata": {
        "id": "ZFLNt6eQfRkB"
      }
    },
    {
      "cell_type": "code",
      "source": [
        "# Проверяем, существует ли подходящая\n",
        "# предобученная модель (если есть информация - модель существует)\n",
        "model_name_1 = \"dbmdz/bert-large-cased-finetuned-conll03-english\"\n",
        "info_1 = model_info(model_name_1)\n",
        "print(info_1)"
      ],
      "metadata": {
        "colab": {
          "base_uri": "https://localhost:8080/",
          "height": 0
        },
        "id": "p7DijKhn88vD",
        "outputId": "b5781b87-0320-42fc-9db0-7674c85a1ed5"
      },
      "execution_count": 67,
      "outputs": [
        {
          "output_type": "stream",
          "name": "stdout",
          "text": [
            "ModelInfo(id='dbmdz/bert-large-cased-finetuned-conll03-english', author='dbmdz', sha='4c534963167c08d4b8ff1f88733cf2930f86add0', created_at=datetime.datetime(2022, 3, 2, 23, 29, 5, tzinfo=datetime.timezone.utc), last_modified=datetime.datetime(2023, 9, 6, 22, 17, 56, tzinfo=datetime.timezone.utc), private=False, disabled=False, downloads=1444675, downloads_all_time=None, gated=False, gguf=None, inference='warm', likes=78, library_name='transformers', tags=['transformers', 'pytorch', 'tf', 'jax', 'rust', 'safetensors', 'bert', 'token-classification', 'autotrain_compatible', 'endpoints_compatible', 'region:us'], pipeline_tag='token-classification', mask_token='[MASK]', card_data=None, widget_data=[{'text': 'My name is Wolfgang and I live in Berlin'}, {'text': 'My name is Sarah and I live in London'}, {'text': 'My name is Clara and I live in Berkeley, California.'}], model_index=None, config={'architectures': ['BertForTokenClassification'], 'model_type': 'bert', 'tokenizer_config': {}}, transformers_info=TransformersInfo(auto_model='AutoModelForTokenClassification', custom_class=None, pipeline_tag='token-classification', processor='AutoTokenizer'), trending_score=None, siblings=[RepoSibling(rfilename='.gitattributes', size=None, blob_id=None, lfs=None), RepoSibling(rfilename='config.json', size=None, blob_id=None, lfs=None), RepoSibling(rfilename='flax_model.msgpack', size=None, blob_id=None, lfs=None), RepoSibling(rfilename='model.safetensors', size=None, blob_id=None, lfs=None), RepoSibling(rfilename='pytorch_model.bin', size=None, blob_id=None, lfs=None), RepoSibling(rfilename='rust_model.ot', size=None, blob_id=None, lfs=None), RepoSibling(rfilename='tf_model.h5', size=None, blob_id=None, lfs=None), RepoSibling(rfilename='tokenizer_config.json', size=None, blob_id=None, lfs=None), RepoSibling(rfilename='vocab.txt', size=None, blob_id=None, lfs=None)], spaces=['zjunlp/KGEditor', 'UjjwalVIT/Text_analysis_and_metadata_app', 'DevBM/QGen', 'Eddevs/brian-challenge', 'Manojajj/dbmdz-bert-large-cased-finetuned', 'kparkhade/nlp-genius', 'sandeepmajumdar/nlp-sorcery', 'LampOfSocrates/hf-nlp-cw-group27', 'imenayadi/Smart-inbox', 'DevBM/MCQ-Generator-from-PDFs', 'Ranadani/Web_Application_Resume', 'dwb2023/toy-intelligence', 'green/TopicDig', 'HamidBekam/Text_NER_HFMs_Streamlit', 'koalsky/koal', 'JaCrispy35/financial_sentiment_analysis_advisor', 'blasblues/nlpproyect', 'ganeshkamath89/NamedEntityRecognition', 'LegendaryToe/SqlParser', 'zeimoto/voicelead', 'iShare/hf-pipeline-API', 'liewchooichin/ner_from_pretrained', 'cm0805/ResuMate_NVIDIA', 'LampOfSocrates/hf_streamlit_plodcw_group27', 'LampOfSocrates/hf_gradio_plodcw_group27', 'Artteiv/arxiv_chatbot', 'ArxivBot/arxiv_chatbot', 'hrguarinv/fastlane', 'achink/tcbProductFlavors', 'nafees369/NER', 'antoniorached/Named-Entity-Recognition', 'BabiesAlexander/ppp', 'thewall0308/scoutingservice2', 'tchans123/resume_enhancement_tool', 'huimanho/Customer-Feedback-Analysis', 'Guilianno/Reservoir-properties-calculator', 'saifeddinemk/cv_job', 'Appendage5203/for_distilbert_squad', 'DreamStream-1/HR-New', 'DreamStream-1/HR-Test', 'Manojajj/bert-base-cased-resume_parser', 'Manojajj/Resume_parser_excel_to_excel', 'CephasAldrich/Post_Disaster_AidCenter', 'CephasAldrich/Post_Disaster_Relief', 'kltn20133118/demo_obsei', 'AR14020/Invoice_creation', 'EngrNarmeen/Environmental_Compliance_Checker', 'fmohsen22/chatbot_cosmeticshop', 'AskarBekB/Mr_Translater', 'sam6309/text_to_video', 'Zainajabroh/Discussion_Buddy', 'Gopi9177/NLP', 'KrishanRao/URL', 'muqeet1234/Named-Entity-Recognition', 'Felguk/Simple-test-apps', 'jdasic/TrainTravelGradio', 'Jagadeesh2411/NLP', 'raz-1412/chat-dynamics-analysis', 'svsaurav95/Moderation_bot', 'gauravprakashh/SentinelBot', 'kohlin/nlp-project', 'thlinhares/docling', 'Mummia-99/Nlp_pipelines', 'elikwame/climate_disclosure', 'Zoe911/Transformers-NER', 'kanneboinakumar/transformers-pipeline'], safetensors=SafeTensorsInfo(parameters={'F32': 333588489}, total=333588489), security_repo_status=None)\n"
          ]
        }
      ]
    },
    {
      "cell_type": "code",
      "source": [
        "# Чтобы посмотреть, на определение каких типов сущностей настроена модель\n",
        "# надо загрузить ее через AutoModelForTokenClassification и обратиться\n",
        "# к результату ее вызова\n",
        "model_11 = AutoModelForTokenClassification.from_pretrained(model_name_1)\n",
        "labels_11 = model_11.config.id2label\n",
        "print(\"Метки сущностей:\", labels_11)"
      ],
      "metadata": {
        "colab": {
          "base_uri": "https://localhost:8080/"
        },
        "id": "A0alhjjy9aWj",
        "outputId": "162e468b-54e5-41b5-e6db-d17aee3ddd32"
      },
      "execution_count": 99,
      "outputs": [
        {
          "output_type": "stream",
          "name": "stderr",
          "text": [
            "Some weights of the model checkpoint at dbmdz/bert-large-cased-finetuned-conll03-english were not used when initializing BertForTokenClassification: ['bert.pooler.dense.bias', 'bert.pooler.dense.weight']\n",
            "- This IS expected if you are initializing BertForTokenClassification from the checkpoint of a model trained on another task or with another architecture (e.g. initializing a BertForSequenceClassification model from a BertForPreTraining model).\n",
            "- This IS NOT expected if you are initializing BertForTokenClassification from the checkpoint of a model that you expect to be exactly identical (initializing a BertForSequenceClassification model from a BertForSequenceClassification model).\n"
          ]
        },
        {
          "output_type": "stream",
          "name": "stdout",
          "text": [
            "Метки сущностей: {0: 'O', 1: 'B-MISC', 2: 'I-MISC', 3: 'B-PER', 4: 'I-PER', 5: 'B-ORG', 6: 'I-ORG', 7: 'B-LOC', 8: 'I-LOC'}\n"
          ]
        }
      ]
    },
    {
      "cell_type": "code",
      "source": [
        "len(labels_11)"
      ],
      "metadata": {
        "colab": {
          "base_uri": "https://localhost:8080/"
        },
        "id": "b402bCCvZjLo",
        "outputId": "505b85df-6c25-4965-ba95-3d6033deee78"
      },
      "execution_count": 100,
      "outputs": [
        {
          "output_type": "execute_result",
          "data": {
            "text/plain": [
              "9"
            ]
          },
          "metadata": {},
          "execution_count": 100
        }
      ]
    },
    {
      "cell_type": "code",
      "source": [
        "text_1 = \"My name is Sylvain and I work at Hugging Face in Brooklyn.\""
      ],
      "metadata": {
        "id": "B8NvtRaoA0Tb"
      },
      "execution_count": null,
      "outputs": []
    },
    {
      "cell_type": "markdown",
      "source": [
        "##### Итого: Модель определяет 4 типа сущностей для задачи NER:  "
      ],
      "metadata": {
        "id": "Xc24StpM-Uyw"
      }
    },
    {
      "cell_type": "markdown",
      "source": [
        "<small>- `MISC` – Разные (Miscellaneous), любые другие именованные сущности, не попадающие в предыдущие категории\n",
        "- `PER` – Имена людей (Person)  \n",
        "- `LOC` – Географические объекты (Location), такие как города, страны, континенты  \n",
        "- `ORG` – Организации (Organization), включая компании, спортивные команды, правительства</small>"
      ],
      "metadata": {
        "id": "6_DESmnEI4Jz"
      }
    },
    {
      "cell_type": "markdown",
      "source": [
        "#### A - pipline"
      ],
      "metadata": {
        "id": "eDM3Emofm1vu"
      }
    },
    {
      "cell_type": "code",
      "execution_count": null,
      "metadata": {
        "id": "BPkVT2FFVrax"
      },
      "outputs": [],
      "source": [
        "# Создаем преднастроенный пайплайн (цепочку обработки данных) для задачи NER\n",
        "token_classifier_1 = pipeline(\n",
        "    \"token-classification\", model=model_name_1, aggregation_strategy=\"simple\"\n",
        ")"
      ]
    },
    {
      "cell_type": "markdown",
      "source": [
        "##### Comments about: <font color='orange'>aggregation_strategy=\"simple\"</font> -"
      ],
      "metadata": {
        "id": "UZw0mWv2qapX"
      }
    },
    {
      "cell_type": "markdown",
      "source": [
        "<small>oпределяет, как объединять предсказания модели. В BERT одно слово может быть разбито на несколько подслов (subwords), например: \"Hugging Face\" → [\"Hug\", \"##ging\", \"Face\"]. Чтобы не получать предсказания для каждого подслова отдельно, `aggregation_strategy=\"simple\"` объединяет их в одно слово.  \n",
        "Без агрегации модель вернет что-то вроде:\n",
        "```\n",
        "[ {'word': 'Hug', 'entity': 'ORG', 'score': 0.98},\n",
        "  {'word': '##ging', 'entity': 'ORG', 'score': 0.97},\n",
        "  {'word': 'Face', 'entity': 'ORG', 'score': 0.99}]\n",
        "```  \n",
        "Другие стратегии агрегации:\n",
        "- `\"none\"` — не объединяет подслова (отдельные предсказания для каждого токена).  \n",
        "- `\"first\"` — берет метку только для первого подслова.  \n",
        "- `\"average\"` — усредняет предсказания.  \n",
        "- `\"max\"` — берет метку с наибольшей вероятностью.</small>  "
      ],
      "metadata": {
        "id": "cco3xnLpqmwT"
      }
    },
    {
      "cell_type": "markdown",
      "source": [
        "##### Тест"
      ],
      "metadata": {
        "id": "aZ1WSQpDrAyf"
      }
    },
    {
      "cell_type": "code",
      "source": [
        "result = token_classifier_1(text_1)\n",
        "print(result)\n",
        "words = [entry['word'] for entry in result] # Фильтруем только слова\n",
        "print(words)\n",
        "words_and_probabilities = [(entry['word'], entry['score']) for entry in result] # Фильтруем слова и вероятности\n",
        "print(words_and_probabilities)"
      ],
      "metadata": {
        "colab": {
          "base_uri": "https://localhost:8080/",
          "height": 0
        },
        "id": "5syFYFbrrC56",
        "outputId": "f86a894b-11ad-4c8a-8782-89d1d46e013b"
      },
      "execution_count": 71,
      "outputs": [
        {
          "output_type": "stream",
          "name": "stdout",
          "text": [
            "[{'entity_group': 'PER', 'score': 0.9981694, 'word': 'Sylvain', 'start': 11, 'end': 18}, {'entity_group': 'ORG', 'score': 0.9796019, 'word': 'Hugging Face', 'start': 33, 'end': 45}, {'entity_group': 'LOC', 'score': 0.9932106, 'word': 'Brooklyn', 'start': 49, 'end': 57}]\n",
            "['Sylvain', 'Hugging Face', 'Brooklyn']\n",
            "[('Sylvain', 0.9981694), ('Hugging Face', 0.9796019), ('Brooklyn', 0.9932106)]\n"
          ]
        }
      ]
    },
    {
      "cell_type": "markdown",
      "source": [
        "#### B - AutoModelForTokenClassification"
      ],
      "metadata": {
        "id": "dEORZf26pVVl"
      }
    },
    {
      "cell_type": "code",
      "source": [
        "# model_11 = AutoModelForTokenClassification.from_pretrained(model_name_1)\n",
        "# (мы это сделали выше, когда получали информацию об модели)\n",
        "tokenizer_11 = AutoTokenizer.from_pretrained(model_name_1)"
      ],
      "metadata": {
        "id": "JwiUXRHB8pav"
      },
      "execution_count": 73,
      "outputs": []
    },
    {
      "cell_type": "markdown",
      "source": [
        "<font color='yellow'>Дальше возникает проблема.  В отличии от работы через pipline, здесь приходится самостоятельно обрабатывать процедуры токенизации. И в результате их\n",
        "- токенизация:  `inputs_11 = tokenizer_11(text_1, return_tensors=\"pt\", truncation=True, padding=True, is_split_into_words=False)`   \n",
        "- связь токенов с исходными словами: `word_ids = inputs_11.word_ids()`  \n",
        "- предсказание\n",
        "```\n",
        "with torch.no_grad()`:  # отключаем градиенты  \n",
        "    outputs = model_11(**inputs_11)\n",
        "```\n",
        "- далее смотрим на логиты (предсказания) для каждого токена\n",
        "```\n",
        "logits = outputs.logits\n",
        "print(\"logits:\", logits)\n",
        "```   \n",
        "и обнаруживаем, что нет максимальных значений на начальных частях слова (а слова разбиты на токены), в результате метки \"B-\" не регистрируются, только метки продолжения слова \"I-\". Далее надо все это в ручную исправлять, что затратно...</font>  "
      ],
      "metadata": {
        "id": "2wXwQANocrLl"
      }
    },
    {
      "cell_type": "markdown",
      "source": [
        "##### Тест"
      ],
      "metadata": {
        "id": "ON1Qefmx01jP"
      }
    },
    {
      "cell_type": "code",
      "source": [
        "# # В отличии от работы через pipline, здесь нам надо самостоятельно токенизировать текст\n",
        "# inputs_11 = tokenizer_11(text_1, return_tensors=\"pt\", truncation=True, padding=True, is_split_into_words=False)\n",
        "# word_ids = inputs_11.word_ids()  # Связь токенов с исходными словами\n",
        "# # Получаем предсказания\n",
        "# with torch.no_grad():  # отключаем градиенты, так как мы только делаем предсказание\n",
        "#     outputs = model_11(**inputs_11)\n",
        "\n",
        "# # Логиты (предсказания) для каждого токена\n",
        "# logits = outputs.logits\n",
        "# print(\"logits:\", logits)\n",
        "\n",
        "# # Получаем метки для предсказанных классов\n",
        "# labels = model_11.config.id2label\n",
        "# print(\"labels:\",  labels)\n",
        "# # Есть {0: 'O', 1: 'B-MISC', 2: 'I-MISC', 3: 'B-PER', 4: 'I-PER', 5: 'B-ORG', 6: 'I-ORG', 7: 'B-LOC', 8: 'I-LOC'}\n",
        "\n",
        "# # Получаем индексы максимальных логитов (предсказания классов)\n",
        "# predicted_ids = torch.argmax(logits, dim=2).squeeze().tolist()\n",
        "# print(f\"Predicted IDs: {predicted_ids}\")\n",
        "# # не совпадают, нет 1, 3, 5, 7 - [0, 0, 0, 0, 4, 4, 4, 4, 0, 0, 0, 0, 6, 6, 6, 0, 8, 0, 0]\n",
        "\n",
        "# # # Преобразуем токены и метки в сущности (агрегация как в pipeline)\n",
        "# tokens = tokenizer_11.convert_ids_to_tokens(inputs_11[\"input_ids\"].squeeze())\n",
        "# print(tokens)\n"
      ],
      "metadata": {
        "colab": {
          "base_uri": "https://localhost:8080/"
        },
        "id": "IN_WpaEBuPza",
        "outputId": "05539ac6-347d-4859-cf1c-1b60d9888e15"
      },
      "execution_count": 101,
      "outputs": [
        {
          "output_type": "stream",
          "name": "stdout",
          "text": [
            "logits: tensor([[[ 8.7508, -2.2626, -1.5300, -2.2889, -0.6513, -2.0016, -0.0112,\n",
            "          -2.0860,  0.3335],\n",
            "         [ 8.4973, -2.3986, -1.3582, -2.7887,  0.7575, -1.8873,  0.4344,\n",
            "          -1.9900, -0.3397],\n",
            "         [ 9.4719, -2.2261, -0.9849, -2.6116,  0.1219, -2.0627, -0.1259,\n",
            "          -1.8758, -0.0609],\n",
            "         [ 9.8670, -2.2175, -1.3125, -2.4866, -0.2550, -1.8536,  0.0856,\n",
            "          -1.7520, -0.6437],\n",
            "         [-0.2011, -2.1873, -1.5316, -2.7110,  8.4025, -2.4168, -0.6980,\n",
            "          -3.0337, -0.0997],\n",
            "         [ 0.1065, -2.0520, -1.4787, -2.8139,  7.4525, -2.8399, -0.0626,\n",
            "          -3.3666, -0.4683],\n",
            "         [ 0.5985, -2.2538, -1.1926, -3.0111,  7.0070, -2.8675,  0.3492,\n",
            "          -3.3129, -0.2878],\n",
            "         [-0.0584, -2.2660, -1.4335, -3.1940,  8.3225, -2.6212, -0.0348,\n",
            "          -2.9780, -0.2957],\n",
            "         [ 9.6889, -2.4281, -1.5653, -2.5225, -0.9693, -1.5668,  0.4285,\n",
            "          -1.9413, -0.6774],\n",
            "         [ 9.0116, -2.1216, -1.4140, -2.6964,  0.2728, -1.7851,  0.3635,\n",
            "          -1.8407, -0.5922],\n",
            "         [ 9.5258, -2.2616, -1.4557, -2.9603, -0.1311, -1.7799,  0.9169,\n",
            "          -2.2549, -0.9692],\n",
            "         [ 9.1087, -2.2834, -1.3437, -2.8742, -0.2521, -1.5712,  1.1501,\n",
            "          -2.0786, -0.8658],\n",
            "         [ 2.5185, -3.1537, -1.6923, -3.4240,  1.4335, -1.8089,  6.5008,\n",
            "          -3.0264, -0.2619],\n",
            "         [ 1.7707, -2.4992, -0.1088, -3.2825,  0.4034, -1.4262,  5.9701,\n",
            "          -2.6502, -0.1259],\n",
            "         [ 0.6466, -2.9276, -0.1020, -3.0776,  0.7036, -1.2746,  6.3889,\n",
            "          -2.7266,  0.3822],\n",
            "         [ 9.2571, -2.6779, -1.2145, -2.7276, -0.9370, -1.5445,  1.1025,\n",
            "          -1.8477, -0.3661],\n",
            "         [-0.2206, -2.5108, -1.2976, -2.9758, -0.5795, -2.2071,  1.8236,\n",
            "          -1.6484,  7.0975],\n",
            "         [ 8.7507, -2.2626, -1.5300, -2.2890, -0.6513, -2.0016, -0.0112,\n",
            "          -2.0860,  0.3335],\n",
            "         [ 8.7508, -2.2626, -1.5300, -2.2889, -0.6513, -2.0016, -0.0112,\n",
            "          -2.0860,  0.3335]]])\n",
            "labels: {0: 'O', 1: 'B-MISC', 2: 'I-MISC', 3: 'B-PER', 4: 'I-PER', 5: 'B-ORG', 6: 'I-ORG', 7: 'B-LOC', 8: 'I-LOC'}\n",
            "Predicted IDs: [0, 0, 0, 0, 4, 4, 4, 4, 0, 0, 0, 0, 6, 6, 6, 0, 8, 0, 0]\n",
            "['[CLS]', 'My', 'name', 'is', 'S', '##yl', '##va', '##in', 'and', 'I', 'work', 'at', 'Hu', '##gging', 'Face', 'in', 'Brooklyn', '.', '[SEP]']\n"
          ]
        }
      ]
    },
    {
      "cell_type": "markdown",
      "source": [
        "### 1.2. Model - <font color='lightgreen'>tner/roberta-large-wnut2017</font>  \n",
        "https://huggingface.co/tner/roberta-large-wnut2017"
      ],
      "metadata": {
        "id": "_TBV2oeqM2Gz"
      }
    },
    {
      "cell_type": "markdown",
      "source": [
        "#### Входные данные"
      ],
      "metadata": {
        "id": "GyZwQCGVhLR9"
      }
    },
    {
      "cell_type": "code",
      "source": [
        "# Проверяем, существует ли подходящая\n",
        "# предобученная модель (если есть информация - модель существует)\n",
        "model_name_2 = \"tner/roberta-large-wnut2017\"\n",
        "info_2 = model_info(model_name_2)\n",
        "print(info_2)"
      ],
      "metadata": {
        "colab": {
          "base_uri": "https://localhost:8080/"
        },
        "id": "1sipod7xeH-t",
        "outputId": "db09349e-3fd5-4404-9c55-f12f81087dbf"
      },
      "execution_count": 103,
      "outputs": [
        {
          "output_type": "stream",
          "name": "stdout",
          "text": [
            "ModelInfo(id='tner/roberta-large-wnut2017', author='tner', sha='e2e15e43657d08a44459430d8413563e709622af', created_at=datetime.datetime(2022, 8, 9, 23, 12, 35, tzinfo=datetime.timezone.utc), last_modified=datetime.datetime(2022, 9, 26, 14, 16, 19, tzinfo=datetime.timezone.utc), private=False, disabled=False, downloads=1059, downloads_all_time=None, gated=False, gguf=None, inference=None, likes=0, library_name='transformers', tags=['transformers', 'pytorch', 'roberta', 'token-classification', 'dataset:wnut2017', 'model-index', 'autotrain_compatible', 'endpoints_compatible', 'region:us'], pipeline_tag='token-classification', mask_token='<mask>', card_data={'base_model': None, 'datasets': ['wnut2017'], 'eval_results': [EvalResult(task_type='token-classification', dataset_type='wnut2017', dataset_name='wnut2017', metric_type='f1', metric_value=0.5375139977603584, task_name='Token Classification', dataset_config=None, dataset_split=None, dataset_revision=None, dataset_args='wnut2017', metric_name='F1', metric_config=None, metric_args=None, verified=False, verify_token=None, source_name=None, source_url=None), EvalResult(task_type='token-classification', dataset_type='wnut2017', dataset_name='wnut2017', metric_type='precision', metric_value=0.6789250353606789, task_name='Token Classification', dataset_config=None, dataset_split=None, dataset_revision=None, dataset_args='wnut2017', metric_name='Precision', metric_config=None, metric_args=None, verified=False, verify_token=None, source_name=None, source_url=None), EvalResult(task_type='token-classification', dataset_type='wnut2017', dataset_name='wnut2017', metric_type='recall', metric_value=0.4448563484708063, task_name='Token Classification', dataset_config=None, dataset_split=None, dataset_revision=None, dataset_args='wnut2017', metric_name='Recall', metric_config=None, metric_args=None, verified=False, verify_token=None, source_name=None, source_url=None), EvalResult(task_type='token-classification', dataset_type='wnut2017', dataset_name='wnut2017', metric_type='f1_macro', metric_value=0.4734480458244917, task_name='Token Classification', dataset_config=None, dataset_split=None, dataset_revision=None, dataset_args='wnut2017', metric_name='F1 (macro)', metric_config=None, metric_args=None, verified=False, verify_token=None, source_name=None, source_url=None), EvalResult(task_type='token-classification', dataset_type='wnut2017', dataset_name='wnut2017', metric_type='precision_macro', metric_value=0.59471614080646, task_name='Token Classification', dataset_config=None, dataset_split=None, dataset_revision=None, dataset_args='wnut2017', metric_name='Precision (macro)', metric_config=None, metric_args=None, verified=False, verify_token=None, source_name=None, source_url=None), EvalResult(task_type='token-classification', dataset_type='wnut2017', dataset_name='wnut2017', metric_type='recall_macro', metric_value=0.4020936892146829, task_name='Token Classification', dataset_config=None, dataset_split=None, dataset_revision=None, dataset_args='wnut2017', metric_name='Recall (macro)', metric_config=None, metric_args=None, verified=False, verify_token=None, source_name=None, source_url=None), EvalResult(task_type='token-classification', dataset_type='wnut2017', dataset_name='wnut2017', metric_type='f1_entity_span', metric_value=0.6304591265397536, task_name='Token Classification', dataset_config=None, dataset_split=None, dataset_revision=None, dataset_args='wnut2017', metric_name='F1 (entity span)', metric_config=None, metric_args=None, verified=False, verify_token=None, source_name=None, source_url=None), EvalResult(task_type='token-classification', dataset_type='wnut2017', dataset_name='wnut2017', metric_type='precision_entity_span', metric_value=0.7963224893917963, task_name='Token Classification', dataset_config=None, dataset_split=None, dataset_revision=None, dataset_args='wnut2017', metric_name='Precision (entity span)', metric_config=None, metric_args=None, verified=False, verify_token=None, source_name=None, source_url=None), EvalResult(task_type='token-classification', dataset_type='wnut2017', dataset_name='wnut2017', metric_type='recall_entity_span', metric_value=0.5217794253938832, task_name='Token Classification', dataset_config=None, dataset_split=None, dataset_revision=None, dataset_args='wnut2017', metric_name='Recall (entity span)', metric_config=None, metric_args=None, verified=False, verify_token=None, source_name=None, source_url=None)], 'language': None, 'library_name': None, 'license': None, 'license_name': None, 'license_link': None, 'metrics': ['f1', 'precision', 'recall'], 'model_name': 'tner/roberta-large-wnut2017', 'pipeline_tag': 'token-classification', 'tags': None, 'widget': [{'text': 'Jacob Collier is a Grammy awarded artist from England.', 'example_title': 'NER Example 1'}]}, widget_data=[{'text': 'Jacob Collier is a Grammy awarded artist from England.', 'example_title': 'NER Example 1'}], model_index=[{'name': 'tner/roberta-large-wnut2017', 'results': [{'task': {'name': 'Token Classification', 'type': 'token-classification'}, 'dataset': {'name': 'wnut2017', 'type': 'wnut2017', 'args': 'wnut2017'}, 'metrics': [{'name': 'F1', 'type': 'f1', 'value': 0.5375139977603584, 'verified': False}, {'name': 'Precision', 'type': 'precision', 'value': 0.6789250353606789, 'verified': False}, {'name': 'Recall', 'type': 'recall', 'value': 0.4448563484708063, 'verified': False}, {'name': 'F1 (macro)', 'type': 'f1_macro', 'value': 0.4734480458244917, 'verified': False}, {'name': 'Precision (macro)', 'type': 'precision_macro', 'value': 0.59471614080646, 'verified': False}, {'name': 'Recall (macro)', 'type': 'recall_macro', 'value': 0.4020936892146829, 'verified': False}, {'name': 'F1 (entity span)', 'type': 'f1_entity_span', 'value': 0.6304591265397536, 'verified': False}, {'name': 'Precision (entity span)', 'type': 'precision_entity_span', 'value': 0.7963224893917963, 'verified': False}, {'name': 'Recall (entity span)', 'type': 'recall_entity_span', 'value': 0.5217794253938832, 'verified': False}]}]}], config={'architectures': ['RobertaForTokenClassification'], 'model_type': 'roberta', 'tokenizer_config': {'bos_token': '<s>', 'cls_token': '<s>', 'eos_token': '</s>', 'mask_token': '<mask>', 'pad_token': '<pad>', 'sep_token': '</s>', 'unk_token': '<unk>'}}, transformers_info=TransformersInfo(auto_model='AutoModelForTokenClassification', custom_class=None, pipeline_tag='token-classification', processor='AutoTokenizer'), trending_score=None, siblings=[RepoSibling(rfilename='.gitattributes', size=None, blob_id=None, lfs=None), RepoSibling(rfilename='README.md', size=None, blob_id=None, lfs=None), RepoSibling(rfilename='config.json', size=None, blob_id=None, lfs=None), RepoSibling(rfilename='eval/metric.json', size=None, blob_id=None, lfs=None), RepoSibling(rfilename='eval/metric_span.json', size=None, blob_id=None, lfs=None), RepoSibling(rfilename='merges.txt', size=None, blob_id=None, lfs=None), RepoSibling(rfilename='pytorch_model.bin', size=None, blob_id=None, lfs=None), RepoSibling(rfilename='special_tokens_map.json', size=None, blob_id=None, lfs=None), RepoSibling(rfilename='tokenizer.json', size=None, blob_id=None, lfs=None), RepoSibling(rfilename='tokenizer_config.json', size=None, blob_id=None, lfs=None), RepoSibling(rfilename='trainer_config.json', size=None, blob_id=None, lfs=None), RepoSibling(rfilename='vocab.json', size=None, blob_id=None, lfs=None)], spaces=[], safetensors=None, security_repo_status=None)\n"
          ]
        }
      ]
    },
    {
      "cell_type": "code",
      "source": [
        "# Чтобы посмотреть, на определение каких типов сущностей настроена модель\n",
        "# надо загрузить ее через AutoModelForTokenClassification и обратиться\n",
        "# к результату ее вызова\n",
        "model_22 = AutoModelForTokenClassification.from_pretrained(model_name_2)\n",
        "labels_22 = model_22.config.id2label\n",
        "print(\"Метки сущностей:\", labels_22)"
      ],
      "metadata": {
        "colab": {
          "base_uri": "https://localhost:8080/"
        },
        "id": "62kx6Knk8V4S",
        "outputId": "0269557f-e4a2-4f41-f4f6-e532ee394b5a"
      },
      "execution_count": 104,
      "outputs": [
        {
          "output_type": "stream",
          "name": "stdout",
          "text": [
            "Метки сущностей: {0: 'B-corporation', 1: 'B-creative-work', 2: 'B-group', 3: 'B-location', 4: 'B-person', 5: 'B-product', 6: 'I-corporation', 7: 'I-creative-work', 8: 'I-group', 9: 'I-location', 10: 'I-person', 11: 'I-product', 12: 'O'}\n"
          ]
        }
      ]
    },
    {
      "cell_type": "code",
      "source": [
        "len(labels_22)"
      ],
      "metadata": {
        "colab": {
          "base_uri": "https://localhost:8080/"
        },
        "id": "BSHMhA_mg-H3",
        "outputId": "761e2fbf-9e65-460d-e1bd-f82079105c24"
      },
      "execution_count": 105,
      "outputs": [
        {
          "output_type": "execute_result",
          "data": {
            "text/plain": [
              "13"
            ]
          },
          "metadata": {},
          "execution_count": 105
        }
      ]
    },
    {
      "cell_type": "markdown",
      "source": [
        "##### Итого: Модель определяет 6 типов сущностей для задачи NER:  "
      ],
      "metadata": {
        "id": "d71FndY3hWqb"
      }
    },
    {
      "cell_type": "markdown",
      "source": [
        "\n",
        "- <small>`person` – Имена людей  \n",
        "- `location` – Любые географические объекты (города, страны, улицы, природные объекты)\n",
        "- `corporation` – Организации и компании  \n",
        "- `product` – Продукты (софт, устройства, транспортные средства)  \n",
        "- `creative-work` – Произведения искусства (фильмы, книги, песни и т. д.)  \n",
        "- `group` – Музыкальные группы, спортивные команды, сообщества  \n",
        "Эта модель ориентирована на обработку шумных данных (например, текстов из соцсетей и форумов), где встречаются неформатированные и нестандартные именованные сущности.</small>"
      ],
      "metadata": {
        "id": "egE-eahYhFks"
      }
    },
    {
      "cell_type": "markdown",
      "source": [
        "#### A - pipline"
      ],
      "metadata": {
        "id": "pFRdfU5KhoCe"
      }
    },
    {
      "cell_type": "code",
      "source": [
        "# Создаем преднастроенный пайплайн (цепочку обработки данных) для задачи NER\n",
        "token_classifier_2 = pipeline(\n",
        "    \"token-classification\", model_name_2, aggregation_strategy=\"simple\"\n",
        ")"
      ],
      "metadata": {
        "colab": {
          "base_uri": "https://localhost:8080/"
        },
        "id": "n3J8f2qFg0y4",
        "outputId": "77bf9ccc-b4fb-4d51-f514-9e5e5c010b62"
      },
      "execution_count": 108,
      "outputs": [
        {
          "output_type": "stream",
          "name": "stderr",
          "text": [
            "Device set to use cpu\n"
          ]
        }
      ]
    },
    {
      "cell_type": "markdown",
      "source": [
        "##### Тест"
      ],
      "metadata": {
        "id": "77-Gq2mIh9mR"
      }
    },
    {
      "cell_type": "code",
      "source": [
        "text_2 = \"My name is Shaps.I work in Greenlife in Antaly.\"\n",
        "text_22 = \"My name is Shaps.I work in Greenlife in Antaly. I create paintings.\""
      ],
      "metadata": {
        "id": "-AyS7Ux7kMVQ"
      },
      "execution_count": 131,
      "outputs": []
    },
    {
      "cell_type": "code",
      "source": [
        "result = token_classifier_1(text_2)\n",
        "# print(result)\n",
        "# words = [entry['word'] for entry in result] # Фильтруем только слова\n",
        "# print(words)\n",
        "words_and_probabilities = [(entry['word'], entry['entity_group'], entry['score']) for entry in result] # Фильтруем слова и вероятности\n",
        "print(words_and_probabilities)"
      ],
      "metadata": {
        "colab": {
          "base_uri": "https://localhost:8080/"
        },
        "id": "08mfdBOwh3TO",
        "outputId": "9239efc1-1369-46e4-cec6-b7d0564ecce5"
      },
      "execution_count": 133,
      "outputs": [
        {
          "output_type": "stream",
          "name": "stdout",
          "text": [
            "[('Shaps', 'PER', 0.9949458), ('Greenlife', 'ORG', 0.9777943), ('Antaly', 'LOC', 0.9793875)]\n"
          ]
        }
      ]
    }
  ]
}